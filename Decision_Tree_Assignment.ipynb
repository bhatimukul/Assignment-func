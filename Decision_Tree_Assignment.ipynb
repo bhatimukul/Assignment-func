{
  "nbformat": 4,
  "nbformat_minor": 0,
  "metadata": {
    "colab": {
      "provenance": [],
      "authorship_tag": "ABX9TyOrXt/0ZQJOB7PyrWh0Elso",
      "include_colab_link": true
    },
    "kernelspec": {
      "name": "python3",
      "display_name": "Python 3"
    },
    "language_info": {
      "name": "python"
    }
  },
  "cells": [
    {
      "cell_type": "markdown",
      "metadata": {
        "id": "view-in-github",
        "colab_type": "text"
      },
      "source": [
        "<a href=\"https://colab.research.google.com/github/bhatimukul/Assignment-func/blob/main/Decision_Tree_Assignment.ipynb\" target=\"_parent\"><img src=\"https://colab.research.google.com/assets/colab-badge.svg\" alt=\"Open In Colab\"/></a>"
      ]
    },
    {
      "cell_type": "markdown",
      "source": [
        "# ***Theoretical***\n",
        "\n",
        "---\n",
        "\n"
      ],
      "metadata": {
        "id": "Gb-uV0mKOeeX"
      }
    },
    {
      "cell_type": "markdown",
      "source": [
        "Q1.What is a Decision Tree, and how does it work?"
      ],
      "metadata": {
        "id": "ujygXdjoO2nk"
      }
    },
    {
      "cell_type": "markdown",
      "source": [
        "Ans.A **Decision Tree** is a supervised machine learning algorithm used for classification and regression tasks. It models decisions using a tree-like structure, where each internal node represents a decision based on a feature, each branch represents an outcome, and each leaf node represents a final classification or prediction.\n",
        "\n",
        "### **How Does a Decision Tree Work?**\n",
        "1. **Start with the Root Node:**  \n",
        "   - The algorithm selects the best feature (attribute) to split the data based on criteria like **Gini Impurity**, **Entropy (Information Gain)**, or **Mean Squared Error (for regression).**\n",
        "\n",
        "2. **Recursive Splitting:**  \n",
        "   - The dataset is divided into subsets based on feature values.\n",
        "   - The process continues recursively, creating child nodes.\n",
        "\n",
        "3. **Stopping Criteria:**  \n",
        "   - Splitting stops when:\n",
        "     - A node becomes pure (all samples belong to one class).\n",
        "     - A maximum depth is reached.\n",
        "     - Further splitting does not improve results significantly.\n",
        "\n",
        "4. **Prediction:**  \n",
        "   - For classification: A sample follows the path in the tree until it reaches a leaf node, which gives the predicted class.\n",
        "   - For regression: The average value of samples in a leaf node is used as the prediction.\n",
        "\n",
        "### **Advantages of Decision Trees:**\n",
        "✔️ Easy to understand and interpret  \n",
        "✔️ Requires minimal data preprocessing  \n",
        "✔️ Handles both numerical and categorical data  \n",
        "✔️ Works well with large datasets  \n",
        "\n",
        "### **Disadvantages:**\n",
        "❌ Prone to overfitting (can create very complex trees)  \n",
        "❌ Sensitive to small variations in data  \n",
        "❌ May not generalize well without pruning or setting depth limits  \n",
        "\n",
        "### **Common Variants:**\n",
        "- **Random Forest**: An ensemble of multiple decision trees to improve accuracy.\n",
        "- **Gradient Boosting Trees (XGBoost, LightGBM, etc.)**: A sequential method improving weak trees iteratively.\n"
      ],
      "metadata": {
        "id": "IXqEi78mO8Lu"
      }
    },
    {
      "cell_type": "markdown",
      "source": [
        "Q2.What are impurity measures in Decision Trees?"
      ],
      "metadata": {
        "id": "6OAp9SEQPEoL"
      }
    },
    {
      "cell_type": "markdown",
      "source": [
        "Ans.### **Impurity Measures in Decision Trees**\n",
        "Impurity measures determine how \"pure\" or \"impure\" a node is in a Decision Tree. A node is **pure** if all its samples belong to a single class (for classification) or have similar values (for regression). Impurity measures help decide the best feature for splitting the data.\n",
        "\n",
        "### **1. Gini Impurity (for Classification)**\n",
        "Gini Impurity measures the probability of misclassifying a randomly chosen sample.\n",
        "\n",
        "\\[\n",
        "Gini = 1 - \\sum_{i=1}^{C} p_i^2\n",
        "\\]\n",
        "\n",
        "Where:  \n",
        "- \\( C \\) is the number of classes  \n",
        "- \\( p_i \\) is the probability of a sample belonging to class \\( i \\)  \n",
        "\n",
        "✔ **Range:** 0 (pure) to 0.5 (most impure with two classes)  \n",
        "✔ **Lower values are better (indicating higher purity).**  \n",
        "\n",
        "### **2. Entropy (Information Gain) (for Classification)**\n",
        "Entropy measures the amount of randomness (or disorder) in a node.\n",
        "\n",
        "\\[\n",
        "Entropy = -\\sum_{i=1}^{C} p_i \\log_2(p_i)\n",
        "\\]\n",
        "\n",
        "- If all samples belong to one class → Entropy = 0 (pure node).  \n",
        "- If classes are equally distributed → Entropy is maximum.  \n",
        "- **Information Gain** = Reduction in entropy after a split.\n",
        "\n",
        "✔ **Lower entropy means a better split**  \n",
        "✔ **Used in ID3 and C4.5 algorithms**  \n",
        "\n",
        "### **3. Mean Squared Error (MSE) (for Regression)**\n",
        "For regression trees, impurity is measured using **MSE**, which calculates the variance within a node.\n",
        "\n",
        "\\[\n",
        "MSE = \\frac{1}{N} \\sum_{i=1}^{N} (y_i - \\bar{y})^2\n",
        "\\]\n",
        "\n",
        "Where:  \n",
        "- \\( y_i \\) are the target values  \n",
        "- \\( \\bar{y} \\) is the mean target value of the node  \n",
        "\n",
        "✔ **Lower MSE indicates better homogeneity in a node.**  \n",
        "\n",
        "### **4. Mean Absolute Error (MAE) (for Regression)**\n",
        "Instead of squaring errors like MSE, MAE takes the absolute difference:\n",
        "\n",
        "\\[\n",
        "MAE = \\frac{1}{N} \\sum_{i=1}^{N} |y_i - \\bar{y}|\n",
        "\\]\n",
        "\n",
        "✔ **Less sensitive to outliers than MSE**  \n",
        "✔ **Not as commonly used in Decision Trees as MSE**  \n",
        "\n",
        "### **Which Impurity Measure to Use?**\n",
        "- **Gini Impurity** → Faster computation, used in **CART (Classification and Regression Trees)**.\n",
        "- **Entropy** → More informative, used in **ID3 and C4.5 algorithms**.\n",
        "- **MSE/MAE** → Used for regression problems.\n"
      ],
      "metadata": {
        "id": "99K83bclPJJp"
      }
    },
    {
      "cell_type": "markdown",
      "source": [
        "Q3.What is the mathematical formula for Gini Impurity?"
      ],
      "metadata": {
        "id": "zz2tDzkDPSsM"
      }
    },
    {
      "cell_type": "markdown",
      "source": [
        "Ans.The mathematical formula for **Gini Impurity** is:\n",
        "\n",
        "\\[\n",
        "Gini = 1 - \\sum_{i=1}^{C} p_i^2\n",
        "\\]\n",
        "\n",
        "Where:  \n",
        "- \\( C \\) is the total number of classes.  \n",
        "- \\( p_i \\) is the probability of a randomly chosen sample belonging to class \\( i \\).  \n",
        "\n",
        "### **Explanation:**\n",
        "- Gini Impurity measures the probability of **misclassifying** a randomly chosen sample if it is labeled according to the class distribution in the node.\n",
        "- If all samples in a node belong to one class (\\( p_i = 1 \\)), then **Gini = 0** (pure node).\n",
        "- If classes are equally distributed (\\( p_i = 0.5 \\) for two classes), then **Gini = 0.5** (maximum impurity for binary classification).\n",
        "\n",
        "### **Example Calculation:**\n",
        "Suppose a node has 10 samples:\n",
        "- 6 belong to **Class A** → \\( p_A = \\frac{6}{10} = 0.6 \\)\n",
        "- 4 belong to **Class B** → \\( p_B = \\frac{4}{10} = 0.4 \\)\n",
        "\n",
        "\\[\n",
        "Gini = 1 - (0.6^2 + 0.4^2)\n",
        "\\]\n",
        "\n",
        "\\[\n",
        "Gini = 1 - (0.36 + 0.16) = 1 - 0.52 = 0.48\n",
        "\\"
      ],
      "metadata": {
        "id": "QwkfiTDLPWsV"
      }
    },
    {
      "cell_type": "markdown",
      "source": [
        "Q4.What is the mathematical formula for Entropy?"
      ],
      "metadata": {
        "id": "YHobEN46P5tp"
      }
    },
    {
      "cell_type": "markdown",
      "source": [
        "Ans.The mathematical formula for **Entropy** in a Decision Tree is:\n",
        "\n",
        "\\[\n",
        "Entropy = -\\sum_{i=1}^{C} p_i \\log_2(p_i)\n",
        "\\]\n",
        "\n",
        "Where:  \n",
        "- \\( C \\) is the total number of classes.  \n",
        "- \\( p_i \\) is the probability of a randomly chosen sample belonging to class \\( i \\).  \n",
        "- \\( \\log_2 \\) is the logarithm base 2.\n",
        "\n",
        "### **Explanation:**\n",
        "- Entropy measures the amount of **uncertainty** (or disorder) in a node.\n",
        "- **Lower entropy** → More pure node (better split).\n",
        "- **Higher entropy** → More mixed classes (worse split).\n",
        "\n",
        "### **Entropy Values:**\n",
        "- **If a node is pure** (all samples belong to one class), then \\( p_i = 1 \\), so:\n",
        "\n",
        "  \\[\n",
        "  Entropy = - (1 \\cdot \\log_2 1) = 0\n",
        "  \\]\n",
        "\n",
        "- **If two classes are equally distributed** (\\( p_1 = 0.5 \\), \\( p_2 = 0.5 \\)):\n",
        "\n",
        "  \\[\n",
        "  Entropy = - (0.5 \\log_2 0.5 + 0.5 \\log_2 0.5)\n",
        "  \\]\n",
        "\n",
        "  \\[\n",
        "  = - (0.5 \\times -1 + 0.5 \\times -1) = 1\n",
        "  \\]\n",
        "\n",
        "  This is the **maximum entropy** for a binary classification.\n",
        "\n",
        "### **Example Calculation:**\n",
        "If a node has 10 samples:\n",
        "- 7 belong to **Class A** → \\( p_A = \\frac{7}{10} = 0.7 \\)\n",
        "- 3 belong to **Class B** → \\( p_B = \\frac{3}{10} = 0.3 \\)\n",
        "\n",
        "\\[\n",
        "Entropy = - (0.7 \\log_2 0.7 + 0.3 \\log_2 0.3)\n",
        "\\]\n",
        "\n",
        "Approximating log values:\n",
        "\n",
        "\\[\n",
        "= - (0.7 \\times (-0.514) + 0.3 \\times (-1.737))\n",
        "\\]\n",
        "\n",
        "\\[\n",
        "= - (-0.3598 - 0.5211) = 0.881\n",
        "\\]\n"
      ],
      "metadata": {
        "id": "HkH-xNV_P-ns"
      }
    },
    {
      "cell_type": "markdown",
      "source": [
        "Q5. What is Information Gain, and how is it used in Decision Trees?"
      ],
      "metadata": {
        "id": "lsdzeNpLRrts"
      }
    },
    {
      "cell_type": "markdown",
      "source": [
        "Ans.### **What is Information Gain?**  \n",
        "**Information Gain (IG)** is a measure used in decision trees to determine the best feature to split the data. It quantifies how much uncertainty (entropy) is reduced after a split.\n",
        "\n",
        "### **Mathematical Formula:**\n",
        "\\[\n",
        "IG = Entropy(Parent) - \\sum_{i=1}^{k} \\frac{N_i}{N} \\cdot Entropy(Child_i)\n",
        "\\]\n",
        "\n",
        "Where:  \n",
        "- \\( Entropy(Parent) \\) = Entropy before the split.  \n",
        "- \\( k \\) = Number of child nodes after the split.  \n",
        "- \\( N_i \\) = Number of samples in child node \\( i \\).  \n",
        "- \\( N \\) = Total number of samples in the parent node.  \n",
        "- \\( Entropy(Child_i) \\) = Entropy of the \\( i \\)th child node.  \n",
        "\n",
        "### **How is Information Gain Used in Decision Trees?**  \n",
        "1. **Calculate the Entropy of the Parent Node** (before the split).  \n",
        "2. **Split the data** based on a feature.  \n",
        "3. **Compute the weighted entropy** of the child nodes.  \n",
        "4. **Calculate Information Gain** using the formula.  \n",
        "5. **Choose the feature with the highest IG** for splitting the node.  \n",
        "\n",
        "### **Example Calculation:**\n",
        "Suppose a dataset has 10 samples:\n",
        "- **Before Split:** 6 Class A, 4 Class B → \\( Entropy_{parent} = 0.971 \\)\n",
        "- **After Split:**\n",
        "  - **Left Node (4 samples):** 3 Class A, 1 Class B → \\( Entropy_{left} = 0.811 \\)\n",
        "  - **Right Node (6 samples):** 3 Class A, 3 Class B → \\( Entropy_{right} = 1.000 \\)\n",
        "\n",
        "\\[\n",
        "IG = 0.971 - \\left(\\frac{4}{10} \\times 0.811 + \\frac{6}{10} \\times 1.000\\right)\n",
        "\\]\n",
        "\n",
        "\\[\n",
        "IG = 0.971 - (0.324 + 0.6) = 0.971 - 0.924 = 0.047\n",
        "\\]\n",
        "\n",
        "A higher **IG** means a better split, leading to a purer node.\n"
      ],
      "metadata": {
        "id": "r9C3m0clRxE2"
      }
    },
    {
      "cell_type": "markdown",
      "source": [
        "Q6.What is the difference between Gini Impurity and Entropy?"
      ],
      "metadata": {
        "id": "MOGeC61mR743"
      }
    },
    {
      "cell_type": "markdown",
      "source": [
        "Ans.### **Difference Between Gini Impurity and Entropy**\n",
        "\n",
        "| **Criteria**        | **Gini Impurity**                                      | **Entropy**                                            |\n",
        "|--------------------|------------------------------------------------------|------------------------------------------------------|\n",
        "| **Formula**       | \\( Gini = 1 - \\sum p_i^2 \\)                          | \\( Entropy = -\\sum p_i \\log_2 p_i \\)                |\n",
        "| **Range**         | 0 (pure) to 0.5 (for binary classification)          | 0 (pure) to 1 (for binary classification)          |\n",
        "| **Meaning**       | Measures the **probability of misclassification** if randomly chosen. | Measures the **degree of uncertainty (disorder)** in a node. |\n",
        "| **Computation**   | Easier to compute (does not involve logarithms).      | More computationally expensive (involves logarithms). |\n",
        "| **Splitting Behavior** | Tends to create **larger partitions** and is biased toward pure splits. | Can create **more balanced splits** (may not always be optimal). |\n",
        "| **Usage**        | Used in **CART (Classification and Regression Trees)**. | Used in **ID3, C4.5, and C5.0 Decision Trees**. |\n",
        "\n",
        "### **When to Use What?**\n",
        "- **Use Gini Impurity** when you want **faster calculations** and simpler trees.\n",
        "- **Use Entropy** when you want a **more information-theoretic approach** (reducing uncertainty more precisely).\n",
        "\n",
        "### **Example Comparison:**\n",
        "Suppose a node has:\n",
        "- **70% Class A** (\\( p_A = 0.7 \\))\n",
        "- **30% Class B** (\\( p_B = 0.3 \\))\n",
        "\n",
        "#### **Gini Impurity Calculation**\n",
        "\\[\n",
        "Gini = 1 - (0.7^2 + 0.3^2)\n",
        "\\]\n",
        "\\[\n",
        "= 1 - (0.49 + 0.09) = 0.42\n",
        "\\]\n",
        "\n",
        "#### **Entropy Calculation**\n",
        "\\[\n",
        "Entropy = - (0.7 \\log_2 0.7 + 0.3 \\log_2 0.3)\n",
        "\\]\n",
        "Approximating logs:\n",
        "\\[\n",
        "= - (0.7 \\times -0.514 + 0.3 \\times -1.737)\n",
        "\\]\n",
        "\\[\n",
        "= - (-0.36 - 0.52) = 0.88\n",
        "\\]\n",
        "\n",
        "Here, Entropy is higher than Gini, indicating more disorder.\n"
      ],
      "metadata": {
        "id": "I0ESQQwPSDnG"
      }
    },
    {
      "cell_type": "markdown",
      "source": [
        "Q7.What is the mathematical explanation behind Decision Trees?"
      ],
      "metadata": {
        "id": "b-ficauoSMuN"
      }
    },
    {
      "cell_type": "markdown",
      "source": [
        "Ans.### **Mathematical Explanation Behind Decision Trees**\n",
        "Decision Trees use recursive partitioning (also called **divide-and-conquer**) to split data into smaller subsets until a stopping criterion is met. This process is guided by impurity measures and optimization functions.\n",
        "\n",
        "---\n",
        "\n",
        "## **1. Splitting Criterion (Choosing the Best Feature)**\n",
        "At each step, the algorithm selects the feature that best separates the data. This is determined using **impurity measures** like:\n",
        "- **Gini Impurity** (CART algorithm)\n",
        "- **Entropy & Information Gain** (ID3, C4.5)\n",
        "\n",
        "### **Mathematical Formulation:**\n",
        "The **best split** is the one that minimizes impurity.\n",
        "\n",
        "#### **Gini Impurity Formula:**\n",
        "\\[\n",
        "Gini = 1 - \\sum_{i=1}^{C} p_i^2\n",
        "\\]\n",
        "\n",
        "#### **Entropy Formula:**\n",
        "\\[\n",
        "Entropy = -\\sum_{i=1}^{C} p_i \\log_2(p_i)\n",
        "\\]\n",
        "\n",
        "#### **Information Gain Formula:**\n",
        "\\[\n",
        "IG = Entropy(Parent) - \\sum_{i=1}^{k} \\frac{N_i}{N} \\cdot Entropy(Child_i)\n",
        "\\]\n",
        "\n",
        "Where:  \n",
        "- \\( p_i \\) = Probability of class \\( i \\) in a node  \n",
        "- \\( C \\) = Number of classes  \n",
        "- \\( N_i \\) = Samples in child node \\( i \\)  \n",
        "- \\( N \\) = Total samples in the parent node  \n",
        "\n",
        "---\n",
        "\n",
        "## **2. Recursive Splitting (Tree Construction)**\n",
        "The algorithm **recursively** selects features and splits the data until a stopping condition is met.\n",
        "\n",
        "\\[\n",
        "\\text{Stop if:}\n",
        "\\]\n",
        "- A node becomes **pure** (all samples belong to one class).\n",
        "- A **maximum depth** is reached.\n",
        "- The **number of samples in a node** is below a threshold.\n",
        "\n",
        "Each split **reduces impurity**, ensuring a well-structured tree.\n",
        "\n",
        "---\n",
        "\n",
        "## **3. Prediction in a Decision Tree**\n",
        "To classify a new data point:\n",
        "- Start at the **root**.\n",
        "- Traverse the tree by **following conditions** at each node.\n",
        "- Reach a **leaf node**, which determines the predicted class.\n",
        "\n",
        "For **regression**, instead of classification, the leaf node returns the **average target value**.\n",
        "\n",
        "\\[\n",
        "y_{predicted} = \\frac{1}{N} \\sum_{i=1}^{N} y_i\n",
        "\\]\n",
        "\n",
        "Where \\( y_i \\) are the target values in the leaf node.\n",
        "\n",
        "---\n",
        "\n",
        "## **4. Tree Pruning (Avoiding Overfitting)**\n",
        "A fully grown tree might **overfit**, capturing noise in the data. **Pruning** reduces complexity:\n",
        "- **Pre-pruning:** Stop splitting early (e.g., max depth).\n",
        "- **Post-pruning:** Grow a full tree, then remove branches based on a threshold.\n",
        "\n",
        "A common post-pruning technique is **Cost Complexity Pruning**, where a penalty term \\( \\alpha \\) is added to prevent excessive growth:\n",
        "\n",
        "\\[\n",
        "\\text{Pruned Loss} = \\text{Tree Impurity} + \\alpha \\times (\\text{Number of leaves})\n",
        "\\]\n",
        "\n",
        "---\n",
        "\n",
        "## **Summary**\n",
        "1. **Select the best feature** using Gini Impurity or Information Gain.\n",
        "2. **Recursively split** the dataset to reduce impurity.\n",
        "3. **Stop splitting** when purity is reached or stopping conditions are met.\n",
        "4. **Make predictions** by traversing the tree to a leaf node.\n",
        "5. **Prune the tree** to prevent overfitting.\n"
      ],
      "metadata": {
        "id": "161NBzY-STAz"
      }
    },
    {
      "cell_type": "markdown",
      "source": [
        "Q8.What is Pre-Pruning in Decision Trees?"
      ],
      "metadata": {
        "id": "Ml2maII3SfsK"
      }
    },
    {
      "cell_type": "markdown",
      "source": [
        "Ans.### **Pre-Pruning in Decision Trees**\n",
        "**Pre-pruning** (also called **early stopping**) is a technique used to prevent a Decision Tree from growing too large and overfitting the training data by stopping the tree-building process **before** it becomes too complex.\n",
        "\n",
        "---\n",
        "\n",
        "### **How Pre-Pruning Works**\n",
        "During tree construction, the algorithm checks certain stopping conditions **before** creating new splits. If any condition is met, the splitting stops, and the node becomes a leaf.\n",
        "\n",
        "### **Common Pre-Pruning Conditions**\n",
        "1. **Maximum Depth (\\( d_{max} \\))**  \n",
        "   - Limit the depth of the tree.\n",
        "   - Example: If \\( d_{max} = 5 \\), the tree stops splitting beyond level 5.\n",
        "\n",
        "2. **Minimum Samples per Leaf (\\( n_{min} \\))**  \n",
        "   - A node must have at least \\( n_{min} \\) samples to be split further.\n",
        "   - Example: If \\( n_{min} = 10 \\), any node with fewer than 10 samples will not split.\n",
        "\n",
        "3. **Minimum Information Gain (\\( IG_{min} \\))**  \n",
        "   - Stop splitting if the improvement in Information Gain (or Gini reduction) is below a threshold.\n",
        "   - Example: If \\( IG_{min} = 0.01 \\), and a split improves IG by only 0.005, the split is rejected.\n",
        "\n",
        "4. **Maximum Number of Nodes (\\( N_{max} \\))**  \n",
        "   - Restrict the total number of nodes in the tree.\n",
        "\n",
        "---\n",
        "\n",
        "### **Advantages of Pre-Pruning**\n",
        "✔ Prevents overfitting by limiting tree complexity.  \n",
        "✔ Reduces computation time.  \n",
        "✔ Produces simpler, more interpretable trees.  \n",
        "\n",
        "### **Disadvantages of Pre-Pruning**\n",
        "❌ May stop the tree **too early**, leading to **underfitting** (not capturing enough patterns).  \n",
        "❌ Choosing the best pre-pruning thresholds is difficult and dataset-dependent.  \n",
        "\n",
        "---\n",
        "\n",
        "### **Example: Pre-Pruning in Scikit-Learn (Python)**\n",
        "```python\n",
        "from sklearn.tree import DecisionTreeClassifier\n",
        "\n",
        "# Decision tree with pre-pruning: max depth and min samples per leaf\n",
        "tree = DecisionTreeClassifier(max_depth=5, min_samples_leaf=10)\n",
        "\n",
        "# Fit the model\n",
        "tree.fit(X_train, y_train)\n",
        "```\n",
        "Here, the tree stops growing beyond depth **5** and does not create splits if a node has fewer than **10 samples**.\n",
        "\n",
        "---\n"
      ],
      "metadata": {
        "id": "8g1NjWoBSlME"
      }
    },
    {
      "cell_type": "markdown",
      "source": [
        "Q9. What is Post-Pruning in Decision Trees?"
      ],
      "metadata": {
        "id": "HQ70TM6HS58A"
      }
    },
    {
      "cell_type": "markdown",
      "source": [
        "Ans.### **Post-Pruning in Decision Trees**  \n",
        "**Post-pruning** (also called **pruning** or **cost-complexity pruning**) is a technique used to **reduce** the size of an already fully grown Decision Tree to prevent overfitting. It works by **removing branches** that provide little predictive power.\n",
        "\n",
        "---\n",
        "\n",
        "### **How Post-Pruning Works**  \n",
        "1. **Grow a full Decision Tree** (without restrictions like depth or minimum samples).  \n",
        "2. **Evaluate the tree’s performance** on a validation set.  \n",
        "3. **Remove weak branches** (those that do not significantly improve accuracy).  \n",
        "4. **Repeat the process** until the optimal tree is found.\n",
        "\n",
        "---\n",
        "\n",
        "### **Types of Post-Pruning**\n",
        "1. **Cost Complexity Pruning (CCP)** (*used in CART algorithm*)  \n",
        "   - Uses a penalty term \\( \\alpha \\) to control complexity:\n",
        "     \\[\n",
        "     Loss = \\text{Tree Impurity} + \\alpha \\times (\\text{Number of Leaves})\n",
        "     \\]\n",
        "   - Higher \\( \\alpha \\) leads to **more pruning**.\n",
        "\n",
        "2. **Reduced Error Pruning (REP)**  \n",
        "   - Each non-leaf node is temporarily replaced with a leaf.  \n",
        "   - If performance **improves or remains the same**, the branch is removed.  \n",
        "\n",
        "---\n",
        "\n",
        "### **Advantages of Post-Pruning**\n",
        "✔ **Reduces overfitting**, making the tree generalize better.  \n",
        "✔ **Improves interpretability** by simplifying the tree.  \n",
        "✔ **Data-driven approach**, based on actual model performance.  \n",
        "\n",
        "### **Disadvantages of Post-Pruning**\n",
        "❌ **Computationally expensive** (requires evaluating multiple subtrees).  \n",
        "❌ May **remove useful splits** if not tuned properly.  \n",
        "\n",
        "---\n",
        "\n",
        "### **Example: Post-Pruning in Scikit-Learn (Python)**\n",
        "```python\n",
        "from sklearn.tree import DecisionTreeClassifier\n",
        "\n",
        "# Train an overgrown tree\n",
        "tree = DecisionTreeClassifier(ccp_alpha=0.01)  # Post-pruning using cost complexity\n",
        "tree.fit(X_train, y_train)\n",
        "```\n",
        "Here, **`ccp_alpha`** controls pruning strength. A higher value leads to **more pruning**.\n",
        "\n",
        "---\n",
        "\n",
        "### **Pre-Pruning vs. Post-Pruning**\n",
        "| Feature        | Pre-Pruning | Post-Pruning |\n",
        "|---------------|------------|--------------|\n",
        "| **When Applied?** | During training (stops early) | After training (removes branches) |\n",
        "| **Prevents Overfitting?** | Yes, but may cause underfitting | Yes, more effective |\n",
        "| **Computational Cost** | Lower | Higher (requires validation) |\n",
        "| **Best for?** | Avoiding excessive tree growth | Optimizing an existing tree |\n"
      ],
      "metadata": {
        "id": "qlsBrXj1S93G"
      }
    },
    {
      "cell_type": "markdown",
      "source": [
        "Q10.What is the difference between Pre-Pruning and Post-Pruning?"
      ],
      "metadata": {
        "id": "2toWX-W7TI8j"
      }
    },
    {
      "cell_type": "markdown",
      "source": [
        "Ans.### **Difference Between Pre-Pruning and Post-Pruning in Decision Trees**\n",
        "\n",
        "| **Feature**        | **Pre-Pruning** (Early Stopping) | **Post-Pruning** (Pruning After Training) |\n",
        "|--------------------|---------------------------------|----------------------------------|\n",
        "| **When Applied?**  | During tree growth (before fully developing the tree). | After the tree is fully grown. |\n",
        "| **How It Works?**  | Stops tree expansion when a condition is met (e.g., max depth, min samples). | Grows a large tree first, then removes unnecessary branches. |\n",
        "| **Prevents Overfitting?** | Yes, but may cause underfitting if stopped too early. | Yes, more effective as it evaluates splits before removing them. |\n",
        "| **Computational Cost** | Lower (faster training). | Higher (needs extra validation step). |\n",
        "| **Common Stopping Criteria** | - Max depth (\\(d_{max}\\))  <br> - Min samples per leaf (\\(n_{min}\\)) <br> - Min information gain (\\(IG_{min}\\)) | - Cost Complexity Pruning (CCP) <br> - Reduced Error Pruning (REP) |\n",
        "| **Risk of Underfitting?** | High (may stop before finding the best splits). | Low (tree has been fully trained before pruning). |\n",
        "| **Best Use Case** | When training time is a concern or when preventing large trees. | When accuracy is more important, and overfitting is a concern. |\n",
        "\n",
        "---\n",
        "\n",
        "### **Example in Python (Scikit-Learn)**\n",
        "\n",
        "#### **Pre-Pruning Example**\n",
        "```python\n",
        "from sklearn.tree import DecisionTreeClassifier\n",
        "\n",
        "# Pre-pruned tree with max depth and min samples per leaf\n",
        "tree = DecisionTreeClassifier(max_depth=5, min_samples_leaf=10)\n",
        "tree.fit(X_train, y_train)\n",
        "```\n",
        "\n",
        "#### **Post-Pruning Example**\n",
        "```python\n",
        "from sklearn.tree import DecisionTreeClassifier\n",
        "\n",
        "# Train a full tree first\n",
        "full_tree = DecisionTreeClassifier(random_state=42)\n",
        "full_tree.fit(X_train, y_train)\n",
        "\n",
        "# Apply Cost Complexity Pruning (select best alpha)\n",
        "path = full_tree.cost_complexity_pruning_path(X_train, y_train)\n",
        "ccp_alphas = path.ccp_alphas\n",
        "\n",
        "# Train pruned trees for different alpha values and choose the best one\n",
        "pruned_tree = DecisionTreeClassifier(ccp_alpha=ccp_alphas[5])\n",
        "pruned_tree.fit(X_train, y_train)\n",
        "```"
      ],
      "metadata": {
        "id": "f9N4XSrxTQAd"
      }
    },
    {
      "cell_type": "markdown",
      "source": [
        "Q11.What is a Decision Tree Regressor?"
      ],
      "metadata": {
        "id": "IAgrcUYVTc--"
      }
    },
    {
      "cell_type": "markdown",
      "source": [
        "Ans.### **Decision Tree Regressor: An Overview**  \n",
        "A **Decision Tree Regressor** is a type of **Decision Tree algorithm used for regression tasks**, meaning it predicts continuous numerical values instead of discrete classes.\n",
        "\n",
        "---\n",
        "\n",
        "## **How It Works**\n",
        "1. **Splitting the Data**  \n",
        "   - The dataset is recursively split into subsets based on **feature values**.\n",
        "   - Instead of **classification impurity measures** (Gini or Entropy), it uses **variance reduction** or **mean squared error (MSE)** as the splitting criterion.\n",
        "\n",
        "2. **Leaf Node Output**  \n",
        "   - Instead of assigning a class label, a leaf node in a Decision Tree Regressor **predicts a numerical value**, usually the **mean of the target values** in that region.\n",
        "\n",
        "---\n",
        "\n",
        "## **Mathematical Formulation**\n",
        "The tree tries to **minimize the variance** (or MSE) within each split.\n",
        "\n",
        "### **Split Selection: Minimizing Variance**\n",
        "At each step, the algorithm selects the split that minimizes the weighted sum of variances:\n",
        "\n",
        "\\[\n",
        "Var_{split} = \\frac{N_{left}}{N} \\cdot Var_{left} + \\frac{N_{right}}{N} \\cdot Var_{right}\n",
        "\\]\n",
        "\n",
        "Where:  \n",
        "- \\( Var_{split} \\) = Variance after splitting.  \n",
        "- \\( N_{left}, N_{right} \\) = Number of samples in left and right nodes.  \n",
        "- \\( Var_{left}, Var_{right} \\) = Variance of target values in left and right nodes.  \n",
        "- \\( N \\) = Total number of samples before the split.\n",
        "\n",
        "The goal is to **minimize** \\( Var_{split} \\), ensuring that each split reduces the spread of the target variable.\n",
        "\n",
        "### **Alternative Criterion: Mean Squared Error (MSE)**\n",
        "A common impurity measure for regression is **MSE**, which calculates the error in predictions:\n",
        "\n",
        "\\[\n",
        "MSE = \\frac{1}{N} \\sum_{i=1}^{N} (y_i - \\hat{y})^2\n",
        "\\]\n",
        "\n",
        "Where:  \n",
        "- \\( y_i \\) = Actual target value.  \n",
        "- \\( \\hat{y} \\) = Predicted value (mean of leaf node).  \n",
        "- \\( N \\) = Number of samples in the node.\n",
        "\n",
        "---\n",
        "\n",
        "## **Example: Decision Tree Regressor in Python**\n",
        "```python\n",
        "from sklearn.tree import DecisionTreeRegressor\n",
        "import numpy as np\n",
        "\n",
        "# Sample Data\n",
        "X = np.array([[1], [2], [3], [4], [5], [6]]).reshape(-1, 1)\n",
        "y = np.array([10, 20, 30, 40, 50, 60])\n",
        "\n",
        "# Train Decision Tree Regressor\n",
        "tree = DecisionTreeRegressor(max_depth=3)\n",
        "tree.fit(X, y)\n",
        "\n",
        "# Predict a new value\n",
        "prediction = tree.predict([[3.5]])\n",
        "print(\"Predicted Value:\", prediction)\n",
        "```\n",
        "---\n",
        "\n",
        "## **Advantages**\n",
        "✔ **Captures non-linear relationships** between features and target values.  \n",
        "✔ **Handles missing values** and does not require feature scaling.  \n",
        "✔ **Interpretable** (easy to visualize as a decision tree).  \n",
        "\n",
        "## **Disadvantages**\n",
        "❌ **Prone to overfitting** if the tree is too deep.  \n",
        "❌ **Sensitive to small changes** in data (leading to different trees).  \n",
        "❌ **Not smooth** (predictions are piecewise constant, causing sharp transitions).  \n",
        "\n",
        "---\n",
        "\n",
        "## **When to Use Decision Tree Regression**\n",
        "✅ When relationships between features and target are **non-linear**.  \n",
        "✅ When interpretability is important.  \n",
        "✅ When feature scaling is not ideal (Decision Trees don’t require standardization).  \n"
      ],
      "metadata": {
        "id": "9egs5KixTjV5"
      }
    },
    {
      "cell_type": "markdown",
      "source": [
        "Q12.* What are the advantages and disadvantages of Decision Trees?"
      ],
      "metadata": {
        "id": "k1V3wQ1RTvbN"
      }
    },
    {
      "cell_type": "markdown",
      "source": [
        "Ans.### **Advantages and Disadvantages of Decision Trees**  \n",
        "\n",
        "---\n",
        "\n",
        "## **✅ Advantages of Decision Trees**  \n",
        "\n",
        "### **1. Easy to Understand and Interpret**  \n",
        "- Decision Trees provide **clear visual representations** of decision-making.\n",
        "- Even non-experts can understand how the model makes predictions.\n",
        "\n",
        "### **2. Handles Both Numerical and Categorical Data**  \n",
        "- Works well for both **classification** and **regression** problems.\n",
        "- No need for extensive **data preprocessing** (like feature scaling).\n",
        "\n",
        "### **3. No Need for Feature Scaling or Normalization**  \n",
        "- Unlike models like SVM or Logistic Regression, Decision Trees don’t require feature scaling (e.g., Standardization or Min-Max scaling).\n",
        "\n",
        "### **4. Handles Missing Values Well**  \n",
        "- Can still make reasonable predictions even with **incomplete data**.\n",
        "\n",
        "### **5. Captures Non-Linear Relationships**  \n",
        "- Unlike linear models, Decision Trees can model **complex, non-linear** patterns.\n",
        "\n",
        "### **6. Feature Selection is Automatic**  \n",
        "- The tree **automatically selects the most important features** while splitting.\n",
        "\n",
        "### **7. Works Well with Large Datasets**  \n",
        "- Can handle high-dimensional data efficiently.\n",
        "\n",
        "---\n",
        "\n",
        "## **❌ Disadvantages of Decision Trees**  \n",
        "\n",
        "### **1. Prone to Overfitting**  \n",
        "- Deep trees **memorize training data** rather than generalizing well.\n",
        "- Solution: **Use pruning techniques** (Pre-Pruning, Post-Pruning).\n",
        "\n",
        "### **2. Sensitive to Small Changes in Data**  \n",
        "- Small variations in data can create **entirely different trees**.\n",
        "- Solution: Use **ensemble methods** like **Random Forests**.\n",
        "\n",
        "### **3. Greedy Algorithm (Locally Optimal, Not Globally Optimal)**  \n",
        "- The tree makes decisions **greedily at each step**, which may not lead to the **best overall structure**.\n",
        "- Solution: **Use hyperparameter tuning** to refine splits.\n",
        "\n",
        "### **4. Not Suitable for Continuous, Smooth Predictions (Regression)**  \n",
        "- Decision Trees predict **stepwise constant values** in regression tasks, leading to **jumpy predictions**.\n",
        "- Solution: Use **ensemble methods** like **Gradient Boosting**.\n",
        "\n",
        "### **5. Biased Towards Features with More Categories**  \n",
        "- Features with **many unique values** (like ID numbers) might be given too much importance.\n",
        "- Solution: Use **entropy-based splitting (Information Gain Ratio)**.\n",
        "\n",
        "---\n",
        "\n",
        "### **How to Overcome Decision Tree Limitations?**  \n",
        "✅ **Pruning** (Pre-Pruning or Post-Pruning) → Reduces Overfitting.  \n",
        "✅ **Random Forest** → Reduces variance and improves stability.  \n",
        "✅ **Boosting (Gradient Boosting, XGBoost)** → Improves accuracy.  \n",
        "✅ **Hyperparameter Tuning** (max depth, min samples split) → Optimizes tree structure.  \n"
      ],
      "metadata": {
        "id": "PPxwEQ3aT1ob"
      }
    },
    {
      "cell_type": "markdown",
      "source": [
        "Q13.* How does a Decision Tree handle missing values?"
      ],
      "metadata": {
        "id": "WIysUBtMUABb"
      }
    },
    {
      "cell_type": "markdown",
      "source": [
        "Ans.### **How Decision Trees Handle Missing Values**  \n",
        "\n",
        "Decision Trees are quite robust to **missing values** in both training and prediction phases. They can handle missing data in the following ways:\n",
        "\n",
        "---\n",
        "\n",
        "## **1. Handling Missing Values in Training Data**\n",
        "### **(A) Ignoring Missing Values in Splitting**\n",
        "- Some implementations (like **CART**) allow Decision Trees to **ignore missing values** while finding the best split.\n",
        "- If a feature has missing values, the tree may still use it if it provides the **best impurity reduction**.\n",
        "\n",
        "### **(B) Surrogate Splits (Used in CART)**\n",
        "- If the best feature for a split has missing values, Decision Trees **find an alternative (surrogate) feature** that gives a similar split.\n",
        "- If a missing value is encountered, the tree **follows the surrogate split** instead.\n",
        "\n",
        "### **(C) Assigning Missing Values to the Most Common Category (for Categorical Features)**\n",
        "- If a categorical feature has missing values, the tree can replace them with **the most frequent category** in the training data.\n",
        "\n",
        "### **(D) Assigning Missing Values to the Mean/Median (for Numerical Features)**\n",
        "- If a numerical feature has missing values, it can be replaced with **the mean or median** of that feature.\n",
        "\n",
        "---\n",
        "\n",
        "## **2. Handling Missing Values During Prediction**\n",
        "### **(A) Assigning Probabilities Based on Training Splits**\n",
        "- If a missing value is encountered at test time, the tree assigns **a probability** to follow different branches based on the distribution of training data.\n",
        "\n",
        "### **(B) Following the Most Common Path**\n",
        "- Some algorithms choose the **majority branch** (the branch most samples took in training) when encountering missing values.\n",
        "\n",
        "---\n",
        "\n",
        "## **Example: Handling Missing Values in Scikit-Learn**\n",
        "Scikit-Learn does **not** natively handle missing values in Decision Trees, so you must **fill or drop** missing values before training.\n",
        "\n",
        "```python\n",
        "from sklearn.tree import DecisionTreeClassifier\n",
        "from sklearn.impute import SimpleImputer\n",
        "import numpy as np\n",
        "\n",
        "# Sample dataset with missing values\n",
        "X = np.array([[1, 2], [3, np.nan], [7, 6], [np.nan, 4]])\n",
        "y = np.array([0, 1, 0, 1])\n",
        "\n",
        "# Impute missing values with the mean\n",
        "imputer = SimpleImputer(strategy='mean')\n",
        "X_imputed = imputer.fit_transform(X)\n",
        "\n",
        "# Train Decision Tree\n",
        "tree = DecisionTreeClassifier()\n",
        "tree.fit(X_imputed, y)\n",
        "```\n",
        "\n",
        "---\n",
        "\n",
        "## **Summary: Best Practices for Handling Missing Values in Decision Trees**\n",
        "| **Method** | **How It Works** | **Pros** | **Cons** |\n",
        "|------------|-----------------|----------|----------|\n",
        "| Ignore missing values | Skips missing data when finding splits | Simple, keeps data | May reduce accuracy |\n",
        "| Surrogate splits | Uses backup features for missing values | Keeps model robust | Increases complexity |\n",
        "| Fill with mode (categorical) | Replaces missing values with most frequent category | Easy, quick | Can bias results |\n",
        "| Fill with mean/median (numerical) | Replaces missing values with mean or median | Keeps all data | May distort distributions |\n",
        "| Assign probabilities | Follows branches probabilistically based on training data | More flexible | Harder to interpret |\n"
      ],
      "metadata": {
        "id": "7Q38zw0UUFbg"
      }
    },
    {
      "cell_type": "markdown",
      "source": [
        "Q14.How does a Decision Tree handle categorical features?"
      ],
      "metadata": {
        "id": "mYIQuakzUPZc"
      }
    },
    {
      "cell_type": "markdown",
      "source": [
        "Ans.### **How Decision Trees Handle Categorical Features**  \n",
        "\n",
        "Decision Trees can naturally handle **categorical features** by splitting data based on category values. However, the way they handle categorical data depends on the implementation.  \n",
        "\n",
        "---\n",
        "\n",
        "## **1️⃣ Splitting Categorical Features in Decision Trees**  \n",
        "For categorical features, Decision Trees **group data** based on unique categories rather than numeric thresholds.  \n",
        "\n",
        "### **(A) Binary Splitting (Used in CART – Scikit-Learn)**\n",
        "- **Works by converting categorical values into 0/1 decisions** (e.g., \"Is Feature = X?\").\n",
        "- If a feature has multiple categories (e.g., Red, Blue, Green), the algorithm finds the best **binary split** (e.g., {Red, Blue} vs. {Green}).\n",
        "- **Example:**\n",
        "  ```\n",
        "  Color Feature: {Red, Blue, Green}\n",
        "  Possible split: {Red, Blue} vs. {Green}\n",
        "  ```\n",
        "- Uses **Gini Impurity** or **Entropy** to determine the best split.\n",
        "\n",
        "✔ **Pros**: Works well for large datasets.  \n",
        "❌ **Cons**: Computationally expensive for high-cardinality categorical variables.  \n",
        "\n",
        "---\n",
        "\n",
        "### **(B) Multiway Splitting (Used in ID3, C4.5)**\n",
        "- Instead of making a binary decision, the tree **creates a branch for each category**.\n",
        "- **Example:**\n",
        "  ```\n",
        "  Feature: Animal Type (Dog, Cat, Bird)\n",
        "  Decision Tree:\n",
        "      Animal Type\n",
        "      ├── Dog → Class A\n",
        "      ├── Cat → Class B\n",
        "      ├── Bird → Class C\n",
        "  ```\n",
        "✔ **Pros**: More intuitive, no need for numerical encoding.  \n",
        "❌ **Cons**: Can lead to **overfitting** if too many categories.  \n",
        "\n",
        "---\n",
        "\n",
        "## **2️⃣ Encoding Categorical Features for Decision Trees**  \n",
        "Some Decision Tree implementations (e.g., **Scikit-Learn’s `DecisionTreeClassifier`**) do not directly support categorical variables. You must **convert categorical features into numbers** before training.\n",
        "\n",
        "### **(A) Label Encoding (Integer Encoding)**\n",
        "- Assigns a **unique number** to each category.\n",
        "- **Example:**\n",
        "  ```\n",
        "  Color: {Red, Blue, Green} → {0, 1, 2}\n",
        "  ```\n",
        "- Works well for **ordinal** data (e.g., Small, Medium, Large).  \n",
        "- **Not ideal for non-ordinal data** (e.g., \"Red\" is not \"greater\" than \"Blue\").  \n",
        "\n",
        "```python\n",
        "from sklearn.preprocessing import LabelEncoder\n",
        "\n",
        "encoder = LabelEncoder()\n",
        "X['Color'] = encoder.fit_transform(X['Color'])\n",
        "```\n",
        "\n",
        "---\n",
        "\n",
        "### **(B) One-Hot Encoding (OHE)**\n",
        "- Converts categorical values into **binary columns (0s and 1s)**.\n",
        "- **Example:**\n",
        "  ```\n",
        "  Color: {Red, Blue, Green}\n",
        "  → Red (1,0,0), Blue (0,1,0), Green (0,0,1)\n",
        "  ```\n",
        "- Prevents the tree from assuming a numeric order in categories.\n",
        "\n",
        "```python\n",
        "from sklearn.preprocessing import OneHotEncoder\n",
        "\n",
        "encoder = OneHotEncoder()\n",
        "X_encoded = encoder.fit_transform(X[['Color']]).toarray()\n",
        "```\n",
        "\n",
        "✔ **Pros**: Avoids artificial ordering of categories.  \n",
        "❌ **Cons**: Can lead to **high-dimensional data** if there are too many unique categories.  \n",
        "\n",
        "---\n",
        "\n",
        "## **3️⃣ Best Practices for Categorical Features in Decision Trees**\n",
        "| **Method**         | **Best For** | **Pros** | **Cons** |\n",
        "|--------------------|-------------|----------|----------|\n",
        "| **Binary Splitting (CART)** | Low-cardinality categorical data | Works well with Gini/Entropy | Computationally expensive for many categories |\n",
        "| **Multiway Splitting (ID3, C4.5)** | Few categories, interpretability | No need for encoding | Overfitting risk if too many categories |\n",
        "| **Label Encoding** | Ordinal categorical data | Simple, easy to use | Implies an artificial order |\n",
        "| **One-Hot Encoding** | Non-ordinal categorical data | Removes order bias | Increases dataset size |\n"
      ],
      "metadata": {
        "id": "p8O_MeW2UTwX"
      }
    },
    {
      "cell_type": "markdown",
      "source": [
        "Q15. What are some real-world applications of Decision Trees?"
      ],
      "metadata": {
        "id": "1ZGq-l8MUoUP"
      }
    },
    {
      "cell_type": "markdown",
      "source": [
        "Ans.### **Real-World Applications of Decision Trees** 🌍🌳  \n",
        "\n",
        "Decision Trees are widely used in various domains due to their simplicity, interpretability, and ability to handle both numerical and categorical data. Here are some key real-world applications:  \n",
        "\n",
        "---\n",
        "\n",
        "## **1️⃣ Healthcare & Medical Diagnosis 🏥**  \n",
        "✔ **Disease Prediction & Diagnosis**  \n",
        "- Decision Trees help predict diseases like **diabetes, cancer, and heart disease** based on patient symptoms and test results.  \n",
        "- Example: A Decision Tree can classify whether a patient has **diabetes** based on **blood sugar levels, age, BMI, and lifestyle factors**.  \n",
        "\n",
        "✔ **Medical Treatment Plans**  \n",
        "- Doctors use Decision Trees to **recommend personalized treatments** by analyzing patient history.  \n",
        "- Example: Choosing between **surgery, medication, or physical therapy** based on patient symptoms and risk factors.  \n",
        "\n",
        "✔ **Predicting Disease Outcomes**  \n",
        "- Example: A Decision Tree can estimate the **survival rate of cancer patients** based on tumor size, stage, and genetic factors.  \n",
        "\n",
        "---\n",
        "\n",
        "## **2️⃣ Finance & Banking 💰**  \n",
        "✔ **Credit Scoring & Loan Approval**  \n",
        "- Banks use Decision Trees to determine **whether a customer should be approved for a loan** based on factors like **credit score, income, and debt history**.  \n",
        "- Example:  \n",
        "  ```\n",
        "  IF credit score > 700 AND income > $50,000 → APPROVE loan\n",
        "  ELSE → REJECT loan\n",
        "  ```\n",
        "\n",
        "✔ **Fraud Detection**  \n",
        "- Helps identify **fraudulent transactions** by analyzing **patterns in credit card usage**.  \n",
        "- Example: If a transaction is **outside the country + unusual spending amount** → Mark as suspicious.  \n",
        "\n",
        "✔ **Stock Market Predictions**  \n",
        "- Decision Trees help **predict stock price movements** based on **historical trends, company earnings, and market conditions**.  \n",
        "\n",
        "---\n",
        "\n",
        "## **3️⃣ E-Commerce & Retail 🛒**  \n",
        "✔ **Customer Churn Prediction**  \n",
        "- Predicts **which customers are likely to stop using a service** based on factors like **purchase frequency, complaints, and subscription history**.  \n",
        "\n",
        "✔ **Recommendation Systems**  \n",
        "- Helps **recommend products** based on a customer’s past purchases, demographics, and browsing behavior.  \n",
        "- Example:  \n",
        "  ```\n",
        "  IF customer bought a smartphone → Recommend phone cases, chargers\n",
        "  ```\n",
        "\n",
        "✔ **Pricing Strategies**  \n",
        "- Determines the **best price for a product** based on competitor prices, demand, and customer behavior.  \n",
        "\n",
        "---\n",
        "\n",
        "## **4️⃣ Marketing & Sales 📢**  \n",
        "✔ **Customer Segmentation**  \n",
        "- Decision Trees help classify customers into different **segments** (e.g., high-value customers, occasional buyers, one-time shoppers).  \n",
        "\n",
        "✔ **Lead Scoring & Conversion Prediction**  \n",
        "- Helps **identify potential customers** who are more likely to make a purchase.  \n",
        "- Example:  \n",
        "  ```\n",
        "  IF customer visited product page > 5 times AND added to cart → HIGH chance of buying\n",
        "  ```\n",
        "\n",
        "✔ **Email Marketing Optimization**  \n",
        "- Predicts **which customers are likely to open emails and engage with promotions**.  \n",
        "\n",
        "---\n",
        "\n",
        "## **5️⃣ Manufacturing & Supply Chain ⚙️**  \n",
        "✔ **Quality Control & Defect Detection**  \n",
        "- Identifies defective products based on **sensor data, machine performance, and production conditions**.  \n",
        "\n",
        "✔ **Demand Forecasting**  \n",
        "- Predicts future demand for products based on **seasonality, trends, and past sales data**.  \n",
        "\n",
        "✔ **Inventory Management**  \n",
        "- Helps optimize **stock levels** by predicting when **products will run out**.  \n",
        "\n",
        "---\n",
        "\n",
        "## **6️⃣ Education & Student Performance 📚**  \n",
        "✔ **Student Performance Prediction**  \n",
        "- Predicts **which students are at risk of failing** based on attendance, grades, and engagement.  \n",
        "\n",
        "✔ **Personalized Learning Plans**  \n",
        "- Helps design **customized learning programs** based on student strengths and weaknesses.  \n",
        "\n",
        "✔ **Admission Predictions**  \n",
        "- Predicts **college admission chances** based on SAT scores, GPA, and extracurricular activities.  \n",
        "\n",
        "---\n",
        "\n",
        "## **7️⃣ Energy & Utilities ⚡**  \n",
        "✔ **Power Consumption Prediction**  \n",
        "- Predicts **electricity demand** based on weather, time of day, and consumer usage patterns.  \n",
        "\n",
        "✔ **Fault Detection in Power Grids**  \n",
        "- Helps detect **equipment failures** in power stations.  \n",
        "\n",
        "✔ **Optimizing Renewable Energy Usage**  \n",
        "- Decision Trees can decide **when to switch between solar, wind, and grid power** for cost savings.  \n",
        "\n",
        "---\n",
        "\n",
        "## **8️⃣ Transportation & Logistics 🚚**  \n",
        "✔ **Route Optimization for Delivery Services**  \n",
        "- Companies like **Amazon, FedEx, and Uber** use Decision Trees to determine **the fastest and cheapest delivery routes**.  \n",
        "\n",
        "✔ **Predicting Traffic Congestion**  \n",
        "- Analyzes road conditions, weather, and historical traffic data to **predict traffic jams**.  \n",
        "\n",
        "✔ **Autonomous Vehicles**  \n",
        "- Helps **self-driving cars** make decisions like **when to stop, turn, or change lanes** based on sensor inputs.  \n",
        "\n",
        "---\n",
        "\n",
        "## **9️⃣ Human Resources & Hiring 👨‍💼**  \n",
        "✔ **Resume Screening & Candidate Selection**  \n",
        "- Helps HR teams **shortlist job applicants** based on qualifications, experience, and skillset.  \n",
        "\n",
        "✔ **Employee Attrition Prediction**  \n",
        "- Predicts **which employees are likely to leave** based on job satisfaction, salary, and workload.  \n",
        "\n",
        "✔ **Performance Evaluation & Promotions**  \n",
        "- Helps decide **which employees should be promoted** based on performance metrics.  \n",
        "\n",
        "---\n",
        "\n",
        "### **🔹 Summary: Why Use Decision Trees in Real-World Applications?**  \n",
        "\n",
        "| **Industry**          | **Application**                                      |\n",
        "|----------------------|------------------------------------------------------|\n",
        "| **Healthcare**       | Disease diagnosis, treatment plans, risk prediction |\n",
        "| **Finance**         | Loan approval, fraud detection, credit scoring |\n",
        "| **E-commerce**      | Customer segmentation, recommendation systems |\n",
        "| **Marketing**       | Lead scoring, email marketing optimization |\n",
        "| **Manufacturing**   | Defect detection, supply chain optimization |\n",
        "| **Education**       | Student performance prediction, admission chances |\n",
        "| **Energy**         | Power consumption prediction, renewable energy use |\n",
        "| **Transportation**  | Route optimization, self-driving car decisions |\n",
        "| **HR & Hiring**     | Resume screening, employee attrition prediction |\n"
      ],
      "metadata": {
        "id": "sslJ_aQ0UtO9"
      }
    },
    {
      "cell_type": "markdown",
      "source": [
        "# **Practical**\n",
        "\n",
        "---\n",
        "\n"
      ],
      "metadata": {
        "id": "VNzGyzGoU9lz"
      }
    },
    {
      "cell_type": "markdown",
      "source": [
        "Q16.Write a Python program to train a Decision Tree Classifier on the Iris dataset and print the model accuracy?"
      ],
      "metadata": {
        "id": "uLRejBYOVGPu"
      }
    },
    {
      "cell_type": "code",
      "source": [
        "# Import necessary libraries\n",
        "from sklearn.datasets import load_iris\n",
        "from sklearn.tree import DecisionTreeClassifier\n",
        "from sklearn.model_selection import train_test_split\n",
        "from sklearn.metrics import accuracy_score\n",
        "\n",
        "# Load the Iris dataset\n",
        "iris = load_iris()\n",
        "X, y = iris.data, iris.target\n",
        "\n",
        "# Split dataset into training (80%) and testing (20%) sets\n",
        "X_train, X_test, y_train, y_test = train_test_split(X, y, test_size=0.2, random_state=42)\n",
        "\n",
        "# Create a Decision Tree Classifier model\n",
        "clf = DecisionTreeClassifier()\n",
        "\n",
        "# Train the model on the training data\n",
        "clf.fit(X_train, y_train)\n",
        "\n",
        "# Predict on the test set\n",
        "y_pred = clf.predict(X_test)\n",
        "\n",
        "# Calculate accuracy\n",
        "accuracy = accuracy_score(y_test, y_pred)\n",
        "\n",
        "# Print accuracy\n",
        "print(f\"Model Accuracy: {accuracy:.2f}\")\n"
      ],
      "metadata": {
        "colab": {
          "base_uri": "https://localhost:8080/"
        },
        "id": "NS8lfy-TVbwr",
        "outputId": "a2692ed3-2838-47b7-ed56-eb143738b3f6"
      },
      "execution_count": 1,
      "outputs": [
        {
          "output_type": "stream",
          "name": "stdout",
          "text": [
            "Model Accuracy: 1.00\n"
          ]
        }
      ]
    },
    {
      "cell_type": "markdown",
      "source": [
        "Q17.Write a Python program to train a Decision Tree Classifier using Gini Impurity as the criterion and print the\n",
        "feature importances?"
      ],
      "metadata": {
        "id": "X4xR7wf_V6V3"
      }
    },
    {
      "cell_type": "code",
      "source": [
        "# Import necessary libraries\n",
        "from sklearn.datasets import load_iris\n",
        "from sklearn.tree import DecisionTreeClassifier\n",
        "from sklearn.model_selection import train_test_split\n",
        "from sklearn.metrics import accuracy_score\n",
        "\n",
        "# Load the Iris dataset\n",
        "iris = load_iris()\n",
        "X, y = iris.data, iris.target\n",
        "\n",
        "# Split dataset into training (80%) and testing (20%) sets\n",
        "X_train, X_test, y_train, y_test = train_test_split(X, y, test_size=0.2, random_state=42)\n",
        "\n",
        "# Create a Decision Tree Classifier with Gini Impurity\n",
        "clf = DecisionTreeClassifier(criterion=\"gini\", random_state=42)\n",
        "\n",
        "# Train the model\n",
        "clf.fit(X_train, y_train)\n",
        "\n",
        "# Predict on the test set\n",
        "y_pred = clf.predict(X_test)\n",
        "\n",
        "# Calculate accuracy\n",
        "accuracy = accuracy_score(y_test, y_pred)\n",
        "print(f\"Model Accuracy: {accuracy:.2f}\")\n",
        "\n",
        "# Print feature importances\n",
        "print(\"\\nFeature Importances:\")\n",
        "for feature, importance in zip(iris.feature_names, clf.feature_importances_):\n",
        "    print(f\"{feature}: {importance:.4f}\")\n"
      ],
      "metadata": {
        "colab": {
          "base_uri": "https://localhost:8080/"
        },
        "id": "ZCTSoXjdWD4R",
        "outputId": "dd00b190-9f84-47e5-e1ad-be5dc0623ef8"
      },
      "execution_count": 2,
      "outputs": [
        {
          "output_type": "stream",
          "name": "stdout",
          "text": [
            "Model Accuracy: 1.00\n",
            "\n",
            "Feature Importances:\n",
            "sepal length (cm): 0.0000\n",
            "sepal width (cm): 0.0167\n",
            "petal length (cm): 0.9061\n",
            "petal width (cm): 0.0772\n"
          ]
        }
      ]
    },
    {
      "cell_type": "markdown",
      "source": [
        "Q18.Write a Python program to train a Decision Tree Classifier using Entropy as the splitting criterion and print the\n",
        "model accuracy?"
      ],
      "metadata": {
        "id": "dONVmSc9WQf1"
      }
    },
    {
      "cell_type": "code",
      "source": [
        "# Import necessary libraries\n",
        "from sklearn.datasets import load_iris\n",
        "from sklearn.tree import DecisionTreeClassifier\n",
        "from sklearn.model_selection import train_test_split\n",
        "from sklearn.metrics import accuracy_score\n",
        "\n",
        "# Load the Iris dataset\n",
        "iris = load_iris()\n",
        "X, y = iris.data, iris.target\n",
        "\n",
        "# Split dataset into training (80%) and testing (20%) sets\n",
        "X_train, X_test, y_train, y_test = train_test_split(X, y, test_size=0.2, random_state=42)\n",
        "\n",
        "# Create a Decision Tree Classifier with Entropy\n",
        "clf = DecisionTreeClassifier(criterion=\"entropy\", random_state=42)\n",
        "\n",
        "# Train the model\n",
        "clf.fit(X_train, y_train)\n",
        "\n",
        "# Predict on the test set\n",
        "y_pred = clf.predict(X_test)\n",
        "\n",
        "# Calculate accuracy\n",
        "accuracy = accuracy_score(y_test, y_pred)\n",
        "print(f\"Model Accuracy: {accuracy:.2f}\")\n"
      ],
      "metadata": {
        "colab": {
          "base_uri": "https://localhost:8080/"
        },
        "id": "gAQQux6zWbSl",
        "outputId": "e2dd7313-c264-4f13-bd8e-29b8e5ce158e"
      },
      "execution_count": 3,
      "outputs": [
        {
          "output_type": "stream",
          "name": "stdout",
          "text": [
            "Model Accuracy: 1.00\n"
          ]
        }
      ]
    },
    {
      "cell_type": "markdown",
      "source": [
        "Q19.Write a Python program to train a Decision Tree Regressor on a housing dataset and evaluate using Mean\n",
        "Squared Error (MSE)?"
      ],
      "metadata": {
        "id": "LhBDL72kW5vL"
      }
    },
    {
      "cell_type": "code",
      "source": [
        "# Import necessary libraries\n",
        "from sklearn.datasets import fetch_california_housing\n",
        "from sklearn.tree import DecisionTreeRegressor\n",
        "from sklearn.model_selection import train_test_split\n",
        "from sklearn.metrics import mean_squared_error\n",
        "\n",
        "# Load the California Housing dataset\n",
        "housing = fetch_california_housing()\n",
        "X, y = housing.data, housing.target  # Features and target variable\n",
        "\n",
        "# Split dataset into training (80%) and testing (20%) sets\n",
        "X_train, X_test, y_train, y_test = train_test_split(X, y, test_size=0.2, random_state=42)\n",
        "\n",
        "# Create a Decision Tree Regressor model\n",
        "regressor = DecisionTreeRegressor(random_state=42)\n",
        "\n",
        "# Train the model on the training data\n",
        "regressor.fit(X_train, y_train)\n",
        "\n",
        "# Predict on the test set\n",
        "y_pred = regressor.predict(X_test)\n",
        "\n",
        "# Calculate Mean Squared Error (MSE)\n",
        "mse = mean_squared_error(y_test, y_pred)\n",
        "print(f\"Mean Squared Error (MSE): {mse:.4f}\")\n"
      ],
      "metadata": {
        "colab": {
          "base_uri": "https://localhost:8080/"
        },
        "id": "Fg4nd8L_XH1n",
        "outputId": "f2ddf167-dd66-40b7-e761-c17b2f6ed5ee"
      },
      "execution_count": 4,
      "outputs": [
        {
          "output_type": "stream",
          "name": "stdout",
          "text": [
            "Mean Squared Error (MSE): 0.4952\n"
          ]
        }
      ]
    },
    {
      "cell_type": "markdown",
      "source": [
        "Q20.Write a Python program to train a Decision Tree Classifier and visualize the tree using graphviz?"
      ],
      "metadata": {
        "id": "NHe_zJbKXTqH"
      }
    },
    {
      "cell_type": "code",
      "source": [
        "# Import necessary libraries\n",
        "from sklearn.datasets import load_iris\n",
        "from sklearn.tree import DecisionTreeClassifier, export_graphviz\n",
        "import graphviz\n",
        "\n",
        "# Load the Iris dataset\n",
        "iris = load_iris()\n",
        "X, y = iris.data, iris.target\n",
        "\n",
        "# Train a Decision Tree Classifier\n",
        "clf = DecisionTreeClassifier(criterion=\"gini\", random_state=42)\n",
        "clf.fit(X, y)  # Training the model on the full dataset\n",
        "\n",
        "# Export the tree to Graphviz format\n",
        "dot_data = export_graphviz(clf, out_file=None,\n",
        "                           feature_names=iris.feature_names,\n",
        "                           class_names=iris.target_names,\n",
        "                           filled=True, rounded=True, special_characters=True)\n",
        "\n",
        "# Visualize the decision tree\n",
        "graph = graphviz.Source(dot_data)\n",
        "graph.render(\"decision_tree\")  # Saves as decision_tree.pdf\n",
        "graph.view()  # Opens the visualization\n"
      ],
      "metadata": {
        "colab": {
          "base_uri": "https://localhost:8080/",
          "height": 35
        },
        "collapsed": true,
        "id": "5nF58AUUXalp",
        "outputId": "c7541c0c-18b9-4c2a-d8ea-dbe6c077b2c9"
      },
      "execution_count": 6,
      "outputs": [
        {
          "output_type": "execute_result",
          "data": {
            "text/plain": [
              "'decision_tree.pdf'"
            ],
            "application/vnd.google.colaboratory.intrinsic+json": {
              "type": "string"
            }
          },
          "metadata": {},
          "execution_count": 6
        }
      ]
    },
    {
      "cell_type": "markdown",
      "source": [
        "Q21.Write a Python program to train a Decision Tree Classifier with a maximum depth of 3 and compare its\n",
        "accuracy with a fully grown tree?"
      ],
      "metadata": {
        "id": "2iAAM799XnpK"
      }
    },
    {
      "cell_type": "code",
      "source": [
        "# Import necessary libraries\n",
        "from sklearn.datasets import load_iris\n",
        "from sklearn.tree import DecisionTreeClassifier\n",
        "from sklearn.model_selection import train_test_split\n",
        "from sklearn.metrics import accuracy_score\n",
        "\n",
        "# Load the Iris dataset\n",
        "iris = load_iris()\n",
        "X, y = iris.data, iris.target\n",
        "\n",
        "# Split dataset into training (80%) and testing (20%) sets\n",
        "X_train, X_test, y_train, y_test = train_test_split(X, y, test_size=0.2, random_state=42)\n",
        "\n",
        "# Train a Decision Tree Classifier with max depth of 3\n",
        "clf_limited = DecisionTreeClassifier(max_depth=3, random_state=42)\n",
        "clf_limited.fit(X_train, y_train)\n",
        "\n",
        "# Train a fully grown Decision Tree (no depth restriction)\n",
        "clf_full = DecisionTreeClassifier(random_state=42)\n",
        "clf_full.fit(X_train, y_train)\n",
        "\n",
        "# Make predictions\n",
        "y_pred_limited = clf_limited.predict(X_test)\n",
        "y_pred_full = clf_full.predict(X_test)\n",
        "\n",
        "# Calculate accuracy\n",
        "accuracy_limited = accuracy_score(y_test, y_pred_limited)\n",
        "accuracy_full = accuracy_score(y_test, y_pred_full)\n",
        "\n",
        "# Print the accuracy comparison\n",
        "print(f\"Accuracy with max depth = 3: {accuracy_limited:.2f}\")\n",
        "print(f\"Accuracy with fully grown tree: {accuracy_full:.2f}\")\n"
      ],
      "metadata": {
        "colab": {
          "base_uri": "https://localhost:8080/"
        },
        "id": "qPBaymfYXuTf",
        "outputId": "6b708908-d62a-4cd5-a826-8edb1c03c881"
      },
      "execution_count": 7,
      "outputs": [
        {
          "output_type": "stream",
          "name": "stdout",
          "text": [
            "Accuracy with max depth = 3: 1.00\n",
            "Accuracy with fully grown tree: 1.00\n"
          ]
        }
      ]
    },
    {
      "cell_type": "markdown",
      "source": [
        "Q22.* Write a Python program to train a Decision Tree Classifier using min_samples_split=5 and compare its\n",
        "accuracy with a default tree?"
      ],
      "metadata": {
        "id": "rJB-fMEiX31V"
      }
    },
    {
      "cell_type": "code",
      "source": [
        "# Import necessary libraries\n",
        "from sklearn.datasets import load_iris\n",
        "from sklearn.tree import DecisionTreeClassifier\n",
        "from sklearn.model_selection import train_test_split\n",
        "from sklearn.metrics import accuracy_score\n",
        "\n",
        "# Load the Iris dataset\n",
        "iris = load_iris()\n",
        "X, y = iris.data, iris.target\n",
        "\n",
        "# Split dataset into training (80%) and testing (20%) sets\n",
        "X_train, X_test, y_train, y_test = train_test_split(X, y, test_size=0.2, random_state=42)\n",
        "\n",
        "# Train a Decision Tree Classifier with min_samples_split=5\n",
        "clf_restricted = DecisionTreeClassifier(min_samples_split=5, random_state=42)\n",
        "clf_restricted.fit(X_train, y_train)\n",
        "\n",
        "# Train a fully grown Decision Tree (default parameters)\n",
        "clf_default = DecisionTreeClassifier(random_state=42)\n",
        "clf_default.fit(X_train, y_train)\n",
        "\n",
        "# Make predictions\n",
        "y_pred_restricted = clf_restricted.predict(X_test)\n",
        "y_pred_default = clf_default.predict(X_test)\n",
        "\n",
        "# Calculate accuracy\n",
        "accuracy_restricted = accuracy_score(y_test, y_pred_restricted)\n",
        "accuracy_default = accuracy_score(y_test, y_pred_default)\n",
        "\n",
        "# Print the accuracy comparison\n",
        "print(f\"Accuracy with min_samples_split=5: {accuracy_restricted:.2f}\")\n",
        "print(f\"Accuracy with default tree: {accuracy_default:.2f}\")\n"
      ],
      "metadata": {
        "colab": {
          "base_uri": "https://localhost:8080/"
        },
        "id": "SNP7eebbYi-L",
        "outputId": "c20911a5-b908-4942-c090-3f588a9b3fc3"
      },
      "execution_count": 8,
      "outputs": [
        {
          "output_type": "stream",
          "name": "stdout",
          "text": [
            "Accuracy with min_samples_split=5: 1.00\n",
            "Accuracy with default tree: 1.00\n"
          ]
        }
      ]
    },
    {
      "cell_type": "markdown",
      "source": [
        "Q23.Write a Python program to apply feature scaling before training a Decision Tree Classifier and compare its\n",
        "accuracy with unscaled data?"
      ],
      "metadata": {
        "id": "WalE0ggDYyqE"
      }
    },
    {
      "cell_type": "code",
      "source": [
        "# Import necessary libraries\n",
        "from sklearn.datasets import load_iris\n",
        "from sklearn.tree import DecisionTreeClassifier\n",
        "from sklearn.model_selection import train_test_split\n",
        "from sklearn.preprocessing import StandardScaler\n",
        "from sklearn.metrics import accuracy_score\n",
        "\n",
        "# Load the Iris dataset\n",
        "iris = load_iris()\n",
        "X, y = iris.data, iris.target\n",
        "\n",
        "# Split dataset into training (80%) and testing (20%) sets\n",
        "X_train, X_test, y_train, y_test = train_test_split(X, y, test_size=0.2, random_state=42)\n",
        "\n",
        "# Train a Decision Tree Classifier without feature scaling\n",
        "clf_unscaled = DecisionTreeClassifier(random_state=42)\n",
        "clf_unscaled.fit(X_train, y_train)\n",
        "y_pred_unscaled = clf_unscaled.predict(X_test)\n",
        "accuracy_unscaled = accuracy_score(y_test, y_pred_unscaled)\n",
        "\n",
        "# Apply feature scaling (Standardization)\n",
        "scaler = StandardScaler()\n",
        "X_train_scaled = scaler.fit_transform(X_train)\n",
        "X_test_scaled = scaler.transform(X_test)\n",
        "\n",
        "# Train a Decision Tree Classifier with scaled features\n",
        "clf_scaled = DecisionTreeClassifier(random_state=42)\n",
        "clf_scaled.fit(X_train_scaled, y_train)\n",
        "y_pred_scaled = clf_scaled.predict(X_test_scaled)\n",
        "accuracy_scaled = accuracy_score(y_test, y_pred_scaled)\n",
        "\n",
        "# Print accuracy comparison\n",
        "print(f\"Accuracy without scaling: {accuracy_unscaled:.2f}\")\n",
        "print(f\"Accuracy with feature scaling: {accuracy_scaled:.2f}\")\n"
      ],
      "metadata": {
        "colab": {
          "base_uri": "https://localhost:8080/"
        },
        "id": "jgDRA3IiZEUO",
        "outputId": "bbeb6a75-863c-495b-8b06-a5286621821a"
      },
      "execution_count": 9,
      "outputs": [
        {
          "output_type": "stream",
          "name": "stdout",
          "text": [
            "Accuracy without scaling: 1.00\n",
            "Accuracy with feature scaling: 1.00\n"
          ]
        }
      ]
    },
    {
      "cell_type": "markdown",
      "source": [
        "Q24.* Write a Python program to train a Decision Tree Classifier using One-vs-Rest (OvR) strategy for multiclass\n",
        "classification?"
      ],
      "metadata": {
        "id": "1nit50WuZHsc"
      }
    },
    {
      "cell_type": "code",
      "source": [
        "# Import necessary libraries\n",
        "from sklearn.datasets import load_iris\n",
        "from sklearn.tree import DecisionTreeClassifier\n",
        "from sklearn.model_selection import train_test_split\n",
        "from sklearn.multiclass import OneVsRestClassifier\n",
        "from sklearn.metrics import accuracy_score\n",
        "\n",
        "# Load the Iris dataset\n",
        "iris = load_iris()\n",
        "X, y = iris.data, iris.target  # Features and target labels\n",
        "\n",
        "# Split dataset into training (80%) and testing (20%) sets\n",
        "X_train, X_test, y_train, y_test = train_test_split(X, y, test_size=0.2, random_state=42)\n",
        "\n",
        "# Create a Decision Tree Classifier wrapped in One-vs-Rest (OvR)\n",
        "clf_ovr = OneVsRestClassifier(DecisionTreeClassifier(random_state=42))\n",
        "clf_ovr.fit(X_train, y_train)  # Train the model\n",
        "\n",
        "# Make predictions on the test set\n",
        "y_pred = clf_ovr.predict(X_test)\n",
        "\n",
        "# Calculate accuracy\n",
        "accuracy = accuracy_score(y_test, y_pred)\n",
        "\n",
        "# Print the accuracy\n",
        "print(f\"Model Accuracy using One-vs-Rest (OvR): {accuracy:.2f}\")\n"
      ],
      "metadata": {
        "colab": {
          "base_uri": "https://localhost:8080/"
        },
        "id": "v9Apv7E9ZOJ1",
        "outputId": "5fc3dad1-79c0-42aa-a055-56db548f1c14"
      },
      "execution_count": 10,
      "outputs": [
        {
          "output_type": "stream",
          "name": "stdout",
          "text": [
            "Model Accuracy using One-vs-Rest (OvR): 1.00\n"
          ]
        }
      ]
    },
    {
      "cell_type": "markdown",
      "source": [
        "Q25. Write a Python program to train a Decision Tree Classifier and display the feature importance scores?"
      ],
      "metadata": {
        "id": "evp29VG0Zb6I"
      }
    },
    {
      "cell_type": "code",
      "source": [
        "# Import necessary libraries\n",
        "from sklearn.datasets import load_iris\n",
        "from sklearn.tree import DecisionTreeClassifier\n",
        "from sklearn.model_selection import train_test_split\n",
        "from sklearn.metrics import accuracy_score\n",
        "\n",
        "# Load the Iris dataset\n",
        "iris = load_iris()\n",
        "X, y = iris.data, iris.target\n",
        "\n",
        "# Split dataset into training (80%) and testing (20%) sets\n",
        "X_train, X_test, y_train, y_test = train_test_split(X, y, test_size=0.2, random_state=42)\n",
        "\n",
        "# Train a Decision Tree Classifier\n",
        "clf = DecisionTreeClassifier(random_state=42)\n",
        "clf.fit(X_train, y_train)\n",
        "\n",
        "# Predict on the test set\n",
        "y_pred = clf.predict(X_test)\n",
        "\n",
        "# Calculate accuracy\n",
        "accuracy = accuracy_score(y_test, y_pred)\n",
        "print(f\"Model Accuracy: {accuracy:.2f}\")\n",
        "\n",
        "# Display feature importance scores\n",
        "print(\"\\nFeature Importance Scores:\")\n",
        "for feature, importance in zip(iris.feature_names, clf.feature_importances_):\n",
        "    print(f\"{feature}: {importance:.4f}\")\n"
      ],
      "metadata": {
        "colab": {
          "base_uri": "https://localhost:8080/"
        },
        "id": "tSEF66NUZrDe",
        "outputId": "506d6aef-69f4-41f6-9ee5-271cc2f30f52"
      },
      "execution_count": 11,
      "outputs": [
        {
          "output_type": "stream",
          "name": "stdout",
          "text": [
            "Model Accuracy: 1.00\n",
            "\n",
            "Feature Importance Scores:\n",
            "sepal length (cm): 0.0000\n",
            "sepal width (cm): 0.0167\n",
            "petal length (cm): 0.9061\n",
            "petal width (cm): 0.0772\n"
          ]
        }
      ]
    },
    {
      "cell_type": "markdown",
      "source": [
        "Q26.Write a Python program to train a Decision Tree Regressor with max_depth=5 and compare its performance\n",
        "with an unrestricted tree?"
      ],
      "metadata": {
        "id": "icvQ2npVZ4Dw"
      }
    },
    {
      "cell_type": "code",
      "source": [
        "# Import necessary libraries\n",
        "from sklearn.datasets import fetch_california_housing\n",
        "from sklearn.tree import DecisionTreeRegressor\n",
        "from sklearn.model_selection import train_test_split\n",
        "from sklearn.metrics import mean_squared_error\n",
        "\n",
        "# Load the California Housing dataset\n",
        "housing = fetch_california_housing()\n",
        "X, y = housing.data, housing.target  # Features and target variable\n",
        "\n",
        "# Split dataset into training (80%) and testing (20%) sets\n",
        "X_train, X_test, y_train, y_test = train_test_split(X, y, test_size=0.2, random_state=42)\n",
        "\n",
        "# Train a Decision Tree Regressor with max depth = 5\n",
        "regressor_limited = DecisionTreeRegressor(max_depth=5, random_state=42)\n",
        "regressor_limited.fit(X_train, y_train)\n",
        "\n",
        "# Train a fully grown Decision Tree Regressor (default settings)\n",
        "regressor_full = DecisionTreeRegressor(random_state=42)\n",
        "regressor_full.fit(X_train, y_train)\n",
        "\n",
        "# Make predictions\n",
        "y_pred_limited = regressor_limited.predict(X_test)\n",
        "y_pred_full = regressor_full.predict(X_test)\n",
        "\n",
        "# Calculate Mean Squared Error (MSE)\n",
        "mse_limited = mean_squared_error(y_test, y_pred_limited)\n",
        "mse_full = mean_squared_error(y_test, y_pred_full)\n",
        "\n",
        "# Print the performance comparison\n",
        "print(f\"Mean Squared Error (MSE) with max_depth=5: {mse_limited:.4f}\")\n",
        "print(f\"Mean Squared Error (MSE) with fully grown tree: {mse_full:.4f}\")\n"
      ],
      "metadata": {
        "colab": {
          "base_uri": "https://localhost:8080/"
        },
        "id": "hwJ9pd6baJxY",
        "outputId": "a030bf15-f31e-48c6-a37e-0a5ee4f2644f"
      },
      "execution_count": 12,
      "outputs": [
        {
          "output_type": "stream",
          "name": "stdout",
          "text": [
            "Mean Squared Error (MSE) with max_depth=5: 0.5245\n",
            "Mean Squared Error (MSE) with fully grown tree: 0.4952\n"
          ]
        }
      ]
    },
    {
      "cell_type": "markdown",
      "source": [
        "Q27.Write a Python program to train a Decision Tree Classifier, apply Cost Complexity Pruning (CCP), and\n",
        "visualize its effect on accuracy?"
      ],
      "metadata": {
        "id": "TSImftLbaTGf"
      }
    },
    {
      "cell_type": "code",
      "source": [
        "# Import necessary libraries\n",
        "import numpy as np\n",
        "import matplotlib.pyplot as plt\n",
        "from sklearn.datasets import load_iris\n",
        "from sklearn.tree import DecisionTreeClassifier\n",
        "from sklearn.model_selection import train_test_split\n",
        "from sklearn.metrics import accuracy_score\n",
        "\n",
        "# Load the Iris dataset\n",
        "iris = load_iris()\n",
        "X, y = iris.data, iris.target\n",
        "\n",
        "# Split dataset into training (80%) and testing (20%) sets\n",
        "X_train, X_test, y_train, y_test = train_test_split(X, y, test_size=0.2, random_state=42)\n",
        "\n",
        "# Train a fully grown Decision Tree Classifier\n",
        "clf_full = DecisionTreeClassifier(random_state=42)\n",
        "clf_full.fit(X_train, y_train)\n",
        "\n",
        "# Get cost complexity pruning path\n",
        "ccp_path = clf_full.cost_complexity_pruning_path(X_train, y_train)\n",
        "ccp_alphas = ccp_path.ccp_alphas[:-1]  # Ignore the last max alpha that prunes all nodes\n",
        "\n",
        "# Train models for each alpha and collect accuracies\n",
        "train_accuracies = []\n",
        "test_accuracies = []\n",
        "\n",
        "for alpha in ccp_alphas:\n",
        "    clf_pruned = DecisionTreeClassifier(random_state=42, ccp_alpha=alpha)\n",
        "    clf_pruned.fit(X_train, y_train)\n",
        "\n",
        "    # Evaluate accuracy on training and test data\n",
        "    train_accuracies.append(accuracy_score(y_train, clf_pruned.predict(X_train)))\n",
        "    test_accuracies.append(accuracy_score(y_test, clf_pruned.predict(X_test)))\n",
        "\n",
        "# Plot accuracy vs. CCP alpha\n",
        "plt.figure(figsize=(8, 5))\n",
        "plt.plot(ccp_alphas, train_accuracies, marker=\"o\", label=\"Training Accuracy\")\n",
        "plt.plot(ccp_alphas, test_accuracies, marker=\"o\", label=\"Testing Accuracy\")\n",
        "plt.xlabel(\"CCP Alpha (Pruning Strength)\")\n",
        "plt.ylabel(\"Accuracy\")\n",
        "plt.title(\"Effect of Cost Complexity Pruning on Accuracy\")\n",
        "plt.legend()\n",
        "plt.grid(True)\n",
        "plt.show()\n"
      ],
      "metadata": {
        "colab": {
          "base_uri": "https://localhost:8080/",
          "height": 487
        },
        "id": "PHDWFPMRaX1v",
        "outputId": "8131ee78-fbc3-4a8e-ddd4-00c85b4e16cb"
      },
      "execution_count": 13,
      "outputs": [
        {
          "output_type": "display_data",
          "data": {
            "text/plain": [
              "<Figure size 800x500 with 1 Axes>"
            ],
            "image/png": "[encoded data removed]"
          },
          "metadata": {}
        }
      ]
    },
    {
      "cell_type": "markdown",
      "source": [
        "Q28.Write a Python program to train a Decision Tree Classifier and evaluate its performance using Precision,\n",
        "Recall, and F1-Score?"
      ],
      "metadata": {
        "id": "ozYyrSSIaij5"
      }
    },
    {
      "cell_type": "code",
      "source": [
        "# Import necessary libraries\n",
        "from sklearn.datasets import load_iris\n",
        "from sklearn.tree import DecisionTreeClassifier\n",
        "from sklearn.model_selection import train_test_split\n",
        "from sklearn.metrics import classification_report\n",
        "\n",
        "# Load the Iris dataset\n",
        "iris = load_iris()\n",
        "X, y = iris.data, iris.target\n",
        "\n",
        "# Split dataset into training (80%) and testing (20%) sets\n",
        "X_train, X_test, y_train, y_test = train_test_split(X, y, test_size=0.2, random_state=42)\n",
        "\n",
        "# Train a Decision Tree Classifier\n",
        "clf = DecisionTreeClassifier(random_state=42)\n",
        "clf.fit(X_train, y_train)\n",
        "\n",
        "# Make predictions on the test set\n",
        "y_pred = clf.predict(X_test)\n",
        "\n",
        "# Evaluate model performance\n",
        "print(\"Classification Report:\")\n",
        "print(classification_report(y_test, y_pred, target_names=iris.target_names))\n"
      ],
      "metadata": {
        "colab": {
          "base_uri": "https://localhost:8080/"
        },
        "id": "-4lXPGtaan9u",
        "outputId": "7e572897-b87f-4b81-8752-575a75cb0ecd"
      },
      "execution_count": 14,
      "outputs": [
        {
          "output_type": "stream",
          "name": "stdout",
          "text": [
            "Classification Report:\n",
            "              precision    recall  f1-score   support\n",
            "\n",
            "      setosa       1.00      1.00      1.00        10\n",
            "  versicolor       1.00      1.00      1.00         9\n",
            "   virginica       1.00      1.00      1.00        11\n",
            "\n",
            "    accuracy                           1.00        30\n",
            "   macro avg       1.00      1.00      1.00        30\n",
            "weighted avg       1.00      1.00      1.00        30\n",
            "\n"
          ]
        }
      ]
    },
    {
      "cell_type": "markdown",
      "source": [
        "Q29.Write a Python program to train a Decision Tree Classifier and visualize the confusion matrix using seaborn?"
      ],
      "metadata": {
        "id": "56MwdN9zayUz"
      }
    },
    {
      "cell_type": "code",
      "source": [
        "# Import necessary libraries\n",
        "import numpy as np\n",
        "import seaborn as sns\n",
        "import matplotlib.pyplot as plt\n",
        "from sklearn.datasets import load_iris\n",
        "from sklearn.tree import DecisionTreeClassifier\n",
        "from sklearn.model_selection import train_test_split\n",
        "from sklearn.metrics import confusion_matrix, accuracy_score\n",
        "\n",
        "# Load the Iris dataset\n",
        "iris = load_iris()\n",
        "X, y = iris.data, iris.target\n",
        "\n",
        "# Split dataset into training (80%) and testing (20%) sets\n",
        "X_train, X_test, y_train, y_test = train_test_split(X, y, test_size=0.2, random_state=42)\n",
        "\n",
        "# Train a Decision Tree Classifier\n",
        "clf = DecisionTreeClassifier(random_state=42)\n",
        "clf.fit(X_train, y_train)\n",
        "\n",
        "# Make predictions on the test set\n",
        "y_pred = clf.predict(X_test)\n",
        "\n",
        "# Compute the confusion matrix\n",
        "cm = confusion_matrix(y_test, y_pred)\n",
        "\n",
        "# Calculate accuracy\n",
        "accuracy = accuracy_score(y_test, y_pred)\n",
        "print(f\"Model Accuracy: {accuracy:.2f}\")\n",
        "\n",
        "# Visualize the confusion matrix using seaborn\n",
        "plt.figure(figsize=(6, 5))\n",
        "sns.heatmap(cm, annot=True, fmt='d', cmap='Blues', xticklabels=iris.target_names, yticklabels=iris.target_names)\n",
        "plt.xlabel('Predicted Label')\n",
        "plt.ylabel('True Label')\n",
        "plt.title('Confusion Matrix')\n",
        "plt.show()\n"
      ],
      "metadata": {
        "colab": {
          "base_uri": "https://localhost:8080/",
          "height": 504
        },
        "id": "p4woSwHea251",
        "outputId": "5159bf4b-b4e7-4ed3-c1cc-d18625460f40"
      },
      "execution_count": 15,
      "outputs": [
        {
          "output_type": "stream",
          "name": "stdout",
          "text": [
            "Model Accuracy: 1.00\n"
          ]
        },
        {
          "output_type": "display_data",
          "data": {
            "text/plain": [
              "<Figure size 600x500 with 2 Axes>"
            ],
            "image/png": "[encoded data removed]"
          },
          "metadata": {}
        }
      ]
    },
    {
      "cell_type": "markdown",
      "source": [
        "Q30.Write a Python program to train a Decision Tree Classifier and use GridSearchCV to find the optimal values\n",
        "for max_depth and min_samples_split?"
      ],
      "metadata": {
        "id": "GV7ELUs6bBVu"
      }
    },
    {
      "cell_type": "code",
      "source": [
        "# Import necessary libraries\n",
        "from sklearn.datasets import load_iris\n",
        "from sklearn.tree import DecisionTreeClassifier\n",
        "from sklearn.model_selection import train_test_split, GridSearchCV\n",
        "from sklearn.metrics import accuracy_score\n",
        "\n",
        "# Load the Iris dataset\n",
        "iris = load_iris()\n",
        "X, y = iris.data, iris.target\n",
        "\n",
        "# Split dataset into training (80%) and testing (20%) sets\n",
        "X_train, X_test, y_train, y_test = train_test_split(X, y, test_size=0.2, random_state=42)\n",
        "\n",
        "# Define the Decision Tree Classifier\n",
        "clf = DecisionTreeClassifier(random_state=42)\n",
        "\n",
        "# Define the hyperparameter grid\n",
        "param_grid = {\n",
        "    'max_depth': [3, 5, 10, None],  # Different depths including unrestricted tree\n",
        "    'min_samples_split': [2, 5, 10]  # Minimum samples to split a node\n",
        "}\n",
        "\n",
        "# Use GridSearchCV to find the best hyperparameters\n",
        "grid_search = GridSearchCV(clf, param_grid, cv=5, scoring='accuracy')\n",
        "grid_search.fit(X_train, y_train)\n",
        "\n",
        "# Print the best parameters\n",
        "print(f\"Best Parameters: {grid_search.best_params_}\")\n",
        "\n",
        "# Train a Decision Tree using the best parameters\n",
        "best_clf = grid_search.best_estimator_\n",
        "y_pred = best_clf.predict(X_test)\n",
        "\n",
        "# Calculate and print accuracy\n",
        "accuracy = accuracy_score(y_test, y_pred)\n",
        "print(f\"Model Accuracy with Best Parameters: {accuracy:.2f}\")\n"
      ],
      "metadata": {
        "colab": {
          "base_uri": "https://localhost:8080/"
        },
        "id": "ReasOx_tbHSy",
        "outputId": "e2cffb04-6ec8-4f57-f74f-34375de03657"
      },
      "execution_count": 16,
      "outputs": [
        {
          "output_type": "stream",
          "name": "stdout",
          "text": [
            "Best Parameters: {'max_depth': 10, 'min_samples_split': 2}\n",
            "Model Accuracy with Best Parameters: 1.00\n"
          ]
        }
      ]
    }
  ]
}