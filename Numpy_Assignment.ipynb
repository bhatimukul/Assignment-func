{
  "nbformat": 4,
  "nbformat_minor": 0,
  "metadata": {
    "colab": {
      "provenance": [],
      "authorship_tag": "ABX9TyMjxae2O/uIaRa/TYHj+fm2",
      "include_colab_link": true
    },
    "kernelspec": {
      "name": "python3",
      "display_name": "Python 3"
    },
    "language_info": {
      "name": "python"
    }
  },
  "cells": [
    {
      "cell_type": "markdown",
      "metadata": {
        "id": "view-in-github",
        "colab_type": "text"
      },
      "source": [
        "<a href=\"https://colab.research.google.com/github/bhatimukul/Assignment-func/blob/main/Numpy_Assignment.ipynb\" target=\"_parent\"><img src=\"https://colab.research.google.com/assets/colab-badge.svg\" alt=\"Open In Colab\"/></a>"
      ]
    },
    {
      "cell_type": "markdown",
      "source": [
        "# ***Theoretical Question:***\n",
        "\n",
        "---\n",
        "\n",
        "\n",
        "\n",
        "---"
      ],
      "metadata": {
        "id": "mfF_rUiLed_K"
      }
    },
    {
      "cell_type": "markdown",
      "source": [
        "**Q1.Explain the purpose and advantages of Numpy in scientiic computing and data analysis. How does it enhance Python's capabilities for numerical operations?**"
      ],
      "metadata": {
        "id": "G-ma_yIpe1yq"
      }
    },
    {
      "cell_type": "markdown",
      "source": [
        "Ans. NumPy (Numerical Python) is a powerful library in Python that is essential for scientific computing and data analysis. It enhances Python's capabilities for numerical operations by providing support for efficient handling of large multidimensional arrays and matrices, along with a wide collection of mathematical functions. Here are the key purposes and advantages of using NumPy:\n",
        "\n",
        "1. Efficient Array Handling\n",
        "\n",
        ".Purpose:NumPy provides the ndarray (N-dimensional array) object, which is a highly optimized data structure for handling large datasets.\n",
        "\n",
        ".Advantage: Compared to Python’s built-in lists, NumPy arrays are more memory-efficient and faster for operations on large datasets because they store data in contiguous memory locations. This allows NumPy to take advantage of low-level optimizations in C and Fortran, resulting in faster execution.\n",
        "2. Mathematical Functions and Linear Algebra\n",
        "\n",
        ".Purpose: NumPy provides a large set of mathematical functions such as trigonometric functions, algebraic functions, and statistical operations.\n",
        "\n",
        ".Advantage: It simplifies complex mathematical operations by providing easy-to-use functions for matrix multiplication, solving linear equations, eigenvalues, and more. These operations are fundamental in scientific computing and data analysis and are optimized for speed and efficiency.\n",
        "3. Vectorization and Broadcasting\n",
        "\n",
        ".Purpose: NumPy allows operations on entire arrays without writing loops, which is known as vectorization. Broadcasting refers to performing operations on arrays of different shapes in a way that aligns dimensions automatically.\n",
        "\n",
        ".Advantage: This feature removes the need for explicit loops, making code more concise, easier to read, and much faster due to underlying optimizations. It also makes working with arrays of different sizes simpler and more intuitive.\n",
        "4. Integration with Other Libraries\n",
        "\n",
        ".Purpose: NumPy is the foundation for many other scientific and data analysis libraries in Python, such as SciPy, Pandas, TensorFlow, and Matplotlib.\n",
        "\n",
        ".Advantage: It seamlessly integrates with these libraries, making it the core of the scientific computing ecosystem in Python. For instance, Pandas uses NumPy arrays for its DataFrame structures, and Matplotlib uses NumPy for efficient plotting of large datasets.\n",
        "5. Handling Large Datasets\n",
        "\n",
        ".Purpose: NumPy provides support for handling and processing large datasets efficiently.\n",
        "\n",
        ".Advantage: Since NumPy arrays are more compact and computationally efficient compared to Python lists, they are better suited for handling large amounts of data that are common in fields like data science, machine learning, and computational physics.\n",
        "6. Interfacing with C/C++ and Fortran\n",
        "\n",
        ".Purpose: NumPy can interface directly with code written in C, C++, or Fortran, which are often used in high-performance computing.\n",
        "\n",
        ".Advantage: This allows developers to write performance-critical sections of code in these languages, while using Python and NumPy for higher-level logic. This feature provides the flexibility to build fast and efficient numerical programs.\n",
        "7. Multidimensional Data Manipulation\n",
        "\n",
        ".Purpose: NumPy’s array operations are extended to multiple dimensions, allowing for manipulation of data in higher-dimensional spaces (e.g., 3D, 4D arrays).\n",
        "\n",
        ".Advantage: This is crucial for scientific computing tasks that involve simulations, image processing, or any data analysis involving multiple dimensions.\n",
        "8. Support for Random Number Generation\n",
        "\n",
        ".Purpose: NumPy comes with a submodule (numpy.random) that supports generating random numbers from various distributions.\n",
        "\n",
        ".Advantage: This is essential for statistical simulations, machine learning, and Monte Carlo methods, where random sampling is required.\n",
        "9. Data Masking and Missing Data Handling\n",
        "\n",
        ".Purpose: NumPy supports masked arrays, which allow for ignoring certain elements in an array when performing computations.\n",
        "\n",
        ".Advantage: This feature is useful when handling datasets with missing or invalid data, allowing analysts to apply mathematical operations only to valid data.\n",
        "10. Cross-platform Compatibility\n",
        "\n",
        ".Purpose: NumPy is designed to work efficiently on a variety of platforms (Windows, macOS, Linux).\n",
        "\n",
        ".Advantage: This makes it accessible for a wide range of users and applications, from scientific research on high-performance clusters to personal projects on personal computers.\n",
        "\n",
        "Summary of Benefits:\n",
        "\n",
        ".Speed: NumPy is faster than Python's native list-based operations.\n",
        "\n",
        ".Memory Efficiency: Efficient memory usage due to contiguous data storage.\n",
        "\n",
        ".Convenience: Easy handling of mathematical, statistical, and linear algebraic operations.\n",
        "\n",
        ".Integration: Seamless with other scientific and data analysis libraries.\n",
        "\n",
        ".Flexibility: Powerful broadcasting and vectorized operations.\n",
        "\n",
        "Overall, NumPy is a foundational tool that makes Python highly suitable for numerical analysis and scientific computing, offering both performance and simplicity.\n",
        "\n",
        "\n",
        "\n",
        "\n",
        "\n",
        "\n",
        "\n",
        "\n",
        "\n",
        "\n",
        "\n"
      ],
      "metadata": {
        "id": "ZZmOtA12guKv"
      }
    },
    {
      "cell_type": "markdown",
      "source": [
        "**Q2.Compare and contrast np.mean() and np.average() functionsin NumPy. When would you use one over the other?**"
      ],
      "metadata": {
        "id": "OrgNySU5lm_e"
      }
    },
    {
      "cell_type": "markdown",
      "source": [
        "Ans. In NumPy, both np.mean() and np.average() are used to compute the average of an array, but they differ in their behavior and specific use cases. Let’s compare and contrast them and see when each should be used.\n",
        "\n",
        "1. Basic Functionality\n",
        "\n",
        ".np.mean():\n",
        "\n",
        ".Definition: Computes the arithmetic mean (average) of the elements in an array.\n",
        "\n",
        ".Usage: np.mean(arr) simply sums all the elements in the array arr and divides by the number of elements.\n",
        "\n",
        ".Example:\n"
      ],
      "metadata": {
        "id": "crH93loEmUDO"
      }
    },
    {
      "cell_type": "code",
      "source": [
        "import numpy as np\n",
        "arr = np.array([1, 2, 3, 4])\n",
        "mean_value = np.mean(arr)  # Output: 2.5\n"
      ],
      "metadata": {
        "id": "MeRfstumpPNW"
      },
      "execution_count": 1,
      "outputs": []
    },
    {
      "cell_type": "markdown",
      "source": [
        ".np.average():\n",
        "\n",
        ".Definition: Computes a weighted average of the elements in an array. If no weights are provided, it behaves the same as np.mean().\n",
        "\n",
        ".Usage: np.average(arr, weights=w) allows you to compute a weighted average by giving each element of the array a weight, affecting its contribution to the final average.\n",
        "\n",
        ".Example (With weights):"
      ],
      "metadata": {
        "id": "mDFZVvW7petJ"
      }
    },
    {
      "cell_type": "code",
      "source": [
        "arr = np.array([1, 2, 3, 4])\n",
        "weights = np.array([0.1, 0.2, 0.3, 0.4])\n",
        "weighted_avg = np.average(arr, weights=weights)  # Output: 3.0\n"
      ],
      "metadata": {
        "id": "NQOQIwGEqJIO"
      },
      "execution_count": 2,
      "outputs": []
    },
    {
      "cell_type": "markdown",
      "source": [
        "2. Weighted Average in np.average()\n",
        "\n",
        "The key distinction is that np.average() supports a weights parameter, which allows for calculating a weighted mean. In a weighted mean, each element of the array contributes differently to the result based on its associated weight.\n",
        "\n",
        "3.  When to Use np.mean()\n",
        "\n",
        "Use np.mean() when you want a simple, unweighted average. This is appropriate for most cases where all elements contribute equally to the result.\n",
        "\n",
        "Example: If you want the average temperature for a given day based on hourly measurements, where each measurement is equally important."
      ],
      "metadata": {
        "id": "wLzqdc96qp7B"
      }
    },
    {
      "cell_type": "code",
      "source": [
        "temperatures = np.array([70, 72, 68, 65])\n",
        "avg_temperature = np.mean(temperatures)  # Output: 68.75\n"
      ],
      "metadata": {
        "id": "L3kWPG8OrdTQ"
      },
      "execution_count": 3,
      "outputs": []
    },
    {
      "cell_type": "markdown",
      "source": [
        "4. When to Use np.average()\n",
        "\n",
        "Use np.average() when you need to compute a weighted average, where certain elements should contribute more heavily to the final result based on their importance or relevance.\n",
        "\n",
        "Example: If you want the average grade for a student, but different assignments have different weights (e.g., final exam has more weight than a quiz)."
      ],
      "metadata": {
        "id": "qhp9jFeXrjqJ"
      }
    },
    {
      "cell_type": "code",
      "source": [
        "grades = np.array([85, 90, 78])\n",
        "weights = np.array([0.2, 0.5, 0.3])  # Final exam has more weight\n",
        "weighted_average = np.average(grades, weights=weights)  # Output: 86.1\n"
      ],
      "metadata": {
        "id": "iMO1PgPsrxxE"
      },
      "execution_count": 4,
      "outputs": []
    },
    {
      "cell_type": "markdown",
      "source": [
        "5.  Performance\n",
        "\n",
        "Both np.mean() and np.average() are efficient, but if you're simply calculating the arithmetic mean without weights, np.mean() is slightly faster since it has fewer operations to perform.\n",
        "\n",
        "Summary of When to Use:\n",
        "\n",
        ".Use np.mean() when you need a simple, unweighted arithmetic average.\n",
        "\n",
        ".Use np.average() when you need a weighted average or when different elements should contribute to the result differently based on a weight system.\n",
        "\n",
        "In cases where no weights are needed, both functions will give the same result.\n",
        "\n"
      ],
      "metadata": {
        "id": "mWQZtnEQsB52"
      }
    },
    {
      "cell_type": "markdown",
      "source": [
        "**Q3. Describe the methodes or reversing a NumPy array along different axes. Provide examples for 1D and 2D arrays.**"
      ],
      "metadata": {
        "id": "vnDjdAbOsyAU"
      }
    },
    {
      "cell_type": "markdown",
      "source": [
        "Ans. Reversing a NumPy array along different axes can be done using a variety of methods, depending on the dimensionality of the array and the axis along which you want to reverse the elements. Below, I will explain the methods for reversing arrays along different axes, and provide examples for both 1D and 2D arrays.\n",
        "\n",
        "Methods for Reversing a NumPy Array\n",
        "\n",
        "1. Using slicing ([::-1]): This is the most common and Pythonic way to reverse a NumPy array. You can use slicing to reverse the array along a specific axis.\n",
        "\n",
        "2. Using np.flip(): NumPy provides a built-in function np.flip(), which allows you to reverse an array along any specified axis.\n",
        "\n",
        "3. Using np.flipud() and np.fliplr(): These functions are specific to 2D arrays. np.flipud() reverses the array along the vertical axis (up-down), while np.fliplr() reverses it along the horizontal axis (left-right).\n",
        "\n",
        "Reversing a 1D Array\n",
        "\n",
        "Method 1: Using slicing ([::-1])"
      ],
      "metadata": {
        "id": "ROl3KRh9t82N"
      }
    },
    {
      "cell_type": "code",
      "source": [
        "import numpy as np\n",
        "\n",
        "arr_1d = np.array([1, 2, 3, 4, 5])\n",
        "reversed_arr = arr_1d[::-1]\n",
        "print(reversed_arr)\n"
      ],
      "metadata": {
        "colab": {
          "base_uri": "https://localhost:8080/"
        },
        "id": "BdGPoAjjwL9S",
        "outputId": "5c5124ac-0e18-4048-edaf-89e4dec1667e"
      },
      "execution_count": 5,
      "outputs": [
        {
          "output_type": "stream",
          "name": "stdout",
          "text": [
            "[5 4 3 2 1]\n"
          ]
        }
      ]
    },
    {
      "cell_type": "markdown",
      "source": [
        "Method 2: Using np.flip()"
      ],
      "metadata": {
        "id": "mdvszrKuwcgj"
      }
    },
    {
      "cell_type": "code",
      "source": [
        "reversed_arr = np.flip(arr_1d)\n",
        "print(reversed_arr)\n"
      ],
      "metadata": {
        "colab": {
          "base_uri": "https://localhost:8080/"
        },
        "id": "zxknIg9XwieL",
        "outputId": "06c0f488-4a5e-4cb1-d2ae-154d51e8c09c"
      },
      "execution_count": 6,
      "outputs": [
        {
          "output_type": "stream",
          "name": "stdout",
          "text": [
            "[5 4 3 2 1]\n"
          ]
        }
      ]
    },
    {
      "cell_type": "markdown",
      "source": [
        "Reversing a 2D\n",
        "\n",
        "Let's take a 2D array and explore how to reverse it along different axes."
      ],
      "metadata": {
        "id": "wP5GQh64wllE"
      }
    },
    {
      "cell_type": "code",
      "source": [
        "arr_2d = np.array([[1, 2, 3],\n",
        "                   [4, 5, 6],\n",
        "                   [7, 8, 9]])\n"
      ],
      "metadata": {
        "id": "s2XJ_O4LwyMP"
      },
      "execution_count": 7,
      "outputs": []
    },
    {
      "cell_type": "markdown",
      "source": [
        "Method 1: Reverse along the vertical axis (rows) using slicing"
      ],
      "metadata": {
        "id": "ZMyi-kAxw0XP"
      }
    },
    {
      "cell_type": "code",
      "source": [
        "reversed_arr_rows = arr_2d[::-1, :]\n",
        "print(reversed_arr_rows)\n"
      ],
      "metadata": {
        "colab": {
          "base_uri": "https://localhost:8080/"
        },
        "id": "kjUMbPftw7Gu",
        "outputId": "1bee9361-1bac-4d73-ef18-25b0437bde16"
      },
      "execution_count": 8,
      "outputs": [
        {
          "output_type": "stream",
          "name": "stdout",
          "text": [
            "[[7 8 9]\n",
            " [4 5 6]\n",
            " [1 2 3]]\n"
          ]
        }
      ]
    },
    {
      "cell_type": "markdown",
      "source": [
        "Method 2: Reverse along the vertical axis using np.flipud()"
      ],
      "metadata": {
        "id": "vMPQDL5Ew_cV"
      }
    },
    {
      "cell_type": "code",
      "source": [
        "reversed_arr_rows = np.flipud(arr_2d)\n",
        "print(reversed_arr_rows)\n"
      ],
      "metadata": {
        "colab": {
          "base_uri": "https://localhost:8080/"
        },
        "id": "wwcznrOAxEMv",
        "outputId": "d8116373-d550-4809-e655-b13428507cea"
      },
      "execution_count": 9,
      "outputs": [
        {
          "output_type": "stream",
          "name": "stdout",
          "text": [
            "[[7 8 9]\n",
            " [4 5 6]\n",
            " [1 2 3]]\n"
          ]
        }
      ]
    },
    {
      "cell_type": "markdown",
      "source": [
        "Method 3: Reverse along the horizontal axis (columns) using slicing"
      ],
      "metadata": {
        "id": "V2IngWBjxQyC"
      }
    },
    {
      "cell_type": "code",
      "source": [
        "reversed_arr_columns = arr_2d[:, ::-1]\n",
        "print(reversed_arr_columns)\n"
      ],
      "metadata": {
        "colab": {
          "base_uri": "https://localhost:8080/"
        },
        "id": "mWpqgVJexR19",
        "outputId": "e2f926d5-0c38-489c-ff71-cc5d0a43d2f2"
      },
      "execution_count": 10,
      "outputs": [
        {
          "output_type": "stream",
          "name": "stdout",
          "text": [
            "[[3 2 1]\n",
            " [6 5 4]\n",
            " [9 8 7]]\n"
          ]
        }
      ]
    },
    {
      "cell_type": "markdown",
      "source": [
        "Method 4: Reverse along the horizontal axis using np.fliplr()"
      ],
      "metadata": {
        "id": "0_AbbejWxc1u"
      }
    },
    {
      "cell_type": "code",
      "source": [
        "reversed_arr_columns = np.fliplr(arr_2d)\n",
        "print(reversed_arr_columns)\n"
      ],
      "metadata": {
        "colab": {
          "base_uri": "https://localhost:8080/"
        },
        "id": "5pN0ebxQyMaB",
        "outputId": "b1dd7a72-f562-49af-a256-9a4a868cdde2"
      },
      "execution_count": 11,
      "outputs": [
        {
          "output_type": "stream",
          "name": "stdout",
          "text": [
            "[[3 2 1]\n",
            " [6 5 4]\n",
            " [9 8 7]]\n"
          ]
        }
      ]
    },
    {
      "cell_type": "markdown",
      "source": [
        "Method 5: Reverse along both axes using slicing"
      ],
      "metadata": {
        "id": "-MjX_z3Oya5j"
      }
    },
    {
      "cell_type": "code",
      "source": [
        "reversed_arr_both_axes = arr_2d[::-1, ::-1]\n",
        "print(reversed_arr_both_axes)\n"
      ],
      "metadata": {
        "colab": {
          "base_uri": "https://localhost:8080/"
        },
        "id": "3toIlKUEyb01",
        "outputId": "04c20d33-13e0-4c0e-b1c2-bfab5b3ae5c8"
      },
      "execution_count": 12,
      "outputs": [
        {
          "output_type": "stream",
          "name": "stdout",
          "text": [
            "[[9 8 7]\n",
            " [6 5 4]\n",
            " [3 2 1]]\n"
          ]
        }
      ]
    },
    {
      "cell_type": "markdown",
      "source": [
        "Method 6: Reverse along both axes using np.flip() with axis"
      ],
      "metadata": {
        "id": "rdbiPy1NyqJP"
      }
    },
    {
      "cell_type": "code",
      "source": [
        "reversed_arr_both_axes = np.flip(arr_2d, axis=(0, 1))\n",
        "print(reversed_arr_both_axes)\n"
      ],
      "metadata": {
        "colab": {
          "base_uri": "https://localhost:8080/"
        },
        "id": "hJxXckSCyq84",
        "outputId": "46d9674a-7766-4a21-f8bf-3bba0b919fce"
      },
      "execution_count": 13,
      "outputs": [
        {
          "output_type": "stream",
          "name": "stdout",
          "text": [
            "[[9 8 7]\n",
            " [6 5 4]\n",
            " [3 2 1]]\n"
          ]
        }
      ]
    },
    {
      "cell_type": "markdown",
      "source": [
        "Summary of Methods:\n",
        "\n",
        ".1D Array:\n",
        "\n",
        ".Use arr[::-1] or np.flip(arr) to reverse the elements.\n",
        "\n",
        ".2D Array:\n",
        "\n",
        ".Reverse rows (vertical axis) using arr[::-1, :] or np.flipud(arr).\n",
        ".Reverse columns (horizontal axis) using arr[:, ::-1] or np.fliplr(arr).\n",
        ".Reverse both axes using arr[::-1, ::-1] or np.flip(arr, axis=(0, 1))."
      ],
      "metadata": {
        "id": "g6Htrrsuy7C_"
      }
    },
    {
      "cell_type": "markdown",
      "source": [
        "**Q4. How can you determine the data types of elements in a NumPy array? Dicuss the importance o data types in memory management and performance.**"
      ],
      "metadata": {
        "id": "eNp3wL5uzRrO"
      }
    },
    {
      "cell_type": "markdown",
      "source": [
        "Ans. In NumPy, you can determine the data type (or dtype) of the elements in an array using the .dtype attribute. Here's an example:"
      ],
      "metadata": {
        "id": "7FHQ17hf3qE_"
      }
    },
    {
      "cell_type": "code",
      "source": [
        "import numpy as np\n",
        "\n",
        "# Create a NumPy array\n",
        "arr = np.array([1, 2, 3])\n",
        "\n",
        "# Determine the data type\n",
        "print(arr.dtype)\n"
      ],
      "metadata": {
        "colab": {
          "base_uri": "https://localhost:8080/"
        },
        "id": "m0HIhw6I4LjA",
        "outputId": "b77934bd-ea3a-40d8-ac2e-b8afe59fac5e"
      },
      "execution_count": 14,
      "outputs": [
        {
          "output_type": "stream",
          "name": "stdout",
          "text": [
            "int64\n"
          ]
        }
      ]
    },
    {
      "cell_type": "markdown",
      "source": [
        "Importance of Data Types in Memory Management and Performance:\n",
        "\n",
        "1. Memory Management:\n",
        "\n",
        ".Data types in NumPy determine how much memory is allocated for each element. For example, an int32 array uses 4 bytes per element, while an int64 array uses 8 bytes. Choosing the appropriate data type based on the range of values helps optimize memory usage.\n",
        "\n",
        ".For large datasets, using unnecessarily large data types leads to excessive memory consumption, which can slow down computations and lead to memory overflow issues.\n",
        "\n",
        " 2. Performance:\n",
        "\n",
        ".NumPy is designed for fast numerical computations, and the speed of operations is directly tied to the data types used. Operations on smaller data types (e.g., int32 or float32) are generally faster than those on larger ones (e.g., int64 or float64) because smaller types fit better in CPU caches, leading to quicker access times.\n",
        "\n",
        ".Certain vectorized operations or linear algebra routines in NumPy can take advantage of the specific size and structure of data types, leading to better CPU/GPU utilization."
      ],
      "metadata": {
        "id": "G4WJAr9S4OnO"
      }
    },
    {
      "cell_type": "markdown",
      "source": [
        "**Q5. Define ndarrays in NumPy and explain their key features. How do they differ from standard python lists?**"
      ],
      "metadata": {
        "id": "VSdwY4Fe5qS2"
      }
    },
    {
      "cell_type": "markdown",
      "source": [
        "Ans. In NumPy, ndarray (short for N-dimensional array) is the fundamental data structure used for numerical computations. It represents a grid of values, all of the same type, indexed by a tuple of non-negative integers. These arrays can be multi-dimensional, from 1D (vectors) to nD (matrices, tensors, etc.).\n",
        "\n",
        "Key Features of ndarray:\n",
        "\n",
        "1. Homogeneous Data Type:\n",
        "\n",
        "All elements of an ndarray must be of the same data type (dtype). This contrasts with Python lists, which can hold mixed types. Having a homogeneous data type allows for efficient memory management and faster computation.\n",
        "\n",
        "2. Fixed Size:\n",
        "\n",
        "Once an ndarray is created, its size is fixed. You cannot dynamically add or remove elements as you can with Python lists. This fixed-size nature leads to optimized memory usage.\n",
        "\n",
        "3. N-Dimensional:\n",
        "\n",
        "NumPy arrays can be multi-dimensional. While a Python list can have nested lists to represent higher dimensions, NumPy's ndarray provides a more compact and efficient way to handle multi-dimensional data. For example, a 2D array can represent matrices, and 3D or higher arrays can represent tensors.\n",
        "\n",
        "4. Vectorized Operations:\n",
        "\n",
        "ndarray supports element-wise operations without the need for explicit loops, enabling fast and efficient computation (called vectorization). For example:\n",
        "python"
      ],
      "metadata": {
        "id": "vjWLFUmO6P9Q"
      }
    },
    {
      "cell_type": "code",
      "source": [
        "arr1 = np.array([1, 2, 3])\n",
        "arr2 = np.array([4, 5, 6])\n",
        "result = arr1 + arr2  # Element-wise addition\n"
      ],
      "metadata": {
        "id": "zkOvPa1_9yvK"
      },
      "execution_count": 15,
      "outputs": []
    },
    {
      "cell_type": "markdown",
      "source": [
        "5. Efficient Memory Layout:\n",
        "\n",
        "ndarray objects store data in contiguous blocks of memory, ensuring that operations on large arrays are performed efficiently. In contrast, Python lists are arrays of pointers to objects, which is less memory-efficient.\n",
        "\n",
        "6. Broadcasting:\n",
        "\n",
        "NumPy arrays support broadcasting, a feature that allows arrays of different shapes to be combined in arithmetic operations. For example, you can add a scalar to an array or add two arrays of different shapes under certain conditions.\n",
        "\n",
        "7. Built-in Mathematical Functions:\n",
        "\n",
        "NumPy provides a rich set of mathematical operations and functions that are optimized for performance when working with ndarray objects, such as linear algebra operations, statistical functions, and random number generation.\n",
        "\n",
        "8. Slicing and Indexing:\n",
        "\n",
        "Like Python lists, ndarray supports slicing, but it is much more powerful. You can slice along multiple dimensions and access subarrays directly, making it easier to manipulate data."
      ],
      "metadata": {
        "id": "zgLPLOr591Uh"
      }
    },
    {
      "cell_type": "code",
      "source": [
        "arr = np.array([[1, 2, 3], [4, 5, 6]])\n",
        "print(arr[0, 1])  # Access element at first row, second column\n",
        "print(arr[:, 1])  # Access entire second column\n"
      ],
      "metadata": {
        "colab": {
          "base_uri": "https://localhost:8080/"
        },
        "id": "H12cq7Tm-fuF",
        "outputId": "a669e571-1de6-4eeb-821a-f32861f1891a"
      },
      "execution_count": 16,
      "outputs": [
        {
          "output_type": "stream",
          "name": "stdout",
          "text": [
            "2\n",
            "[2 5]\n"
          ]
        }
      ]
    },
    {
      "cell_type": "markdown",
      "source": [
        "In summary, NumPy’s ndarray is optimized for numerical computation and large-scale data handling, whereas Python lists offer more flexibility but come at a cost in terms of memory efficiency and performance.\n"
      ],
      "metadata": {
        "id": "kOW0NEtZ-lXx"
      }
    },
    {
      "cell_type": "markdown",
      "source": [
        "**Q6. Analyze the performance  benefites of NumPy arrays over Python lists for large-scale numerical operations .**"
      ],
      "metadata": {
        "id": "k3GMKUXs-u_1"
      }
    },
    {
      "cell_type": "markdown",
      "source": [
        "Ans. NumPy arrays (ndarray) provide significant performance benefits over Python lists, especially for large-scale numerical operations. These benefits stem from memory efficiency, faster computation due to vectorization, and integration with low-level libraries. Below is a detailed analysis of the performance advantages:\n",
        "\n",
        "1. Memory Efficiency\n",
        "\n",
        "Fixed and Contiguous Memory Allocation:\n",
        "\n",
        ".NumPy arrays store elements in contiguous blocks of memory, which reduces overhead and allows the system to access elements faster. In contrast, Python lists store references to objects, which means each element is a pointer to a separate memory location, leading to more memory overhead.\n",
        "\n",
        ".In large datasets, the memory savings from NumPy’s compact storage becomes substantial, allowing more data to fit into memory and reducing the likelihood of needing to swap data in and out of memory (paging), which can slow down computation.\n",
        "\n",
        "Examples:"
      ],
      "metadata": {
        "id": "FxEyOb3__QSX"
      }
    },
    {
      "cell_type": "code",
      "source": [
        "import numpy as np\n",
        "import sys\n",
        "\n",
        "# Large list and array with 1 million elements\n",
        "python_list = list(range(1000000))\n",
        "numpy_array = np.array(range(1000000))\n",
        "\n",
        "print(sys.getsizeof(python_list))  # Memory used by Python list\n",
        "print(numpy_array.nbytes)          # Memory used by NumPy array\n"
      ],
      "metadata": {
        "colab": {
          "base_uri": "https://localhost:8080/"
        },
        "id": "tN4ntzl0An1A",
        "outputId": "c4c0ee98-6441-43eb-8f87-7b41a7cd6926"
      },
      "execution_count": 17,
      "outputs": [
        {
          "output_type": "stream",
          "name": "stdout",
          "text": [
            "8000056\n",
            "8000000\n"
          ]
        }
      ]
    },
    {
      "cell_type": "markdown",
      "source": [
        "2. Vectorized Operations\n",
        "\n",
        "Eliminating Loops:\n",
        "\n",
        ".One of the most important performance benefits of NumPy is vectorization, which allows operations to be performed element-wise on arrays without needing explicit loops. Python loops are slow because of the overhead of interpreting each loop step. NumPy eliminates this by executing operations in compiled C\n",
        "code underneath, bypassing Python’s interpreter.\n",
        "\n",
        ".This results in O(n) operations being done in bulk, which drastically improves performance for large-scale computations.\n",
        "\n",
        "Example:"
      ],
      "metadata": {
        "id": "td3BL1B5AqL3"
      }
    },
    {
      "cell_type": "code",
      "source": [
        "import numpy as np\n",
        "\n",
        "# Using NumPy for vectorized operations\n",
        "arr = np.array([1, 2, 3, 4, 5])\n",
        "result = arr * 2  # Vectorized operation, each element is multiplied by 2\n"
      ],
      "metadata": {
        "id": "rWqxR40CBNod"
      },
      "execution_count": 18,
      "outputs": []
    },
    {
      "cell_type": "markdown",
      "source": [
        "3. Optimized Low-Level Computations\n",
        "\n",
        ".NumPy operations are implemented in low-level C and Fortran, which are much faster than the Python interpreter. This allows it to leverage highly optimized libraries like BLAS (Basic Linear Algebra Subprograms) and LAPACK (Linear Algebra Package) for matrix operations, making NumPy very efficient for tasks such as linear algebra, Fourier transforms, and random number generation.\n",
        "\n",
        ".These optimizations make NumPy arrays faster for large numerical operations, particularly when dealing with multidimensional arrays or matrix computations.\n",
        "\n",
        "4. Efficient Broadcasting Mechanism\n",
        "\n",
        ".NumPy's broadcasting mechanism allows arrays of different shapes to be operated on without creating unnecessary copies or using inefficient loops. Broadcasting automatically expands the smaller array to match the size of the larger one, performing element-wise operations efficiently.\n",
        "\n",
        ".In contrast, Python lists require explicit looping, which is much slower for large datasets.\n",
        "\n",
        "Example of broadcasting:"
      ],
      "metadata": {
        "id": "3GJvWPLbBUk0"
      }
    },
    {
      "cell_type": "code",
      "source": [
        "arr1 = np.array([1, 2, 3])\n",
        "arr2 = np.array([4])\n",
        "result = arr1 + arr2  # Broadcasts scalar 4 to all elements of arr1\n"
      ],
      "metadata": {
        "id": "c8o9YI4zCCA5"
      },
      "execution_count": 19,
      "outputs": []
    },
    {
      "cell_type": "markdown",
      "source": [
        "5. Pre-compiled Functions and Mathematical Libraries\n",
        "\n",
        ".NumPy comes with a large set of pre-compiled mathematical functions (e.g., trigonometric, statistical, linear algebra) that operate directly on arrays. These functions are optimized for performance and avoid the overhead of function calls within Python loops.\n",
        "\n",
        "For example, computing the mean of a large dataset using NumPy’s np.mean() is significantly faster than using Python's built-in functions.\n",
        "\n",
        "Example:"
      ],
      "metadata": {
        "id": "lzSij5jYCFO1"
      }
    },
    {
      "cell_type": "code",
      "source": [
        "import numpy as np\n",
        "import time\n",
        "\n",
        "arr = np.random.rand(10000000)\n",
        "\n",
        "start_time = time.time()\n",
        "np.mean(arr)  # Pre-compiled and optimized function\n",
        "print(\"NumPy mean took:\", time.time() - start_time)\n",
        "\n",
        "# Python equivalent would be slower\n",
        "start_time = time.time()\n",
        "sum(arr) / len(arr)  # Python loop-based mean calculation\n",
        "print(\"Python list mean took:\", time.time() - start_time)\n"
      ],
      "metadata": {
        "colab": {
          "base_uri": "https://localhost:8080/"
        },
        "id": "2KdEG2ABCceN",
        "outputId": "c156f6dc-a4ef-46bd-ab21-748b7fb5d896"
      },
      "execution_count": 20,
      "outputs": [
        {
          "output_type": "stream",
          "name": "stdout",
          "text": [
            "NumPy mean took: 0.0076138973236083984\n",
            "Python list mean took: 1.0102553367614746\n"
          ]
        }
      ]
    },
    {
      "cell_type": "markdown",
      "source": [
        "6. Support for Multidimensional Arrays\n",
        "\n",
        ".While Python lists can represent multi-dimensional arrays using nested lists, this is inefficient for large datasets. NumPy arrays handle multidimensional data natively, offering better performance when working with tensors or matrices.\n",
        "\n",
        ".Operations such as slicing, indexing, and matrix manipulations are far more efficient in NumPy due to its optimized handling of higher-dimensional data.\n",
        "7. In-place Operations\n",
        "\n",
        ".NumPy allows in-place operations, which can save both time and memory. By modifying the original array instead of creating new copies, NumPy avoids unnecessary data duplication.\n",
        ".Python lists, on the other hand, often require the creation of new lists for modifications, especially when performing operations element-wise.\n",
        "8. Parallelization\n",
        "\n",
        ".Some NumPy operations are implicitly parallelized across multiple CPU cores, which significantly speeds up large-scale computations. Python's native list operations don’t have this advantage and often rely on single-threaded execution.\n",
        "9. Avoiding Python Overheads\n",
        "\n",
        ".Python lists incur various types of overheads, such as reference counting and dynamic type checks, every time an element is accessed. In contrast, NumPy arrays store elements in fixed-size, typed blocks of memory, which avoids these overheads and results in faster access and manipulation.\n",
        "\n",
        "Performance Comparison Example:"
      ],
      "metadata": {
        "id": "TUMr8UCpChm_"
      }
    },
    {
      "cell_type": "code",
      "source": [
        "import numpy as np\n",
        "import time\n",
        "\n",
        "# Large data size\n",
        "size = 10000000\n",
        "\n",
        "# NumPy array\n",
        "arr = np.arange(size)\n",
        "start = time.time()\n",
        "arr = arr * 2  # Vectorized operation\n",
        "print(\"NumPy array took:\", time.time() - start)\n",
        "\n",
        "# Python list\n",
        "lst = list(range(size))\n",
        "start = time.time()\n",
        "lst = [x * 2 for x in lst]  # Loop-based operation\n",
        "print(\"Python list took:\", time.time() - start)\n"
      ],
      "metadata": {
        "colab": {
          "base_uri": "https://localhost:8080/"
        },
        "id": "LDYk8VLdEE8n",
        "outputId": "21e83f71-8648-4a7f-fd50-b6eaa554127b"
      },
      "execution_count": 22,
      "outputs": [
        {
          "output_type": "stream",
          "name": "stdout",
          "text": [
            "NumPy array took: 0.03197193145751953\n",
            "Python list took: 1.4516642093658447\n"
          ]
        }
      ]
    },
    {
      "cell_type": "markdown",
      "source": [
        "In this case, the NumPy array will perform significantly faster than the Python list, especially as the data size increases.\n",
        "\n",
        "\n",
        "Conclusion:\n",
        "\n",
        "NumPy arrays offer better memory efficiency, faster execution due to vectorization, and optimized low-level operations, making them far more suitable for large-scale numerical operations than Python lists. These features are crucial for scientific computing, machine learning, and data analysis tasks, where performance matters greatly when dealing with large datasets.\n",
        "\n"
      ],
      "metadata": {
        "id": "W-0GknoUEKo6"
      }
    },
    {
      "cell_type": "markdown",
      "source": [
        "**Q7. Compare vstack() ans hstack() function in NumPy. Provide examples demonstrating their usage and output.**"
      ],
      "metadata": {
        "id": "Oe8b2JDgEZDS"
      }
    },
    {
      "cell_type": "markdown",
      "source": [
        "Ans. In NumPy, vstack() and hstack() are used to stack arrays along different axes. They are useful for combining arrays either vertically (row-wise) or horizontally (column-wise). Let's break down how they work:\n",
        "\n",
        "1. vstack() Function (Vertical Stack)\n",
        "\n",
        ".Purpose: Stacks arrays vertically (i.e., row-wise). It combines arrays along the vertical (first) axis.\n",
        "\n",
        ".Shape Requirement: Arrays to be stacked must have the same number of columns (second dimension).\n",
        "\n",
        "Example of vstack():"
      ],
      "metadata": {
        "id": "qQBDQJLIFJMF"
      }
    },
    {
      "cell_type": "code",
      "source": [
        "import numpy as np\n",
        "\n",
        "# Two 1D arrays\n",
        "arr1 = np.array([1, 2, 3])\n",
        "arr2 = np.array([4, 5, 6])\n",
        "\n",
        "# Using vstack to stack vertically\n",
        "result = np.vstack((arr1, arr2))\n",
        "print(result)\n"
      ],
      "metadata": {
        "colab": {
          "base_uri": "https://localhost:8080/"
        },
        "id": "jTT913UeFxzI",
        "outputId": "6645e02b-1533-4a03-8829-1e6698fadd15"
      },
      "execution_count": 23,
      "outputs": [
        {
          "output_type": "stream",
          "name": "stdout",
          "text": [
            "[[1 2 3]\n",
            " [4 5 6]]\n"
          ]
        }
      ]
    },
    {
      "cell_type": "markdown",
      "source": [
        "Example with 2D arrays:"
      ],
      "metadata": {
        "id": "JcSb7ZS7F45L"
      }
    },
    {
      "cell_type": "code",
      "source": [
        "# Two 2D arrays\n",
        "arr1 = np.array([[1, 2], [3, 4]])\n",
        "arr2 = np.array([[5, 6]])\n",
        "\n",
        "# Stack vertically\n",
        "result = np.vstack((arr1, arr2))\n",
        "print(result)\n"
      ],
      "metadata": {
        "colab": {
          "base_uri": "https://localhost:8080/"
        },
        "id": "NwYfut8EGGUP",
        "outputId": "b5f4ecf7-ae7a-43f5-e562-4f5db157d9ae"
      },
      "execution_count": 24,
      "outputs": [
        {
          "output_type": "stream",
          "name": "stdout",
          "text": [
            "[[1 2]\n",
            " [3 4]\n",
            " [5 6]]\n"
          ]
        }
      ]
    },
    {
      "cell_type": "markdown",
      "source": [
        "2. hstack() Function (Horizontal Stack)\n",
        "\n",
        ".Purpose: Stacks arrays horizontally (i.e., column-wise). It combines arrays along the horizontal (second) axis.\n",
        "\n",
        ".Shape Requirement: Arrays to be stacked must have the same number of rows (first dimension).\n",
        "\n",
        "Example of hstack():"
      ],
      "metadata": {
        "id": "wnRf6Cd1GK9G"
      }
    },
    {
      "cell_type": "code",
      "source": [
        "# Two 1D arrays\n",
        "arr1 = np.array([1, 2, 3])\n",
        "arr2 = np.array([4, 5, 6])\n",
        "\n",
        "# Using hstack to stack horizontally\n",
        "result = np.hstack((arr1, arr2))\n",
        "print(result)\n"
      ],
      "metadata": {
        "colab": {
          "base_uri": "https://localhost:8080/"
        },
        "id": "05oIlCaOGlPF",
        "outputId": "d34471fc-9ce2-46ba-9327-50eea779d43d"
      },
      "execution_count": 25,
      "outputs": [
        {
          "output_type": "stream",
          "name": "stdout",
          "text": [
            "[1 2 3 4 5 6]\n"
          ]
        }
      ]
    },
    {
      "cell_type": "markdown",
      "source": [
        "Example with 2D arrays:"
      ],
      "metadata": {
        "id": "9HlBP3F7GsuV"
      }
    },
    {
      "cell_type": "code",
      "source": [
        "# Two 2D arrays\n",
        "arr1 = np.array([[1, 2], [3, 4]])\n",
        "arr2 = np.array([[5, 6], [7, 8]])\n",
        "\n",
        "# Stack horizontally\n",
        "result = np.hstack((arr1, arr2))\n",
        "print(result)\n"
      ],
      "metadata": {
        "colab": {
          "base_uri": "https://localhost:8080/"
        },
        "id": "ZDYHFpA4Gx6D",
        "outputId": "e7a0e649-3777-4691-d5c2-0b659947441f"
      },
      "execution_count": 26,
      "outputs": [
        {
          "output_type": "stream",
          "name": "stdout",
          "text": [
            "[[1 2 5 6]\n",
            " [3 4 7 8]]\n"
          ]
        }
      ]
    },
    {
      "cell_type": "markdown",
      "source": [
        "Additional Notes:\n",
        "\n",
        ".Dimension Transformation: When stacking 1D arrays using vstack(), the output will be 2D (each array becomes a row). When stacking 1D arrays with hstack(), the result remains 1D.\n",
        "\n",
        "Both functions are very useful in merging datasets, particularly when working with tabular or matrix-like data.\n",
        "\n",
        "\n",
        "\n",
        "\n",
        "\n",
        "\n"
      ],
      "metadata": {
        "id": "chTbgBAcG3Sn"
      }
    },
    {
      "cell_type": "markdown",
      "source": [
        "**Q8. Explain the difference between fliplr() and flipud() methods in Numpy, including their effects on various array dimensions.**"
      ],
      "metadata": {
        "id": "Nsf2dTWO6Jrw"
      }
    },
    {
      "cell_type": "markdown",
      "source": [
        "Ans. In NumPy, the fliplr() and flipud() functions are used to reverse the order of elements along specific axes of a 2D array. They both flip the array, but they work on different dimensions:\n",
        "\n",
        "1. np.fliplr() (Flip Left to Right):\n",
        "\n",
        ".It flips the array horizontally, meaning it reverses the order of elements\n",
        "along the columns (axis 1).\n",
        "\n",
        ".This is equivalent to mirroring the array along the vertical axis.\n",
        "\n",
        ".It requires at least a 2D array, and if applied to a higher-dimensional array, it affects only the last two dimensions.\n",
        "\n",
        "Example:"
      ],
      "metadata": {
        "id": "dj_FqyIn8ipt"
      }
    },
    {
      "cell_type": "code",
      "source": [
        "import numpy as np\n",
        "arr = np.array([[1, 2, 3], [4, 5, 6]])\n",
        "print(np.fliplr(arr))\n"
      ],
      "metadata": {
        "colab": {
          "base_uri": "https://localhost:8080/"
        },
        "id": "2k_IBmEW_OTJ",
        "outputId": "809c7d55-6458-4887-84d1-f9cd41bf38fe"
      },
      "execution_count": 1,
      "outputs": [
        {
          "output_type": "stream",
          "name": "stdout",
          "text": [
            "[[3 2 1]\n",
            " [6 5 4]]\n"
          ]
        }
      ]
    },
    {
      "cell_type": "markdown",
      "source": [
        "2. np.flipud() (Flip Up to Down):\n",
        "\n",
        ".It flips the array vertically, meaning it reverses the order of elements along the rows (axis 0).\n",
        "\n",
        ".This is equivalent to mirroring the array along the horizontal axis.\n",
        "\n",
        ".It can be applied to any array with 2 or more dimensions, and it only affects the rows.\n",
        "\n",
        "Example:"
      ],
      "metadata": {
        "id": "bPH4kZeg_YTU"
      }
    },
    {
      "cell_type": "code",
      "source": [
        "import numpy as np\n",
        "arr = np.array([[1, 2, 3], [4, 5, 6]])\n",
        "print(np.flipud(arr))\n"
      ],
      "metadata": {
        "colab": {
          "base_uri": "https://localhost:8080/"
        },
        "id": "sJkyjWbJ_oTe",
        "outputId": "cb1dd0fa-2e01-4158-80f8-77ac34662f05"
      },
      "execution_count": 2,
      "outputs": [
        {
          "output_type": "stream",
          "name": "stdout",
          "text": [
            "[[4 5 6]\n",
            " [1 2 3]]\n"
          ]
        }
      ]
    },
    {
      "cell_type": "markdown",
      "source": [
        "Summary of Differences:\n",
        "\n",
        ".np.fliplr() flips the array horizontally, reversing the order of columns.\n",
        "\n",
        ".np.flipud() flips the array vertically, reversing the order of rows.\n",
        "\n",
        "Behavior with 3D Arrays:\n",
        "\n",
        ".Both fliplr() and flipud() only affect the last two dimensions in a 3D array.\n",
        "\n",
        "Example (for fliplr()):"
      ],
      "metadata": {
        "id": "ipA8tLsS_vXL"
      }
    },
    {
      "cell_type": "code",
      "source": [
        "arr = np.array([[[1, 2], [3, 4]], [[5, 6], [7, 8]]])\n",
        "print(np.fliplr(arr))\n"
      ],
      "metadata": {
        "colab": {
          "base_uri": "https://localhost:8080/"
        },
        "id": "FbPgbirlAVRt",
        "outputId": "f7ab0412-4933-40a9-d569-c0b8bb3465c9"
      },
      "execution_count": 3,
      "outputs": [
        {
          "output_type": "stream",
          "name": "stdout",
          "text": [
            "[[[3 4]\n",
            "  [1 2]]\n",
            "\n",
            " [[7 8]\n",
            "  [5 6]]]\n"
          ]
        }
      ]
    },
    {
      "cell_type": "markdown",
      "source": [
        "Example (for flipud()):"
      ],
      "metadata": {
        "id": "pmu9sRIsAlft"
      }
    },
    {
      "cell_type": "code",
      "source": [
        "arr = np.array([[[1, 2], [3, 4]], [[5, 6], [7, 8]]])\n",
        "print(np.flipud(arr))\n"
      ],
      "metadata": {
        "colab": {
          "base_uri": "https://localhost:8080/"
        },
        "id": "eXurFMhfAuJC",
        "outputId": "5b2f622a-e9ac-4684-dc46-656ef5aa29fd"
      },
      "execution_count": 4,
      "outputs": [
        {
          "output_type": "stream",
          "name": "stdout",
          "text": [
            "[[[5 6]\n",
            "  [7 8]]\n",
            "\n",
            " [[1 2]\n",
            "  [3 4]]]\n"
          ]
        }
      ]
    },
    {
      "cell_type": "markdown",
      "source": [
        "Each function serves a specific need for flipping elements across different axes, depending on whether you want to reverse rows or columns in an array.\n",
        "\n"
      ],
      "metadata": {
        "id": "iK_32H1vA2RQ"
      }
    },
    {
      "cell_type": "markdown",
      "source": [
        "**Q9. Discuss the functionalty of the array-split() method in NumPy. How does it handle uneven splits?**"
      ],
      "metadata": {
        "id": "PPqftjQBA7Gd"
      }
    },
    {
      "cell_type": "markdown",
      "source": [
        "Ans. The np.array_split() method in NumPy is used to divide an array into sub-arrays along a specified axis. Unlike np.split(), which requires the array to be split into equal-sized chunks, np.array_split() can handle uneven splits, making it more flexible when dealing with arrays that cannot be evenly divided.\n",
        "\n",
        "Syntax:"
      ],
      "metadata": {
        "id": "bwX030kxBgRC"
      }
    },
    {
      "cell_type": "code",
      "source": [
        "numpy.array_split(array, indices_or_sections, axis=0)\n"
      ],
      "metadata": {
        "id": "I1MR8hWxConb"
      },
      "execution_count": null,
      "outputs": []
    },
    {
      "cell_type": "markdown",
      "source": [
        ". array: The array to be split.\n",
        "\n",
        ". indices_or_sections: This can be either:\n",
        "\n",
        ". An integer specifying the number of sub-arrays to split the array into.\n",
        "\n",
        "   .A list or array of indices specifying where the splits should occur.\n",
        "\n",
        ".axis: The axis along which to split the array (default is axis 0).\n",
        "\n",
        ".Key Differences from np.split():\n",
        "\n",
        ".np.split() throws an error if the array cannot be evenly split.\n",
        "\n",
        ".np.array_split() allows uneven splits and distributes the remaining elements among the sub-arrays.\n",
        "\n",
        "Handling Uneven Splits:\n",
        "\n",
        "When the array cannot be split evenly, the array_split() method will divide it into sub-arrays as evenly as possible, placing the excess elements in the earlier sub-arrays.\n",
        "\n",
        "Example 1: Splitting an array evenly"
      ],
      "metadata": {
        "id": "D94Bw_JCCrdW"
      }
    },
    {
      "cell_type": "code",
      "source": [
        "import numpy as np\n",
        "arr = np.array([1, 2, 3, 4, 5, 6])\n",
        "result = np.array_split(arr, 3)\n",
        "print(result)\n"
      ],
      "metadata": {
        "colab": {
          "base_uri": "https://localhost:8080/"
        },
        "id": "znpM3_pVD37H",
        "outputId": "aac8bf13-a880-4b37-d816-2757869055ce"
      },
      "execution_count": 7,
      "outputs": [
        {
          "output_type": "stream",
          "name": "stdout",
          "text": [
            "[array([1, 2]), array([3, 4]), array([5, 6])]\n"
          ]
        }
      ]
    },
    {
      "cell_type": "markdown",
      "source": [
        "Example 2: Uneven split\n",
        "\n",
        "If the array length cannot be evenly divided by the number of splits, array_split() distributes the extra elements to the first few sub-arrays."
      ],
      "metadata": {
        "id": "JeZLNUWVEKgy"
      }
    },
    {
      "cell_type": "code",
      "source": [
        "arr = np.array([1, 2, 3, 4, 5])\n",
        "result = np.array_split(arr, 3)\n",
        "print(result)\n"
      ],
      "metadata": {
        "colab": {
          "base_uri": "https://localhost:8080/"
        },
        "id": "kDbDvGJKEPkg",
        "outputId": "ec45f34c-36d0-41bc-f0ee-75704d9b4a41"
      },
      "execution_count": 8,
      "outputs": [
        {
          "output_type": "stream",
          "name": "stdout",
          "text": [
            "[array([1, 2]), array([3, 4]), array([5])]\n"
          ]
        }
      ]
    },
    {
      "cell_type": "markdown",
      "source": [
        "Example 3: Specifying exact split points using indices\n",
        "\n",
        "You can also pass a list of indices to array_split() to specify the split points manually."
      ],
      "metadata": {
        "id": "wYbCBQazEYmU"
      }
    },
    {
      "cell_type": "code",
      "source": [
        "arr = np.array([1, 2, 3, 4, 5, 6, 7])\n",
        "result = np.array_split(arr, [3, 5])\n",
        "print(result)\n"
      ],
      "metadata": {
        "colab": {
          "base_uri": "https://localhost:8080/"
        },
        "id": "becNvyQ1Eopa",
        "outputId": "873a269e-07da-4470-ee2a-e4f84307b795"
      },
      "execution_count": 9,
      "outputs": [
        {
          "output_type": "stream",
          "name": "stdout",
          "text": [
            "[array([1, 2, 3]), array([4, 5]), array([6, 7])]\n"
          ]
        }
      ]
    },
    {
      "cell_type": "markdown",
      "source": [
        "Summary:\n",
        "\n",
        ".np.array_split() is flexible for dividing arrays, especially when the division cannot be done evenly.\n",
        "\n",
        ".When the split is uneven, it allocates the excess elements to the earlier sub-arrays.\n",
        "\n",
        ".It works along a specified axis and can handle both integer-based splits and index-based splits.\n",
        "\n",
        "This method is useful when the size of the input array may not match the desired number of sub-arrays exactly.\n"
      ],
      "metadata": {
        "id": "xOBYjujZFARf"
      }
    },
    {
      "cell_type": "markdown",
      "source": [
        "**Q10. Explain the concepts of vectorization and broadcasting in NumPy. How do they contribute to efficient array operations?**"
      ],
      "metadata": {
        "id": "dgbcrJmpFbAf"
      }
    },
    {
      "cell_type": "markdown",
      "source": [
        "Ans. Vectorization and broadcasting are two fundamental concepts in NumPy that allow for efficient array operations by minimizing explicit loops and taking advantage of optimized low-level implementations. Both contribute to speeding up array computations, especially when dealing with large datasets.\n",
        "\n",
        "1. Vectorization in NumPy\n",
        "\n",
        "Vectorization refers to the process of applying operations over entire arrays (vectors, matrices) element-wise, without the need for explicit Python loops. Instead of iterating over elements manually, vectorized operations enable NumPy to use optimized, low-level C and Fortran code for these operations, resulting in significant performance improvements\n",
        "\n",
        "Key Features of Vectorization:\n",
        "\n",
        ".Element-wise operations: Vectorized functions operate element-wise on arrays. For instance, arithmetic operations like addition, subtraction, multiplication, etc., can be applied to arrays directly, and NumPy will execute them on all elements simultaneously.\n",
        "\n",
        ".Performance: Since NumPy operations are implemented in C and run at compiled speeds, they are much faster than equivalent Python loops.\n",
        "\n",
        ".Code simplicity: Vectorized code is usually more concise and readable, as operations are expressed directly on arrays.\n",
        "\n",
        "Example of Vectorization:\n"
      ],
      "metadata": {
        "id": "4Pmp7FEeGKnj"
      }
    },
    {
      "cell_type": "code",
      "source": [
        "import numpy as np\n",
        "\n",
        "# Without vectorization (using Python loops)\n",
        "arr = np.array([1, 2, 3, 4])\n",
        "result = []\n",
        "for x in arr:\n",
        "    result.append(x * 2)\n",
        "print(result)  # Output: [2, 4, 6, 8]\n",
        "\n",
        "# With vectorization (NumPy)\n",
        "result = arr * 2\n",
        "print(result)  # Output: [2 4 6 8]\n"
      ],
      "metadata": {
        "colab": {
          "base_uri": "https://localhost:8080/"
        },
        "id": "hL_geeO_a15S",
        "outputId": "a015c8ca-668e-4807-eb12-c3f8daa06bab"
      },
      "execution_count": 1,
      "outputs": [
        {
          "output_type": "stream",
          "name": "stdout",
          "text": [
            "[2, 4, 6, 8]\n",
            "[2 4 6 8]\n"
          ]
        }
      ]
    },
    {
      "cell_type": "markdown",
      "source": [
        "2. Broadcasting in NumPy\n",
        "\n",
        "Broadcasting is a mechanism that allows NumPy to perform element-wise operations on arrays of different shapes, by automatically expanding (or \"broadcasting\") smaller arrays to match the shape of larger arrays. This enables operations like addition, subtraction, multiplication, etc., to be performed on arrays of different dimensions without needing explicit reshaping or replication.\n",
        "\n",
        "Key Features of Broadcasting:\n",
        "\n",
        ".Automatic shape alignment: Broadcasting makes it possible to apply operations between arrays of different shapes by expanding the smaller array along dimensions where necessary.\n",
        "\n",
        ".Memory efficiency: Instead of creating full-size copies of the smaller array, broadcasting allows NumPy to work as if the smaller array has been expanded without actually replicating data, saving both time and memory.\n",
        "\n",
        ".Flexible operations: Broadcasting allows operations to be applied to arrays that are not of the same shape, as long as the shapes are compatible according to specific rules.\n",
        "\n",
        "Rules of Broadcasting:\n",
        "\n",
        "1. If the two arrays differ in the number of dimensions, the one with fewer dimensions is padded with ones on its left (for example, a 1D array will be treated as 2D by adding a leading axis).\n",
        "2. Arrays are compatible for broadcasting if, for every dimension, they are either equal, or one of them is 1.\n",
        "3. The arrays will be broadcasted to a common shape, and element-wise operations will be performed.\n",
        "\n",
        "Example of Broadcasting:\n"
      ],
      "metadata": {
        "id": "EbAHWpbbgxuc"
      }
    },
    {
      "cell_type": "code",
      "source": [
        "import numpy as np\n",
        "\n",
        "# 1D array (shape: (3,))\n",
        "arr1 = np.array([1, 2, 3])\n",
        "\n",
        "# 2D array (shape: (3, 3))\n",
        "arr2 = np.array([[10, 20, 30],\n",
        "                 [40, 50, 60],\n",
        "                 [70, 80, 90]])\n",
        "\n",
        "# Broadcasting the 1D array to the shape of the 2D array\n",
        "result = arr1 + arr2\n",
        "print(result)\n"
      ],
      "metadata": {
        "colab": {
          "base_uri": "https://localhost:8080/"
        },
        "id": "UAR-69Fkhr3n",
        "outputId": "ad8fb4e8-c2af-465c-b0df-1edc43f7a281"
      },
      "execution_count": 1,
      "outputs": [
        {
          "output_type": "stream",
          "name": "stdout",
          "text": [
            "[[11 22 33]\n",
            " [41 52 63]\n",
            " [71 82 93]]\n"
          ]
        }
      ]
    },
    {
      "cell_type": "markdown",
      "source": [
        "In this case, arr1 (shape (3,)) is broadcasted to match the shape of arr2 (shape (3, 3)). Broadcasting expands arr1 along the rows so that it can be added to arr2 element-wise.\n",
        "\n",
        "\n",
        "Broadcasting Example with Different Shapes:"
      ],
      "metadata": {
        "id": "ejwI_7MJh52F"
      }
    },
    {
      "cell_type": "code",
      "source": [
        "# Scalar broadcasting\n",
        "arr3 = np.array([[1, 2, 3], [4, 5, 6]])\n",
        "result = arr3 + 10  # Broadcasting scalar value\n",
        "print(result)\n"
      ],
      "metadata": {
        "colab": {
          "base_uri": "https://localhost:8080/"
        },
        "id": "-w6tLAy7h_nr",
        "outputId": "b18568a3-4c65-4efc-9f8e-fce39b9c00fd"
      },
      "execution_count": 2,
      "outputs": [
        {
          "output_type": "stream",
          "name": "stdout",
          "text": [
            "[[11 12 13]\n",
            " [14 15 16]]\n"
          ]
        }
      ]
    },
    {
      "cell_type": "markdown",
      "source": [
        "Contributions to Efficient Array Operations:\n",
        "1. Performance Optimization:\n",
        "\n",
        ".Vectorization enables computations to be performed at C-level speed, bypassing the slow Python interpreter and avoiding explicit loops.\n",
        "\n",
        ".Broadcasting reduces the need for memory-expensive operations like replicating arrays. It allows smaller arrays to participate in operations with larger arrays efficiently.\n",
        "2. Code Simplification:\n",
        "\n",
        ".Both vectorization and broadcasting allow you to express operations in a concise, readable form, improving the clarity of code.\n",
        "3. Memory Efficiency:\n",
        "\n",
        ".Broadcasting saves memory by avoiding the need to explicitly expand arrays. This is crucial when dealing with large datasets.\n",
        "\n",
        "Summary:\n",
        "Vectorization refers to performing operations on arrays without explicit loops, enhancing performance and simplifying code.\n",
        "Broadcasting allows operations on arrays of different shapes by expanding the smaller array to match the dimensions of the larger one, making computations both efficient and memory-saving.\n",
        "\n",
        "Summary:\n",
        "\n",
        ".Vectorization refers to performing operations on arrays without explicit loops, enhancing performance and simplifying code.\n",
        "\n",
        ".Broadcasting allows operations on arrays of different shapes by expanding the smaller array to match the dimensions of the larger one, making computations both efficient and memory-saving.\n",
        "\n",
        "\n",
        "\n",
        "\n"
      ],
      "metadata": {
        "id": "N6_UxdfHiKHi"
      }
    },
    {
      "cell_type": "markdown",
      "source": [
        "# ***Practical Questions***\n",
        "\n",
        "---\n",
        "\n",
        "\n",
        "\n",
        "---"
      ],
      "metadata": {
        "id": "o5vESrb2-EYA"
      }
    },
    {
      "cell_type": "markdown",
      "source": [
        "Q1.Create a 3*3 NumPy array with randam integers between 1 and 100. Then, interchange its rows and columns."
      ],
      "metadata": {
        "id": "g4HPL6oK-w5u"
      }
    },
    {
      "cell_type": "code",
      "source": [
        "import numpy as np\n",
        "\n",
        "# Creating a 3x3 array with random integers between 1 and 100\n",
        "array = np.random.randint(1, 101, size=(3, 3))\n",
        "\n",
        "# Interchanging rows and columns (transpose)\n",
        "transposed_array = array.T\n",
        "\n",
        "array, transposed_array\n"
      ],
      "metadata": {
        "colab": {
          "base_uri": "https://localhost:8080/"
        },
        "id": "kZPqKZqr_zUh",
        "outputId": "bc240a07-fde8-4ae5-e9da-773fd0ea7f8c"
      },
      "execution_count": 2,
      "outputs": [
        {
          "output_type": "execute_result",
          "data": {
            "text/plain": [
              "(array([[24, 72,  6],\n",
              "        [54, 74,  9],\n",
              "        [ 1, 37, 73]]),\n",
              " array([[24, 54,  1],\n",
              "        [72, 74, 37],\n",
              "        [ 6,  9, 73]]))"
            ]
          },
          "metadata": {},
          "execution_count": 2
        }
      ]
    },
    {
      "cell_type": "markdown",
      "source": [
        "Q2. Generate a 1D NumPy array with 10 elements.Reshape it into a 2 * 5 array , then into a 5 * 2 array."
      ],
      "metadata": {
        "id": "kqrmhC1sBTBB"
      }
    },
    {
      "cell_type": "code",
      "source": [
        "# Creating a 1D array with 10 elements\n",
        "array_1d = np.arange(10)\n",
        "\n",
        "# Reshaping into a 2x5 array\n",
        "array_2x5 = array_1d.reshape(2, 5)\n",
        "\n",
        "# Reshaping the 2x5 array into a 5x2 array\n",
        "array_5x2 = array_2x5.reshape(5, 2)\n",
        "\n",
        "array_1d, array_2x5, array_5x2\n"
      ],
      "metadata": {
        "colab": {
          "base_uri": "https://localhost:8080/"
        },
        "id": "ORIs3f2yCOSi",
        "outputId": "440fc5de-3784-4890-a39d-ffc1d4b949ae"
      },
      "execution_count": 3,
      "outputs": [
        {
          "output_type": "execute_result",
          "data": {
            "text/plain": [
              "(array([0, 1, 2, 3, 4, 5, 6, 7, 8, 9]),\n",
              " array([[0, 1, 2, 3, 4],\n",
              "        [5, 6, 7, 8, 9]]),\n",
              " array([[0, 1],\n",
              "        [2, 3],\n",
              "        [4, 5],\n",
              "        [6, 7],\n",
              "        [8, 9]]))"
            ]
          },
          "metadata": {},
          "execution_count": 3
        }
      ]
    },
    {
      "cell_type": "markdown",
      "source": [
        "Q3. Create a 4 * 4 NumPy array with random float values. Add a border of zeros around it, resulting in a 6 * 6 array."
      ],
      "metadata": {
        "id": "oiGV9FlGCyf6"
      }
    },
    {
      "cell_type": "code",
      "source": [
        "# Creating a 4x4 array with random float values\n",
        "array_4x4 = np.random.rand(4, 4)\n",
        "\n",
        "# Adding a border of zeros to make it a 6x6 array\n",
        "array_with_border = np.pad(array_4x4, pad_width=1, mode='constant', constant_values=0)\n",
        "\n",
        "array_4x4, array_with_border\n"
      ],
      "metadata": {
        "colab": {
          "base_uri": "https://localhost:8080/"
        },
        "id": "HSOew6dlDqFQ",
        "outputId": "95b7827f-eb1d-4434-914d-7d3fa50070cc"
      },
      "execution_count": 4,
      "outputs": [
        {
          "output_type": "execute_result",
          "data": {
            "text/plain": [
              "(array([[0.67574862, 0.92768579, 0.91058365, 0.86683458],\n",
              "        [0.94782842, 0.05668473, 0.78811409, 0.07500865],\n",
              "        [0.895186  , 0.23459531, 0.3036728 , 0.54388645],\n",
              "        [0.40826038, 0.35575884, 0.12900875, 0.86735897]]),\n",
              " array([[0.        , 0.        , 0.        , 0.        , 0.        ,\n",
              "         0.        ],\n",
              "        [0.        , 0.67574862, 0.92768579, 0.91058365, 0.86683458,\n",
              "         0.        ],\n",
              "        [0.        , 0.94782842, 0.05668473, 0.78811409, 0.07500865,\n",
              "         0.        ],\n",
              "        [0.        , 0.895186  , 0.23459531, 0.3036728 , 0.54388645,\n",
              "         0.        ],\n",
              "        [0.        , 0.40826038, 0.35575884, 0.12900875, 0.86735897,\n",
              "         0.        ],\n",
              "        [0.        , 0.        , 0.        , 0.        , 0.        ,\n",
              "         0.        ]]))"
            ]
          },
          "metadata": {},
          "execution_count": 4
        }
      ]
    },
    {
      "cell_type": "markdown",
      "source": [
        "Q4. Using NumPy, create an array of integers from 10 to 60 with a step of 5"
      ],
      "metadata": {
        "id": "CIdNwxsbEIq5"
      }
    },
    {
      "cell_type": "code",
      "source": [
        "# Creating an array of integers from 10 to 60 with a step of 5\n",
        "array_step = np.arange(10, 61, 5)\n",
        "\n",
        "array_step\n"
      ],
      "metadata": {
        "colab": {
          "base_uri": "https://localhost:8080/"
        },
        "id": "FqmIdNuEErMD",
        "outputId": "21dd1e8b-a5a6-472b-8c94-303cb65e240d"
      },
      "execution_count": 5,
      "outputs": [
        {
          "output_type": "execute_result",
          "data": {
            "text/plain": [
              "array([10, 15, 20, 25, 30, 35, 40, 45, 50, 55, 60])"
            ]
          },
          "metadata": {},
          "execution_count": 5
        }
      ]
    },
    {
      "cell_type": "markdown",
      "source": [
        "Q5. Create a NumPy array of strings ['python', 'numpy', 'pandas']. Apply different case trensformations (uppercase, lowercase, title case, etc.) to each element."
      ],
      "metadata": {
        "id": "2c0mKT12E9oR"
      }
    },
    {
      "cell_type": "code",
      "source": [
        "import numpy as np\n",
        "\n",
        "# Create the NumPy array of strings\n",
        "array = np.array(['python', 'numpy', 'pandas'])\n",
        "\n",
        "# Apply uppercase transformation\n",
        "upper_case = np.char.upper(array)\n",
        "\n",
        "# Apply lowercase transformation\n",
        "lower_case = np.char.lower(array)\n",
        "\n",
        "# Apply title case transformation\n",
        "title_case = np.char.title(array)\n",
        "\n",
        "print(\"Original array:\", array)\n",
        "print(\"Uppercase:\", upper_case)\n",
        "print(\"Lowercase:\", lower_case)\n",
        "print(\"Title case:\", title_case)\n"
      ],
      "metadata": {
        "colab": {
          "base_uri": "https://localhost:8080/"
        },
        "id": "eeqLs0WDFxlB",
        "outputId": "f1101cf1-1f87-411f-d87d-ce037618cf4f"
      },
      "execution_count": 6,
      "outputs": [
        {
          "output_type": "stream",
          "name": "stdout",
          "text": [
            "Original array: ['python' 'numpy' 'pandas']\n",
            "Uppercase: ['PYTHON' 'NUMPY' 'PANDAS']\n",
            "Lowercase: ['python' 'numpy' 'pandas']\n",
            "Title case: ['Python' 'Numpy' 'Pandas']\n"
          ]
        }
      ]
    },
    {
      "cell_type": "markdown",
      "source": [
        "Q6. Generate a Numpy array of words, insert a space between each character of every word in the array."
      ],
      "metadata": {
        "id": "hUYBaDL3F9t9"
      }
    },
    {
      "cell_type": "code",
      "source": [
        "import numpy as np\n",
        "\n",
        "# Create the NumPy array of words\n",
        "array = np.array(['python', 'numpy', 'pandas'])\n",
        "\n",
        "# Insert a space between each character of every word\n",
        "spaced_array = np.char.join(' ', array)\n",
        "\n",
        "print(\"Original array:\", array)\n",
        "print(\"Spaced array:\", spaced_array)\n"
      ],
      "metadata": {
        "colab": {
          "base_uri": "https://localhost:8080/"
        },
        "id": "E5er-jzlGVpa",
        "outputId": "a88d106f-ea51-4e3f-eb01-7c45e581efff"
      },
      "execution_count": 7,
      "outputs": [
        {
          "output_type": "stream",
          "name": "stdout",
          "text": [
            "Original array: ['python' 'numpy' 'pandas']\n",
            "Spaced array: ['p y t h o n' 'n u m p y' 'p a n d a s']\n"
          ]
        }
      ]
    },
    {
      "cell_type": "markdown",
      "source": [
        "Q7. Create two 2D NumPy arrays and perform element-wise addition, subtraction, multiplication, and division."
      ],
      "metadata": {
        "id": "zulI3YkOGd7b"
      }
    },
    {
      "cell_type": "code",
      "source": [
        "import numpy as np\n",
        "\n",
        "# Creating two 2D NumPy arrays\n",
        "array1 = np.array([[10, 20, 30], [40, 50, 60]])\n",
        "array2 = np.array([[1, 2, 3], [4, 5, 6]])\n",
        "\n",
        "# Element-wise addition\n",
        "addition = np.add(array1, array2)\n",
        "\n",
        "# Element-wise subtraction\n",
        "subtraction = np.subtract(array1, array2)\n",
        "\n",
        "# Element-wise multiplication\n",
        "multiplication = np.multiply(array1, array2)\n",
        "\n",
        "# Element-wise division\n",
        "division = np.divide(array1, array2)\n",
        "\n",
        "print(\"Array 1:\\n\", array1)\n",
        "print(\"Array 2:\\n\", array2)\n",
        "print(\"Addition:\\n\", addition)\n",
        "print(\"Subtraction:\\n\", subtraction)\n",
        "print(\"Multiplication:\\n\", multiplication)\n",
        "print(\"Division:\\n\", division)\n"
      ],
      "metadata": {
        "colab": {
          "base_uri": "https://localhost:8080/"
        },
        "id": "JznlugbFG9zA",
        "outputId": "7a7afe6a-0684-417f-c70a-20fcf6c4750d"
      },
      "execution_count": 8,
      "outputs": [
        {
          "output_type": "stream",
          "name": "stdout",
          "text": [
            "Array 1:\n",
            " [[10 20 30]\n",
            " [40 50 60]]\n",
            "Array 2:\n",
            " [[1 2 3]\n",
            " [4 5 6]]\n",
            "Addition:\n",
            " [[11 22 33]\n",
            " [44 55 66]]\n",
            "Subtraction:\n",
            " [[ 9 18 27]\n",
            " [36 45 54]]\n",
            "Multiplication:\n",
            " [[ 10  40  90]\n",
            " [160 250 360]]\n",
            "Division:\n",
            " [[10. 10. 10.]\n",
            " [10. 10. 10.]]\n"
          ]
        }
      ]
    },
    {
      "cell_type": "markdown",
      "source": [
        "Q8. Use NumPy to create  5*5 identity matrix, then extract its diagonal elements."
      ],
      "metadata": {
        "id": "jF1DF0bpHMjj"
      }
    },
    {
      "cell_type": "code",
      "source": [
        "import numpy as np\n",
        "\n",
        "# Create a 5x5 identity matrix\n",
        "identity_matrix = np.eye(5)\n",
        "\n",
        "# Extract the diagonal elements\n",
        "diagonal_elements = np.diag(identity_matrix)\n",
        "\n",
        "print(\"Identity Matrix:\\n\", identity_matrix)\n",
        "print(\"Diagonal Elements:\", diagonal_elements)\n"
      ],
      "metadata": {
        "colab": {
          "base_uri": "https://localhost:8080/"
        },
        "id": "AM-nC8OGHsBC",
        "outputId": "b11f662a-aeb0-4f8e-f3b0-44ffaf031994"
      },
      "execution_count": 9,
      "outputs": [
        {
          "output_type": "stream",
          "name": "stdout",
          "text": [
            "Identity Matrix:\n",
            " [[1. 0. 0. 0. 0.]\n",
            " [0. 1. 0. 0. 0.]\n",
            " [0. 0. 1. 0. 0.]\n",
            " [0. 0. 0. 1. 0.]\n",
            " [0. 0. 0. 0. 1.]]\n",
            "Diagonal Elements: [1. 1. 1. 1. 1.]\n"
          ]
        }
      ]
    },
    {
      "cell_type": "markdown",
      "source": [
        "Q9. Generate a NumPy array of 100 random intrgers between 0 qand 1000. find and display all prime numbers in this array."
      ],
      "metadata": {
        "id": "spFmg8rMH3mx"
      }
    },
    {
      "cell_type": "code",
      "source": [
        "import numpy as np\n",
        "\n",
        "# Step 1: Generate a NumPy array of 100 random integers between 0 and 1000\n",
        "random_array = np.random.randint(0, 1001, size=100)\n",
        "\n",
        "# Step 2: Define a function to check if a number is prime\n",
        "def is_prime(num):\n",
        "    if num < 2:\n",
        "        return False\n",
        "    for i in range(2, int(np.sqrt(num)) + 1):\n",
        "        if num % i == 0:\n",
        "            return False\n",
        "    return True\n",
        "\n",
        "# Step 3: Apply the prime checking function to the array and extract primes\n",
        "prime_numbers = np.array([num for num in random_array if is_prime(num)])\n",
        "\n",
        "# Display the results\n",
        "print(\"Random Array:\\n\", random_array)\n",
        "print(\"Prime Numbers in the Array:\\n\", prime_numbers)\n"
      ],
      "metadata": {
        "colab": {
          "base_uri": "https://localhost:8080/"
        },
        "id": "ArKJzD3XIXad",
        "outputId": "ebec7d41-daf6-4ac9-dae1-8d09e4546864"
      },
      "execution_count": 10,
      "outputs": [
        {
          "output_type": "stream",
          "name": "stdout",
          "text": [
            "Random Array:\n",
            " [846 765 478 739 463 937 292 274  45  26 953 675 539  24 844 522 787 991\n",
            " 889 159 635 977 187 893 714 443 847 329 629 117 784 225 782 411 234 226\n",
            " 891 211 634 745 417 617 518 617 162 795 996 715 354 319 392 183 102 596\n",
            " 801  33 429 303 396 822 672 910 447 610 195 142 449 839 565 811 694  23\n",
            " 696 732 738 484 615 555 412 443  46 343 194 946 724  55 355 379 767 729\n",
            "   2 513 812 981 386  31 555 445 694 685]\n",
            "Prime Numbers in the Array:\n",
            " [739 463 937 953 787 991 977 443 211 617 617 449 839 811  23 443 379   2\n",
            "  31]\n"
          ]
        }
      ]
    },
    {
      "cell_type": "markdown",
      "source": [
        "Q10. Create a NumPy array representing daily temperatures for a month. calculate and dsiplay the weekly."
      ],
      "metadata": {
        "id": "RXNHr2DpImE8"
      }
    },
    {
      "cell_type": "code",
      "source": [
        "import numpy as np\n",
        "\n",
        "# Step 1: Generate a NumPy array representing daily temperatures for 30 days\n",
        "daily_temperatures = np.random.uniform(low=15, high=35, size=30)  # Assuming temperatures between 15°C and 35°C\n",
        "\n",
        "# Step 2: Reshape the array into 4 weeks (7 days each)\n",
        "weekly_temperatures = daily_temperatures.reshape(4, 7)\n",
        "\n",
        "# Step 3: Calculate the average temperature for each week\n",
        "weekly_averages = np.mean(weekly_temperatures, axis=1)\n",
        "\n",
        "# Display the results\n",
        "print(\"Daily Temperatures (30 Days):\\n\", daily_temperatures)\n",
        "print(\"\\nWeekly Temperatures:\\n\", weekly_temperatures)\n",
        "print(\"\\nAverage Weekly Temperatures:\\n\", weekly_averages)\n"
      ],
      "metadata": {
        "id": "OT_wEgfsJkJM"
      },
      "execution_count": null,
      "outputs": []
    }
  ]
}