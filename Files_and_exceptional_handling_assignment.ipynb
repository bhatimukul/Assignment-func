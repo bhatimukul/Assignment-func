{
  "nbformat": 4,
  "nbformat_minor": 0,
  "metadata": {
    "colab": {
      "provenance": [],
      "authorship_tag": "ABX9TyMYSDQzvAlFewojC0M7xfub",
      "include_colab_link": true
    },
    "kernelspec": {
      "name": "python3",
      "display_name": "Python 3"
    },
    "language_info": {
      "name": "python"
    }
  },
  "cells": [
    {
      "cell_type": "markdown",
      "metadata": {
        "id": "view-in-github",
        "colab_type": "text"
      },
      "source": [
        "<a href=\"https://colab.research.google.com/github/bhatimukul/Assignment-func/blob/main/Files_and_exceptional_handling_assignment.ipynb\" target=\"_parent\"><img src=\"https://colab.research.google.com/assets/colab-badge.svg\" alt=\"Open In Colab\"/></a>"
      ]
    },
    {
      "cell_type": "markdown",
      "source": [
        "**Q1.Discuss the scenarios where multithreading is preferable to multiprocessing and scenarios where**\n",
        "**multiprocessing is a better choice.**"
      ],
      "metadata": {
        "id": "PUgqBk8Dm9q-"
      }
    },
    {
      "cell_type": "markdown",
      "source": [
        "**Ans.** Multithreading and multiprocessing are both techniques used to achieve concurrent execution in a program, but they are suited to different scenarios due to how they handle CPU and memory resources. Here’s a breakdown of when each approach is preferable:\n",
        "\n",
        "### **Scenarios Where Multithreading Is Preferable**\n",
        "1. I/O-Bound Tasks:\n",
        "\n",
        ". Description: Tasks that spend a lot of time waiting for input/output operations to complete, such as file handling, network requests, or database interactions, are called I/O-bound tasks.\n",
        "\n",
        "\n",
        ". Why Multithreading: Since I/O-bound tasks often spend time waiting (e.g., waiting for data from the disk or network), multithreading allows other threads to run during these wait periods. Threads share the same memory space, making communication between them easier and faster.\n",
        "\n",
        ". Example: A web server handling multiple client requests simultaneously, where each thread deals with a specific client request (e.g., downloading files or fetching API data).\n",
        "\n",
        "2. Shared Memory Requirements:\n",
        "\n",
        ". Description: When tasks need to share data or state frequently, it’s easier to use threads because they share the same memory space.\n",
        "\n",
        ". Why Multithreading: With multithreading, sharing data between threads is simpler since all threads operate in the same process and have direct access to shared variables.\n",
        "\n",
        ". Example: Real-time applications like GUIs where multiple threads handle user inputs, data updates, and rendering on the same shared memory space.\n",
        "\n",
        "3. Low Overhead for Context Switching:\n",
        "\n",
        ". Description: Threads have a smaller memory footprint compared to processes, and context switching between threads is typically faster.\n",
        "\n",
        ". Why Multithreading: In scenarios where you need many lightweight tasks to run concurrently, the lower memory and processing overhead of threads is beneficial.\n",
        "\n",
        ". Example: Applications that perform light operations in parallel, such as updating status logs or processing multiple HTTP requests.\n",
        "\n",
        "4. CPU-Bound Tasks That Benefit from Hyper-Threading:\n",
        "\n",
        ". Description: Some CPU-bound tasks might benefit from hyper-threading (a hardware-based multithreading feature in modern processors), allowing better use of CPU cores.\n",
        "\n",
        ". Why Multithreading: If hyper-threading is available, it can increase throughput by allowing two threads to share the same core resources, improving CPU utilization.\n",
        "\n",
        ". Example: Tasks like image processing or video encoding that may benefit from hyper-threading on modern CPUs.\n",
        "\n",
        "\n",
        "\n",
        "\n",
        "\n",
        "\n",
        "### **Scenarios Where Multiprocessing Is Preferable**\n",
        "\n",
        "1. CPU-Bound Tasks:\n",
        "\n",
        ". Description: CPU-bound tasks are those that require intensive computation and use a lot of CPU resources, like mathematical calculations or scientific simulations.\n",
        "\n",
        ". Why Multiprocessing: In Python, the Global Interpreter Lock (GIL) prevents multiple threads from executing Python bytecode simultaneously in a single process, making multiprocessing a better choice for CPU-bound tasks. Each process runs in its own memory space and can take full advantage of multiple CPU cores.\n",
        "\n",
        ". Example: Data analysis, machine learning training, or large-scale mathematical computations that can be parallelized across multiple CPU cores.\n",
        "\n",
        "2. Isolation and Fault Tolerance:\n",
        "\n",
        ". Description: When tasks need to be isolated from each other to prevent failure in one task from affecting others, multiprocessing is better since each process runs in its own memory space.\n",
        "\n",
        ". Why Multiprocessing: Each process has its own memory, so if one process crashes, it doesn’t affect the others. This provides better fault tolerance.\n",
        "\n",
        ". Example: Running multiple simulations where you want to isolate each instance to avoid interference or crashes, such as in scientific computations or financial modeling.\n",
        "\n",
        "3. Parallel Processing of Large Data Sets:\n",
        "\n",
        ". Description: Tasks that involve processing large amounts of data, especially when the data can be split into chunks and processed independently.\n",
        "\n",
        ". Why Multiprocessing: With multiprocessing, you can split the data across multiple processes, allowing parallel execution on multiple CPU cores, maximizing CPU utilization for large datasets.\n",
        "\n",
        ". Example: Big data processing frameworks (e.g., parallel data processing in Hadoop or Apache Spark) where large datasets are divided among different processes for faster execution.\n",
        "\n",
        "4. Bypassing Python’s GIL:\n",
        "\n",
        ". Description: The Global Interpreter Lock (GIL) in CPython prevents more than one thread from executing Python bytecode at a time, which limits the usefulness of multithreading for CPU-bound tasks.\n",
        "\n",
        ". Why Multiprocessing: Multiprocessing creates separate Python interpreters in each process, allowing true parallel execution of CPU-bound tasks.\n",
        "\n",
        ". Example: Heavy number-crunching tasks in Python (such as scientific computing) that are limited by the GIL in a multithreading approach.\n",
        "\n",
        "5. Better for Long-Running, Independent Tasks:\n",
        "\n",
        ". Description: When tasks are long-running and do not need to communicate frequently with each other.\n",
        "\n",
        ". Why Multiprocessing: Processes are completely independent and do not share memory space, making them ideal for long-running tasks that need little or no interaction.\n",
        "\n",
        ". Example: Rendering frames in a video processing application, where each process handles a different frame or set of frames without the need to share state.\n",
        "\n",
        "\n",
        "\n",
        "### **Summary of Key Differences:**\n",
        "\n",
        ". Multithreading: Best for I/O-bound tasks, shared memory, and tasks that can benefit from hyper-threading. Suitable for lightweight concurrency with low memory overhead.\n",
        "\n",
        ". Multiprocessing: Best for CPU-bound tasks, isolation, fault tolerance, and scenarios requiring true parallelism. Suitable for handling large-scale data or independent processes, especially in Python due to the GIL.\n"
      ],
      "metadata": {
        "id": "yrqdYxQgn3ZN"
      }
    },
    {
      "cell_type": "markdown",
      "source": [
        "**Q2.Describe what a process pool is and how it helps in managing multiple processes efficiently.**"
      ],
      "metadata": {
        "id": "KikKOcfbtQIW"
      }
    },
    {
      "cell_type": "markdown",
      "source": [
        "**Ans.** A process pool is a programming abstraction used to manage a group of worker processes, which are used to execute tasks concurrently. It simplifies the process of running multiple processes in parallel and handling task distribution and result collection. Rather than creating and managing individual processes manually, a process pool provides an efficient way to reuse and manage multiple processes for a set of tasks.\n",
        "\n",
        "### **Key Features of a Process Pool**\n",
        "\n",
        "1. Predefined Pool of Worker Processes:\n",
        "\n",
        ". A fixed number of processes are created and maintained in the pool. This number is often equal to or slightly less than the number of CPU cores on the system, maximizing CPU utilization while avoiding excessive context switching or resource contention.\n",
        "\n",
        "2. Task Submission:\n",
        "\n",
        ". The process pool accepts multiple tasks (functions or callable objects) to be executed. Tasks are distributed among the available worker processes in the pool.\n",
        "\n",
        ". The pool automatically assigns tasks to idle processes, ensuring efficient utilization of resources.\n",
        "\n",
        "3. Task Scheduling and Load Balancing:\n",
        "\n",
        ". The pool manages the distribution of tasks across processes, handling the scheduling and execution transparently. It balances the load by assigning new tasks to processes as soon as they finish previous ones.\n",
        "4. Reusability of Processes:\n",
        "\n",
        ". Rather than creating a new process for each task (which is resource-intensive), the pool reuses the same set of processes for multiple tasks. This reduces the overhead of process creation and destruction.\n",
        "5. Asynchronous Execution:\n",
        "\n",
        "Many process pools provide support for non-blocking task execution, allowing the program to continue running while tasks are being processed in the background. You can submit tasks and later collect their results when they complete.\n",
        "\n",
        "6. Simplified Result Collection:\n",
        "\n",
        ". The pool often provides mechanisms to collect results of the tasks, either synchronously (waiting for the tasks to complete) or asynchronously (checking for results as they become available).\n",
        "\n",
        "\n",
        "\n",
        "### **How a Process Pool Works**\n",
        "\n",
        "1. Initialization of the Pool:\n",
        "\n",
        ". A process pool is initialized with a fixed number of worker processes, often equal to the number of available CPU cores. For example, if the system has 4 CPU cores, a pool of 4 worker processes is created.\n",
        "2. Task Submission:\n",
        "\n",
        ". Tasks are submitted to the pool using methods like apply(), map(), or submit() depending on the language or library. Each task is assigned to one of the worker processes.\n",
        "3. Task Assignment:\n",
        "\n",
        ". The pool’s task scheduler assigns tasks to worker processes that are idle or have completed their previous tasks. This ensures that all workers are used efficiently without idle time.\n",
        "\n",
        "4. Execution:\n",
        "\n",
        ". Each worker process independently executes its assigned task. Once completed, the worker can take on a new task from the pool.\n",
        "5. Result Collection:\n",
        "\n",
        ". After a task finishes, its result is returned to the main program, which can either collect results immediately (in synchronous mode) or retrieve them later (in asynchronous mode).\n",
        "6. Termination:\n",
        "\n",
        ".When all tasks are completed and no new tasks are submitted, the process pool can be terminated, and all worker processes are shut down.\n",
        "\n",
        "\n",
        "### **Example of Process Pool in Python**"
      ],
      "metadata": {
        "id": "nkWRt4SiunX-"
      }
    },
    {
      "cell_type": "code",
      "source": [
        "from multiprocessing import Pool\n",
        "import time\n",
        "\n",
        "# A sample function to run in parallel\n",
        "def square(x):\n",
        "    time.sleep(1)  # Simulate a long-running task\n",
        "    return x * x\n",
        "\n",
        "if __name__ == \"__main__\":\n",
        "    # Create a pool with 4 processes\n",
        "    with Pool(processes=4) as pool:\n",
        "        # Apply the 'square' function to a list of numbers\n",
        "        numbers = [1, 2, 3, 4, 5, 6, 7, 8]\n",
        "\n",
        "        # Using map to distribute the tasks among the worker processes\n",
        "        results = pool.map(square, numbers)\n",
        "\n",
        "        # Print the results\n",
        "        print(results)\n"
      ],
      "metadata": {
        "colab": {
          "base_uri": "https://localhost:8080/"
        },
        "id": "Dc0HhF9VxPxq",
        "outputId": "047ce8b8-6c0c-4e54-a1f7-4f96f549da7c"
      },
      "execution_count": 1,
      "outputs": [
        {
          "output_type": "stream",
          "name": "stdout",
          "text": [
            "[1, 4, 9, 16, 25, 36, 49, 64]\n"
          ]
        }
      ]
    },
    {
      "cell_type": "markdown",
      "source": [
        "**Q3. Explain what multiprocessing is and why it is used in Python programs.**"
      ],
      "metadata": {
        "id": "8ZbN2rMnxipZ"
      }
    },
    {
      "cell_type": "markdown",
      "source": [
        "**Ans.** Multiprocessing is a technique used to achieve parallelism by running multiple processes concurrently, each with its own memory space and resources. In contrast to multithreading, where multiple threads run within the same process and share memory, multiprocessing involves running separate processes that operate independently. Each process can execute tasks in parallel, taking advantage of multiple CPU cores, which makes it ideal for CPU-bound tasks (i.e., tasks that require significant computational power).\n",
        "\n",
        "### **Why Multiprocessing Is Used in Python Programs**\n",
        "\n",
        "Python's Global Interpreter Lock (GIL) restricts the execution of Python bytecode to one thread at a time, even in a multi-threaded program. This means that, in the standard CPython implementation, multithreading is not effective for CPU-bound tasks because only one thread can execute Python bytecode at a time. However, the GIL doesn't apply across multiple processes. This is where multiprocessing becomes essential, allowing Python programs to fully utilize multi-core processors by running multiple processes simultaneously, each with its own Python interpreter.\n",
        "\n",
        "\n",
        "### **Example of Multiprocessing in Python**"
      ],
      "metadata": {
        "id": "sB58cR9yyS9i"
      }
    },
    {
      "cell_type": "code",
      "source": [
        "import multiprocessing\n",
        "import time\n",
        "\n",
        "# A function to simulate a CPU-bound task\n",
        "def square(n):\n",
        "    time.sleep(1)  # Simulate a time-consuming task\n",
        "    return n * n\n",
        "\n",
        "if __name__ == \"__main__\":\n",
        "    # Create a pool of worker processes\n",
        "    with multiprocessing.Pool(processes=4) as pool:\n",
        "        numbers = [1, 2, 3, 4, 5, 6, 7, 8]\n",
        "\n",
        "        # Distribute the tasks among the worker processes\n",
        "        results = pool.map(square, numbers)\n",
        "\n",
        "        # Print the results\n",
        "        print(results)\n"
      ],
      "metadata": {
        "colab": {
          "base_uri": "https://localhost:8080/"
        },
        "id": "yWAbhSgAzV_n",
        "outputId": "38f47ab1-8e48-4bdc-d007-84e67e6bb9a4"
      },
      "execution_count": 2,
      "outputs": [
        {
          "output_type": "stream",
          "name": "stdout",
          "text": [
            "[1, 4, 9, 16, 25, 36, 49, 64]\n"
          ]
        }
      ]
    },
    {
      "cell_type": "markdown",
      "source": [
        "### **Summary**\n",
        "\n",
        "Multiprocessing in Python allows programs to achieve true parallelism by running multiple processes concurrently on different CPU cores. It’s especially useful for CPU-bound tasks that require significant computation, bypassing Python’s GIL and enabling better CPU utilization. Through the multiprocessing module, Python developers can manage processes efficiently and take full advantage of modern multi-core systems for improved performance.\n",
        "\n",
        "\n"
      ],
      "metadata": {
        "id": "ie5KsYBVzr9Q"
      }
    },
    {
      "cell_type": "markdown",
      "source": [
        "Q4. Write a Python program using multithreading where one thread adds numbers to a list, and another\n",
        "thread removes numbers from the list. Implement a mechanism to avoid race conditions using\n",
        "threading.Lock.\n",
        "\n",
        "\n"
      ],
      "metadata": {
        "id": "W_nF7zq7z2Ye"
      }
    },
    {
      "cell_type": "code",
      "source": [
        "import threading\n",
        "import time\n",
        "\n",
        "# Shared list\n",
        "shared_list = []\n",
        "\n",
        "# Create a lock object\n",
        "list_lock = threading.Lock()\n",
        "\n",
        "# Function for the thread that adds numbers to the list\n",
        "def add_to_list():\n",
        "    for i in range(1, 11):  # Add numbers 1 to 10\n",
        "        time.sleep(1)  # Simulate some delay\n",
        "        with list_lock:  # Acquire the lock\n",
        "            shared_list.append(i)\n",
        "            print(f\"Added {i} to the list. Current list: {shared_list}\")\n",
        "\n",
        "# Function for the thread that removes numbers from the list\n",
        "def remove_from_list():\n",
        "    for _ in range(1, 11):\n",
        "        time.sleep(1.5)  # Simulate some delay\n",
        "        with list_lock:  # Acquire the lock\n",
        "            if shared_list:  # Check if list is not empty\n",
        "                removed_item = shared_list.pop(0)\n",
        "                print(f\"Removed {removed_item} from the list. Current list: {shared_list}\")\n",
        "            else:\n",
        "                print(\"List is empty, cannot remove.\")\n",
        "\n",
        "# Create the threads\n",
        "thread1 = threading.Thread(target=add_to_list)\n",
        "thread2 = threading.Thread(target=remove_from_list)\n",
        "\n",
        "# Start the threads\n",
        "thread1.start()\n",
        "thread2.start()\n",
        "\n",
        "# Wait for both threads to complete\n",
        "thread1.join()\n",
        "thread2.join()\n",
        "\n",
        "print(\"Final list:\", shared_list)\n"
      ],
      "metadata": {
        "colab": {
          "base_uri": "https://localhost:8080/"
        },
        "id": "tZPnERka0ehK",
        "outputId": "6695ebd4-db2a-4b2b-c2d6-7d1328cee1de"
      },
      "execution_count": 3,
      "outputs": [
        {
          "output_type": "stream",
          "name": "stdout",
          "text": [
            "Added 1 to the list. Current list: [1]\n",
            "Removed 1 from the list. Current list: []\n",
            "Added 2 to the list. Current list: [2]\n",
            "Added 3 to the list. Current list: [2, 3]\n",
            "Removed 2 from the list. Current list: [3]\n",
            "Added 4 to the list. Current list: [3, 4]\n",
            "Removed 3 from the list. Current list: [4]\n",
            "Added 5 to the list. Current list: [4, 5]\n",
            "Added 6 to the list. Current list: [4, 5, 6]\n",
            "Removed 4 from the list. Current list: [5, 6]\n",
            "Added 7 to the list. Current list: [5, 6, 7]\n",
            "Removed 5 from the list. Current list: [6, 7]\n",
            "Added 8 to the list. Current list: [6, 7, 8]\n",
            "Added 9 to the list. Current list: [6, 7, 8, 9]\n",
            "Removed 6 from the list. Current list: [7, 8, 9]\n",
            "Added 10 to the list. Current list: [7, 8, 9, 10]\n",
            "Removed 7 from the list. Current list: [8, 9, 10]\n",
            "Removed 8 from the list. Current list: [9, 10]\n",
            "Removed 9 from the list. Current list: [10]\n",
            "Removed 10 from the list. Current list: []\n",
            "Final list: []\n"
          ]
        }
      ]
    },
    {
      "cell_type": "markdown",
      "source": [
        "**Q5.Describe the methods and tools available in Python for safely sharing databetween threads and processes.**\n",
        "\n",
        "\n"
      ],
      "metadata": {
        "id": "g8Yu0pSm0qob"
      }
    },
    {
      "cell_type": "markdown",
      "source": [
        "**Ans.** In Python, when working with multithreading and multiprocessing, it is often necessary to share data between threads or processes. However, since threads share the same memory space and processes do not, different mechanisms and tools are available for safely managing this data sharing.\n",
        "\n",
        "### **Data Sharing in Multithreading**\n",
        "\n",
        "In multithreading, since threads share the same memory space, data is inherently shared, but this also leads to potential race conditions where multiple threads try to access or modify shared data simultaneously. Python provides several synchronization primitives to handle such scenarios and make data sharing thread-safe.\n",
        "\n",
        "1. threading.Lock\n",
        "\n",
        ". A Lock is the most basic synchronization primitive. It allows only one thread to access the shared resource at a time.\n",
        "\n",
        ". When a thread acquires the lock, other threads trying to acquire the same lock are blocked until the lock is released.\n",
        "\n",
        ". Usage Example:\n"
      ],
      "metadata": {
        "id": "8PO7Lk_51w04"
      }
    },
    {
      "cell_type": "code",
      "source": [
        "import threading\n",
        "\n",
        "shared_data = 0\n",
        "lock = threading.Lock()\n",
        "\n",
        "def update_data():\n",
        "    global shared_data\n",
        "    with lock:\n",
        "        shared_data += 1\n",
        "\n",
        "thread1 = threading.Thread(target=update_data)\n",
        "thread2 = threading.Thread(target=update_data)\n",
        "\n",
        "thread1.start()\n",
        "thread2.start()\n",
        "thread1.join()\n",
        "thread2.join()\n"
      ],
      "metadata": {
        "id": "oakYf1eW2oUJ"
      },
      "execution_count": 4,
      "outputs": []
    },
    {
      "cell_type": "markdown",
      "source": [
        "2. threading.RLock (Reentrant Lock)\n",
        "\n",
        ". An RLock (reentrant lock) is similar to a Lock, but it can be acquired multiple times by the same thread. This is useful in cases where a thread might need to acquire the same lock in nested function calls.\n",
        "\n",
        ". Usage Example:\n"
      ],
      "metadata": {
        "id": "M1dr3qyA2wYA"
      }
    },
    {
      "cell_type": "code",
      "source": [
        "rlock = threading.RLock()\n"
      ],
      "metadata": {
        "id": "htVCw7x12-8l"
      },
      "execution_count": 5,
      "outputs": []
    },
    {
      "cell_type": "markdown",
      "source": [
        "3. threading.Condition\n",
        "\n",
        ". A Condition allows threads to wait for a certain condition to be met. It’s often used in conjunction with Lock or RLock to manage complex interactions between threads (e.g., producer-consumer patterns).\n",
        "\n",
        ". Usage Example:\n",
        "python"
      ],
      "metadata": {
        "id": "UEtmzTIs3C9f"
      }
    },
    {
      "cell_type": "code",
      "source": [
        "condition = threading.Condition()\n",
        "\n",
        "def consumer():\n",
        "    with condition:\n",
        "        condition.wait()  # Wait for a condition to be met\n",
        "        print(\"Condition met, proceeding\")\n",
        "\n",
        "def producer():\n",
        "    with condition:\n",
        "        # Perform some operations\n",
        "        condition.notify()  # Notify waiting threads\n",
        "\n"
      ],
      "metadata": {
        "id": "QqB_cpO53SJk"
      },
      "execution_count": 6,
      "outputs": []
    },
    {
      "cell_type": "markdown",
      "source": [
        "4. threading.Semaphore\n",
        "\n",
        ". A Semaphore limits the number of threads that can access a resource simultaneously. For example, if you set the semaphore to 3, only 3 threads can access the resource concurrently.\n",
        "\n",
        ". Usage Example:\n"
      ],
      "metadata": {
        "id": "9A7uoMRL3a0G"
      }
    },
    {
      "cell_type": "code",
      "source": [
        "semaphore = threading.Semaphore(3)  # Allow 3 threads to access the resource\n"
      ],
      "metadata": {
        "id": "nQzGDXwc3ouQ"
      },
      "execution_count": 7,
      "outputs": []
    },
    {
      "cell_type": "markdown",
      "source": [
        "5. threading.Event\n",
        "\n",
        ". An Event allows one thread to signal one or more other threads to proceed. A thread can wait for an event to be set using event.wait(), and another thread can trigger this by calling event.set().\n",
        "\n",
        ". Usage Example:\n"
      ],
      "metadata": {
        "id": "9zeyxaKT3t97"
      }
    },
    {
      "cell_type": "code",
      "source": [
        "event = threading.Event()\n",
        "\n",
        "def thread_waiter():\n",
        "    print(\"Waiting for event to be set.\")\n",
        "    event.wait()  # Blocks until the event is set\n",
        "    print(\"Event received, proceeding.\")\n",
        "\n",
        "def thread_setter():\n",
        "    event.set()  # Sets the event, unblocking any waiting threads\n"
      ],
      "metadata": {
        "id": "stBF2GT539A_"
      },
      "execution_count": 8,
      "outputs": []
    },
    {
      "cell_type": "markdown",
      "source": [
        "### **Data Sharing in Multiprocessing**\n",
        "\n",
        "Unlike threads, processes do not share memory space, so data must be explicitly passed between processes. The Python multiprocessing module provides several tools for sharing data safely between processes.\n",
        "\n",
        "1. multiprocessing.Queue\n",
        "\n",
        ". A Queue is a thread/process-safe FIFO structure that allows processes to send and receive data. It uses internal locking mechanisms to ensure that only one process can access the queue at a time.\n",
        "\n",
        ". Usage Example:\n",
        "\n",
        "\n"
      ],
      "metadata": {
        "id": "m4Va7nAC4AXR"
      }
    },
    {
      "cell_type": "code",
      "source": [
        "from multiprocessing import Process, Queue\n",
        "\n",
        "def producer(queue):\n",
        "    queue.put('Data from producer')\n",
        "\n",
        "def consumer(queue):\n",
        "    data = queue.get()\n",
        "    print(data)\n",
        "\n",
        "queue = Queue()\n",
        "p1 = Process(target=producer, args=(queue,))\n",
        "p2 = Process(target=consumer, args=(queue,))\n",
        "\n",
        "p1.start()\n",
        "p2.start()\n",
        "\n",
        "p1.join()\n",
        "p2.join()\n"
      ],
      "metadata": {
        "colab": {
          "base_uri": "https://localhost:8080/"
        },
        "id": "i4ts_cFn4eUD",
        "outputId": "81405899-2838-4c68-e449-a89f77beaf76"
      },
      "execution_count": 9,
      "outputs": [
        {
          "output_type": "stream",
          "name": "stdout",
          "text": [
            "Data from producer\n"
          ]
        }
      ]
    },
    {
      "cell_type": "markdown",
      "source": [
        "2. multiprocessing.Pipe\n",
        "\n",
        ". A Pipe is a two-way communication channel between two processes. One process can send data through one end of the pipe, and another process can receive it through the other end.\n",
        "\n",
        ". Usage Example:\n"
      ],
      "metadata": {
        "id": "y0rJpXXm4mRc"
      }
    },
    {
      "cell_type": "code",
      "source": [
        "from multiprocessing import Pipe, Process\n",
        "\n",
        "def sender(pipe):\n",
        "    pipe.send(\"Hello from sender\")\n",
        "\n",
        "def receiver(pipe):\n",
        "    print(pipe.recv())\n",
        "\n",
        "parent_conn, child_conn = Pipe()\n",
        "p1 = Process(target=sender, args=(parent_conn,))\n",
        "p2 = Process(target=receiver, args=(child_conn,))\n",
        "\n",
        "p1.start()\n",
        "p2.start()\n",
        "\n",
        "p1.join()\n",
        "p2.join()\n"
      ],
      "metadata": {
        "colab": {
          "base_uri": "https://localhost:8080/"
        },
        "id": "saIRP8fN40t9",
        "outputId": "3278893c-fef1-4141-a5f3-cfce4461da21"
      },
      "execution_count": 10,
      "outputs": [
        {
          "output_type": "stream",
          "name": "stdout",
          "text": [
            "Hello from sender\n"
          ]
        }
      ]
    },
    {
      "cell_type": "markdown",
      "source": [
        "3. multiprocessing.Value\n",
        "\n",
        ". A Value allows you to share a single value (like an integer or a float) between processes. It provides a way to synchronize access to simple types.\n",
        "\n",
        ". Usage Example:\n"
      ],
      "metadata": {
        "id": "CuQXlqUu45q3"
      }
    },
    {
      "cell_type": "code",
      "source": [
        "from multiprocessing import Value, Process\n",
        "\n",
        "def update_value(shared_value):\n",
        "    with shared_value.get_lock():\n",
        "        shared_value.value += 1\n",
        "\n",
        "shared_value = Value('i', 0)  # 'i' indicates an integer\n",
        "processes = [Process(target=update_value, args=(shared_value,)) for _ in range(5)]\n",
        "\n",
        "for p in processes:\n",
        "    p.start()\n",
        "\n",
        "for p in processes:\n",
        "    p.join()\n",
        "\n",
        "print(shared_value.value)\n"
      ],
      "metadata": {
        "colab": {
          "base_uri": "https://localhost:8080/"
        },
        "id": "zXfOlrkg5GTP",
        "outputId": "82924c56-a80d-4ac1-a56d-71af14739315"
      },
      "execution_count": 11,
      "outputs": [
        {
          "output_type": "stream",
          "name": "stdout",
          "text": [
            "5\n"
          ]
        }
      ]
    },
    {
      "cell_type": "markdown",
      "source": [
        "4. multiprocessing.Array\n",
        "\n",
        ". An Array is similar to Value, but it allows you to share a fixed-size array of data between processes.\n",
        "\n",
        ". Usage Example:\n"
      ],
      "metadata": {
        "id": "_ity-LTO5LCT"
      }
    },
    {
      "cell_type": "code",
      "source": [
        "from multiprocessing import Array, Process\n",
        "\n",
        "def update_array(shared_array):\n",
        "    for i in range(len(shared_array)):\n",
        "        shared_array[i] += 1\n",
        "\n",
        "shared_array = Array('i', [1, 2, 3, 4])\n",
        "processes = [Process(target=update_array, args=(shared_array,)) for _ in range(5)]\n",
        "\n",
        "for p in processes:\n",
        "    p.start()\n",
        "\n",
        "for p in processes:\n",
        "    p.join()\n",
        "\n",
        "print(shared_array[:])  # Output: [6, 7, 8, 9]\n"
      ],
      "metadata": {
        "colab": {
          "base_uri": "https://localhost:8080/"
        },
        "id": "pe3c36ND5UIw",
        "outputId": "563c9fa0-ab73-400e-96de-f9f3b1a66c8f"
      },
      "execution_count": 12,
      "outputs": [
        {
          "output_type": "stream",
          "name": "stdout",
          "text": [
            "[6, 7, 8, 9]\n"
          ]
        }
      ]
    },
    {
      "cell_type": "markdown",
      "source": [
        "5. multiprocessing.Manager\n",
        "\n",
        ". A Manager object provides a way to create shared data structures like dictionaries, lists, and other complex types that can be shared between processes.\n",
        "\n",
        ". Usage Example:\n"
      ],
      "metadata": {
        "id": "Rnq36YoG5fl1"
      }
    },
    {
      "cell_type": "code",
      "source": [
        "from multiprocessing import Manager, Process\n",
        "\n",
        "def update_list(shared_list):\n",
        "    shared_list.append(1)\n",
        "\n",
        "with Manager() as manager:\n",
        "    shared_list = manager.list()  # Shared list\n",
        "    processes = [Process(target=update_list, args=(shared_list,)) for _ in range(5)]\n",
        "\n",
        "    for p in processes:\n",
        "        p.start()\n",
        "\n",
        "    for p in processes:\n",
        "        p.join()\n",
        "\n",
        "    print(shared_list)  # Output: [1, 1, 1, 1, 1]\n"
      ],
      "metadata": {
        "colab": {
          "base_uri": "https://localhost:8080/"
        },
        "id": "_W7PZU6_5pCz",
        "outputId": "f79c0566-3957-4960-f143-c1909157cf35"
      },
      "execution_count": 13,
      "outputs": [
        {
          "output_type": "stream",
          "name": "stdout",
          "text": [
            "[1, 1, 1, 1, 1]\n"
          ]
        }
      ]
    },
    {
      "cell_type": "markdown",
      "source": [
        "**Q6. Discuss why it’s crucial to handle exceptions in concurrent programs and the techniques available for doing so.**\n"
      ],
      "metadata": {
        "id": "3kF9mhpR5yZD"
      }
    },
    {
      "cell_type": "markdown",
      "source": [
        "**Ans.** Handling exceptions in concurrent programs is crucial for several reasons. In concurrent systems, multiple tasks or threads are running at the same time, which can lead to complex interactions, resource contention, and unexpected behavior if something goes wrong. If exceptions are not properly handled, they can cause the entire program or system to crash, corrupt shared resources, or lead to unpredictable results.\n",
        "\n",
        "### **Why Exception Handling in Concurrent Programs is Important:**\n",
        "\n",
        "1. Program Stability: Unhandled exceptions can crash individual threads or processes, which might bring down the entire application. In a concurrent system, one faulty thread can potentially corrupt shared resources or leave them in an inconsistent state.\n",
        "\n",
        "2. Resource Cleanup: Threads often work with shared resources like files, memory, or network connections. If a thread fails without cleaning up properly, these resources may remain locked, leading to deadlocks or resource exhaustion.\n",
        "\n",
        "3. Data Consistency: In concurrent programs, multiple threads might be accessing and modifying shared data. If an exception occurs during a critical section (e.g., while holding a lock), it can leave shared data in an inconsistent or corrupted state.\n",
        "\n",
        "4. Failure Isolation: Concurrent systems often execute independent tasks. If an exception in one task isn’t properly handled, it can impact the execution of other tasks, leading to cascading failures across the entire system.\n",
        "\n",
        "5. Debugging: When concurrency issues arise (e.g., deadlocks, race conditions), they can be hard to reproduce and debug. Proper exception handling with logging helps track down the root cause of these problems.\n",
        "\n",
        "\n",
        "### **Techniques for Handling Exceptions in Concurrent Programs:**\n",
        "\n",
        "1. Try-Catch Blocks in Threads:\n",
        "\n",
        ". A basic method is to use try-catch blocks within each thread to catch and handle exceptions locally. This prevents a single thread's exception from terminating the entire application.\n",
        "\n",
        ". Example (in Java):\n"
      ],
      "metadata": {
        "id": "_J6lkk5_6wvY"
      }
    },
    {
      "cell_type": "code",
      "source": [
        "public void run() {\n",
        "    try {\n",
        "        // Thread execution code\n",
        "    } catch (Exception e) {\n",
        "        // Handle exception\n",
        "    }\n",
        "}\n"
      ],
      "metadata": {
        "id": "X0dBcq5k8oHN"
      },
      "execution_count": null,
      "outputs": []
    },
    {
      "cell_type": "markdown",
      "source": [
        "2. Global Exception Handlers for Threads:\n",
        "\n",
        ". In some programming languages like Java, you can set an uncaught exception handler that deals with uncaught exceptions in threads globally.\n",
        "\n",
        ". Example (in Java):\n"
      ],
      "metadata": {
        "id": "cPcBpl_Y8qT3"
      }
    },
    {
      "cell_type": "code",
      "source": [
        "Thread.setDefaultUncaughtExceptionHandler(new Thread.UncaughtExceptionHandler() {\n",
        "    public void uncaughtException(Thread t, Throwable e) {\n",
        "        // Handle uncaught exceptions from any thread\n",
        "    }\n",
        "});\n"
      ],
      "metadata": {
        "id": "9xZfmflb9DsS"
      },
      "execution_count": null,
      "outputs": []
    },
    {
      "cell_type": "markdown",
      "source": [
        "3. Task-based Concurrency with Futures/Promises:\n",
        "\n",
        ". Frameworks like Java’s Future, Python’s concurrent.futures, or JavaScript’s Promise provide mechanisms to handle exceptions in tasks. These abstractions can capture exceptions and allow the caller to inspect the outcome of a task (successful or failed).\n",
        "\n",
        ". Example (in Python):\n"
      ],
      "metadata": {
        "id": "pQFmyClk9GPl"
      }
    },
    {
      "cell_type": "code",
      "source": [
        "import concurrent.futures\n",
        "\n",
        "def task():\n",
        "    raise Exception(\"Something went wrong\")\n",
        "\n",
        "with concurrent.futures.ThreadPoolExecutor() as executor:\n",
        "    future = executor.submit(task)\n",
        "    try:\n",
        "        result = future.result()\n",
        "    except Exception as e:\n",
        "        print(f\"Caught an exception: {e}\")\n"
      ],
      "metadata": {
        "colab": {
          "base_uri": "https://localhost:8080/"
        },
        "id": "Q2C0pW7R9Z-R",
        "outputId": "7d883e59-74cf-4205-a7a0-90a957dbea6f"
      },
      "execution_count": 16,
      "outputs": [
        {
          "output_type": "stream",
          "name": "stdout",
          "text": [
            "Caught an exception: Something went wrong\n"
          ]
        }
      ]
    },
    {
      "cell_type": "markdown",
      "source": [
        "4. Thread Pools and Worker Models:\n",
        "\n",
        ". In many concurrent programs, threads are managed by thread pools. If a thread fails within a pool, the failure can be handled within the pool's management code, allowing other threads to continue running unaffected.\n",
        ". Worker pools often include retry mechanisms, logging, or fallback strategies to ensure resilience in case of task failure.\n",
        "5. Graceful Shutdown and Resource Cleanup (finally):\n",
        "\n",
        ". Use a finally block in conjunction with try-catch to ensure that critical resources are always released, even in case of exceptions.\n",
        "\n",
        ". Example (in Python):\n"
      ],
      "metadata": {
        "id": "9aeVNkZU9dWt"
      }
    },
    {
      "cell_type": "code",
      "source": [
        "try:\n",
        "    # Critical code that might fail\n",
        "finally:\n",
        "    # Clean up resources (like closing a file or releasing a lock)\n"
      ],
      "metadata": {
        "id": "CH4Yss7k94cC"
      },
      "execution_count": null,
      "outputs": []
    },
    {
      "cell_type": "markdown",
      "source": [
        "6. Timeouts and Cancellation:\n",
        "\n",
        ". In concurrent systems, you might want to limit the time a thread or task can run to prevent it from hanging indefinitely. Using timeouts and cancellation mechanisms helps control runaway threads and handle exceptions gracefully.\n",
        "\n",
        ". Example (in Java):\n"
      ],
      "metadata": {
        "id": "YFCQ-zH2970b"
      }
    },
    {
      "cell_type": "code",
      "source": [
        "Future<?> future = executor.submit(task);\n",
        "try {\n",
        "    future.get(10, TimeUnit.SECONDS);  // Set a timeout for task execution\n",
        "} catch (TimeoutException e) {\n",
        "    future.cancel(true);  // Cancel the task if it exceeds time limit\n",
        "}\n"
      ],
      "metadata": {
        "id": "pWjpoVGs-JIW"
      },
      "execution_count": null,
      "outputs": []
    },
    {
      "cell_type": "markdown",
      "source": [
        "7. Exception Propagation:\n",
        "\n",
        ". Some concurrent frameworks (like Java's CompletableFuture or Python's asyncio) propagate exceptions so that the calling thread can handle them.\n",
        "\n",
        ". Example (in Python's asyncio):\n"
      ],
      "metadata": {
        "id": "szd25xsI-MEn"
      }
    },
    {
      "cell_type": "code",
      "source": [
        "async def task():\n",
        "    raise Exception(\"Task failed\")\n",
        "\n",
        "async def main():\n",
        "    try:\n",
        "        await task()\n",
        "    except Exception as e:\n",
        "        print(f\"Exception caught: {e}\")\n",
        "\n",
        "asyncio.run(main())\n"
      ],
      "metadata": {
        "id": "9-hr6us5-iH4"
      },
      "execution_count": null,
      "outputs": []
    },
    {
      "cell_type": "markdown",
      "source": [
        "**Q7.Create a program that uses a thread pool to calculate the factorial of numbers from 1 to 10 concurrently.Use concurrent.futures.ThreadPoolExecutor to manage the threads**"
      ],
      "metadata": {
        "id": "P5GRiVPm-jyf"
      }
    },
    {
      "cell_type": "code",
      "source": [
        "import concurrent.futures\n",
        "import math\n",
        "\n",
        "# Function to calculate factorial of a number\n",
        "def factorial(n):\n",
        "    print(f\"Calculating factorial of {n}\")\n",
        "    return math.factorial(n)\n",
        "\n",
        "# Main function to execute the factorial calculations concurrently\n",
        "def main():\n",
        "    numbers = range(1, 11)  # Numbers from 1 to 10\n",
        "\n",
        "    # Use ThreadPoolExecutor to manage a pool of threads\n",
        "    with concurrent.futures.ThreadPoolExecutor() as executor:\n",
        "        # Submit tasks to calculate factorial for each number\n",
        "        future_to_num = {executor.submit(factorial, num): num for num in numbers}\n",
        "\n",
        "        # As each future completes, print its result\n",
        "        for future in concurrent.futures.as_completed(future_to_num):\n",
        "            num = future_to_num[future]\n",
        "            try:\n",
        "                result = future.result()\n",
        "                print(f\"Factorial of {num} is {result}\")\n",
        "            except Exception as e:\n",
        "                print(f\"An error occurred while calculating factorial of {num}: {e}\")\n",
        "\n",
        "# Run the main function\n",
        "if __name__ == \"__main__\":\n",
        "    main()\n"
      ],
      "metadata": {
        "colab": {
          "base_uri": "https://localhost:8080/"
        },
        "id": "fV0KLuon_Nb2",
        "outputId": "af4db8ac-3f1b-4e07-b17c-a2eb55472933"
      },
      "execution_count": 19,
      "outputs": [
        {
          "output_type": "stream",
          "name": "stdout",
          "text": [
            "Calculating factorial of 1\n",
            "Calculating factorial of 2\n",
            "Calculating factorial of 3\n",
            "Calculating factorial of 4\n",
            "Calculating factorial of 5Calculating factorial of 6\n",
            "\n",
            "Calculating factorial of 7\n",
            "Calculating factorial of 8\n",
            "Calculating factorial of 9\n",
            "Factorial of 9 is 362880\n",
            "Factorial of 5 is 120\n",
            "Factorial of 1 is 1\n",
            "Factorial of 3 is 6\n",
            "Factorial of 6 is 720\n",
            "Factorial of 2 is 2\n",
            "Factorial of 8 is 40320\n",
            "Factorial of 4 is 24\n",
            "Factorial of 7 is 5040\n",
            "Calculating factorial of 10\n",
            "Factorial of 10 is 3628800\n"
          ]
        }
      ]
    },
    {
      "cell_type": "markdown",
      "source": [
        "**Q8.Create a Python program that uses multiprocessing.Pool to compute the square of numbers from 1 to 10 in parallel. Measure the time taken to perform this computation using a pool of different sizes (e.g., 2, 4, 8 processe).**"
      ],
      "metadata": {
        "id": "07bJVGSD_TlV"
      }
    },
    {
      "cell_type": "code",
      "source": [
        "import multiprocessing\n",
        "import time\n",
        "\n",
        "# Function to compute the square of a number\n",
        "def square(n):\n",
        "    return n * n\n",
        "\n",
        "# Function to compute squares using a pool of processes\n",
        "def compute_squares(pool_size):\n",
        "    with multiprocessing.Pool(processes=pool_size) as pool:\n",
        "        results = pool.map(square, range(1, 11))  # Calculate squares of numbers 1 to 10\n",
        "    return results\n",
        "\n",
        "def main():\n",
        "    # Different pool sizes to test\n",
        "    pool_sizes = [2, 4, 8]\n",
        "\n",
        "    for size in pool_sizes:\n",
        "        start_time = time.time()  # Start timing\n",
        "        results = compute_squares(size)  # Compute squares\n",
        "        end_time = time.time()  # End timing\n",
        "\n",
        "        print(f\"Pool size: {size}, Squares: {results}, Time taken: {end_time - start_time:.4f} seconds\")\n",
        "\n",
        "if __name__ == \"__main__\":\n",
        "    main()\n"
      ],
      "metadata": {
        "colab": {
          "base_uri": "https://localhost:8080/"
        },
        "id": "oCNIfcYeALWS",
        "outputId": "ebdc434c-aaf1-4743-fcfd-2bf4b2541347"
      },
      "execution_count": 20,
      "outputs": [
        {
          "output_type": "stream",
          "name": "stdout",
          "text": [
            "Pool size: 2, Squares: [1, 4, 9, 16, 25, 36, 49, 64, 81, 100], Time taken: 0.0333 seconds\n",
            "Pool size: 4, Squares: [1, 4, 9, 16, 25, 36, 49, 64, 81, 100], Time taken: 0.0503 seconds\n",
            "Pool size: 8, Squares: [1, 4, 9, 16, 25, 36, 49, 64, 81, 100], Time taken: 0.0920 seconds\n"
          ]
        }
      ]
    }
  ]
}